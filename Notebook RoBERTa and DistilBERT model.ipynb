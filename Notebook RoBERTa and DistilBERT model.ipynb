{
 "cells": [
  {
   "cell_type": "markdown",
   "id": "c73b8ccb",
   "metadata": {},
   "source": [
    "# Libraries and Packages"
   ]
  },
  {
   "cell_type": "code",
   "execution_count": 1,
   "id": "a6d1dfd7",
   "metadata": {},
   "outputs": [],
   "source": [
    "# Uncomment for any libraries that are not installed\n",
    "\n",
    "# %pip install transformers\n",
    "# %pip install torch torchvision torchaudio --index-url https://download.pytorch.org/whl/cu121\n",
    "# %pip install numpy scipy scikit-learn pandas matplotlib\n",
    "# %pip install imblearn\n",
    "# %pip install nltk\n",
    "# %pip install tqdm\n",
    "# %pip install groq\n",
    "# %pip install seaborn\n",
    "# %pip install emoji"
   ]
  },
  {
   "cell_type": "code",
   "execution_count": 2,
   "id": "6e4e145a",
   "metadata": {},
   "outputs": [],
   "source": [
    "import torch\n",
    "from torch.utils.data import DataLoader, TensorDataset, random_split\n",
    "from transformers import BertTokenizer, BertForSequenceClassification, AdamW\n",
    "from transformers import get_linear_schedule_with_warmup, pipeline\n",
    "import pandas as pd\n",
    "import numpy as np\n",
    "from sklearn.model_selection import train_test_split\n",
    "import time\n",
    "import datetime\n",
    "from tqdm import tqdm\n",
    "import os\n",
    "import re\n",
    "import emoji\n",
    "from collections import Counter"
   ]
  },
  {
   "cell_type": "markdown",
   "id": "b28955f7",
   "metadata": {},
   "source": [
    "# Dataset upload and CUDA switching"
   ]
  },
  {
   "cell_type": "code",
   "execution_count": 3,
   "id": "3a2ca77d",
   "metadata": {},
   "outputs": [
    {
     "name": "stdout",
     "output_type": "stream",
     "text": [
      "Using device: cuda\n"
     ]
    },
    {
     "data": {
      "text/html": [
       "<div>\n",
       "<style scoped>\n",
       "    .dataframe tbody tr th:only-of-type {\n",
       "        vertical-align: middle;\n",
       "    }\n",
       "\n",
       "    .dataframe tbody tr th {\n",
       "        vertical-align: top;\n",
       "    }\n",
       "\n",
       "    .dataframe thead th {\n",
       "        text-align: right;\n",
       "    }\n",
       "</style>\n",
       "<table border=\"1\" class=\"dataframe\">\n",
       "  <thead>\n",
       "    <tr style=\"text-align: right;\">\n",
       "      <th></th>\n",
       "      <th>label</th>\n",
       "      <th>comment</th>\n",
       "    </tr>\n",
       "  </thead>\n",
       "  <tbody>\n",
       "    <tr>\n",
       "      <th>0</th>\n",
       "      <td>0</td>\n",
       "      <td>NC and NH.</td>\n",
       "    </tr>\n",
       "    <tr>\n",
       "      <th>1</th>\n",
       "      <td>0</td>\n",
       "      <td>You do know west teams play against west teams...</td>\n",
       "    </tr>\n",
       "    <tr>\n",
       "      <th>2</th>\n",
       "      <td>0</td>\n",
       "      <td>They were underdogs earlier today, but since G...</td>\n",
       "    </tr>\n",
       "    <tr>\n",
       "      <th>3</th>\n",
       "      <td>0</td>\n",
       "      <td>This meme isn't funny none of the \"new york ni...</td>\n",
       "    </tr>\n",
       "    <tr>\n",
       "      <th>4</th>\n",
       "      <td>0</td>\n",
       "      <td>I could use one of those tools.</td>\n",
       "    </tr>\n",
       "  </tbody>\n",
       "</table>\n",
       "</div>"
      ],
      "text/plain": [
       "   label                                            comment\n",
       "0      0                                         NC and NH.\n",
       "1      0  You do know west teams play against west teams...\n",
       "2      0  They were underdogs earlier today, but since G...\n",
       "3      0  This meme isn't funny none of the \"new york ni...\n",
       "4      0                    I could use one of those tools."
      ]
     },
     "execution_count": 3,
     "metadata": {},
     "output_type": "execute_result"
    }
   ],
   "source": [
    "# Check if CUDA is available\n",
    "device = torch.device(\"cuda\" if torch.cuda.is_available() else \"cpu\")\n",
    "print(f'Using device: {device}')\n",
    "\n",
    "# Load the dataset\n",
    "data_file = \"train-balanced-sarcasm.csv\"  # File must be in the same directory as this script\n",
    "train_data = pd.read_csv(data_file)\n",
    "train_data = train_data[['label','comment']]\n",
    "train_data.head()"
   ]
  },
  {
   "cell_type": "markdown",
   "id": "07ab57bf",
   "metadata": {},
   "source": [
    "# Pre processing"
   ]
  },
  {
   "cell_type": "code",
   "execution_count": 4,
   "id": "e10c50a9",
   "metadata": {},
   "outputs": [],
   "source": [
    "# Funzione per pulire il testo\n",
    "def clean_text(text):\n",
    "    if pd.isna(text):\n",
    "        return \"\"\n",
    "    text = str(text)\n",
    "    text = re.sub(r'http\\S+', '', text)  # Rimuove URL\n",
    "    text = re.sub(r'@\\w+', '', text)  # Rimuove menzioni\n",
    "    text = re.sub(r'#\\w+', '', text)  # Rimuove hashtag\n",
    "    text = re.sub(r'\\d+', '', text)  # Rimuove numeri\n",
    "    text = re.sub(r'[^\\w\\s]', '', text)  # Rimuove punteggiatura\n",
    "    return text.lower().strip()\n",
    "\n",
    "# Funzione per verificare se il testo è valido\n",
    "def is_valid_text(text):\n",
    "    # Rimuove emoji\n",
    "    text = emoji.replace_emoji(text, '')\n",
    "    # Rimuove spazi extra\n",
    "    text = re.sub(r'\\s+', ' ', text).strip()\n",
    "    # Verifica se il testo ha almeno 3 parole e più di 10 caratteri\n",
    "    words = text.split()\n",
    "    \n",
    "    # Verifica se ci sono parole ripetute più di 5 volte\n",
    "    word_counts = Counter(words)\n",
    "    if any(count > 5 for count in word_counts.values()):\n",
    "        return False\n",
    "    \n",
    "    return len(words) >= 3 and len(text) > 10 and not text.isnumeric()\n",
    "    \n",
    "\n"
   ]
  },
  {
   "cell_type": "code",
   "execution_count": 5,
   "id": "dc1f5e46",
   "metadata": {},
   "outputs": [
    {
     "name": "stdout",
     "output_type": "stream",
     "text": [
      "Pulizia del dataset in corso...\n",
      "Pulizia del dataset completata...\n"
     ]
    }
   ],
   "source": [
    "# Pulizia del dataset\n",
    "print(\"Pulizia del dataset in corso...\")\n",
    "train_data['cleaned_comment'] = train_data['comment'].apply(clean_text)\n",
    "train_data['is_valid'] = train_data['cleaned_comment'].apply(is_valid_text)\n",
    "train_data = train_data[train_data['is_valid']]\n",
    "train_data = train_data.drop('is_valid', axis=1)\n",
    "train_data['comment'] = train_data['comment'].astype(str)\n",
    "print(\"Pulizia del dataset completata...\")"
   ]
  },
  {
   "cell_type": "markdown",
   "id": "62c60773",
   "metadata": {},
   "source": [
    "### RoBERTa\n",
    "\n",
    "**General description**\n",
    "\n",
    "We have used a RoBERTa (A Robustly Optimized BERT Pretraining Approach) model, specifically the \"*roberta-base*\" variant, fine-tuned for sequence classification.\n",
    "Key characteristics of this model include:\n",
    "\n",
    "- **Architecture**: The RoBERTa model is based on the BERT architecture but with modifications in its pre-training approach. It consists of 12 transformer layers, 12 attention heads, and 768 hidden dimensions.\n",
    "\n",
    "- **Pre-training**: This model was pre-trained on a significantly larger corpus compared to BERT, using dynamic masking and without the next sentence prediction task. The pre-training objective was masked language modeling, and RoBERTa was trained with larger batch sizes and learning rates, making it more robust in understanding language patterns.\n",
    "\n",
    "- **Fine-tuning**: We've fine-tuned this pre-trained model for our specific task of sarcasm detection. A classification layer was added on top of the RoBERTa base model, and the model was trained on our sarcasm dataset.\n",
    "\n",
    "- **Tokenizer**: It uses the RoBERTa tokenizer, which employs Byte-Pair Encoding (BPE) for tokenization.\n",
    "\n",
    "- **Sequence Classification**: The model is configured for sequence classification, where it processes a sequence of tokens (e.g., a Reddit comment) and outputs a classification (sarcastic or not sarcastic).\n",
    "\n",
    "- **Cased**: Unlike BERT's uncased variant, RoBERTa models are cased, meaning they differentiate between uppercase and lowercase letters. This can be beneficial for tasks where case sensitivity matters.\n",
    "\n",
    "- **Size**: The \"base\" in \"roberta-base\" indicates that this is the smaller version of RoBERTa (as opposed to \"roberta-large\"), with about 125 million parameters.\n",
    "\n",
    "This model is well-suited for our task because its robust pre-training allows it to capture complex language patterns that are crucial for detecting sarcasm. The fine-tuning process adapts this general language understanding to our specific task of sarcasm detection.\n",
    "\n",
    "**Tokenization process**\n",
    "\n",
    "The tokenization process in this project was performed using the RoBERTa tokenizer, specifically the one associated with the 'roberta-base' model. Here's a brief description of how it works:\n",
    "\n",
    "*Tokenizer Initialization*:\n",
    "The tokenizer is initialized using the `RobertaTokenizer.from_pretrained('roberta-base')` method. This loads the pre-trained tokenizer that matches the RoBERTa model we're using.\n",
    "RoBERTa uses Byte-Pair Encoding (BPE) tokenization, which efficiently handles out-of-vocabulary words by breaking them into subwords. For example, \"tokenization\" might be split into \"token\" and \"ization\".\n",
    "\n",
    "*Special Tokens*:\n",
    "The tokenizer adds special tokens:\n",
    "\n",
    "- **[CLS]**: RoBERTa does not use a [CLS] token. Instead, it relies on the first token of the sequence for classification tasks.\n",
    "- **[SEP]**: Used at the end of each sequence or between sequences for pair tasks.\n",
    "\n",
    "*Encoding*:\n",
    "The tokenization process encodes each comment using the `encode_plus` method, which tokenizes the text, converts tokens to their respective IDs, adds special tokens, and generates attention masks (1 for real tokens, 0 for padding).\n",
    "\n",
    "*Padding and Truncation*:\n",
    "Sequences are padded to a maximum length (MAX_LEN = 128 in this case) with a padding token (usually [PAD]).\n",
    "If a sequence is longer than MAX_LEN, it is truncated.\n",
    "\n",
    "*Tensors Creation*:\n",
    "The tokenized and encoded data is converted into PyTorch tensors for input to the model.\n",
    "\n",
    "This process was applied to both the training and testing datasets, ensuring that the text input is in a format that the RoBERTa model can process. The use of Byte-Pair Encoding and special tokens allows the model to handle a wide variety of inputs, including words not encountered during pre-training.\n"
   ]
  },
  {
   "cell_type": "code",
   "execution_count": 6,
   "id": "40a21694",
   "metadata": {},
   "outputs": [
    {
     "name": "stdout",
     "output_type": "stream",
     "text": [
      "Dataset pulito e filtrato. Dimensioni del nuovo DataFrame: (200000, 3)\n",
      "\n",
      "Prime 5 righe del DataFrame pulito:\n",
      "   label                                            comment  \\\n",
      "1      0  You do know west teams play against west teams...   \n",
      "2      0  They were underdogs earlier today, but since G...   \n",
      "3      0  This meme isn't funny none of the \"new york ni...   \n",
      "4      0                    I could use one of those tools.   \n",
      "5      0  I don't pay attention to her, but as long as s...   \n",
      "\n",
      "                                     cleaned_comment  \n",
      "1  you do know west teams play against west teams...  \n",
      "2  they were underdogs earlier today but since gr...  \n",
      "3  this meme isnt funny none of the new york nigg...  \n",
      "4                     i could use one of those tools  \n",
      "5  i dont pay attention to her but as long as she...  \n"
     ]
    }
   ],
   "source": [
    "# Campionamento\n",
    "sample = 200000\n",
    "train_data = train_data.head(sample)\n",
    "\n",
    "print(\"Dataset pulito e filtrato. Dimensioni del nuovo DataFrame:\", train_data.shape)\n",
    "print(\"\\nPrime 5 righe del DataFrame pulito:\")\n",
    "print(train_data.head())\n",
    "\n",
    "\n",
    "comments = train_data.dropna().comment.values\n",
    "labels = train_data.dropna().label.values"
   ]
  },
  {
   "cell_type": "code",
   "execution_count": 11,
   "id": "b9685812",
   "metadata": {},
   "outputs": [
    {
     "name": "stderr",
     "output_type": "stream",
     "text": [
      "C:\\Users\\andre\\anaconda3\\envs\\myenv\\Lib\\site-packages\\transformers\\tokenization_utils_base.py:1601: FutureWarning: `clean_up_tokenization_spaces` was not set. It will be set to `True` by default. This behavior will be depracted in transformers v4.45, and will be then set to `False` by default. For more details check this issue: https://github.com/huggingface/transformers/issues/31884\n",
      "  warnings.warn(\n",
      "Some weights of RobertaForSequenceClassification were not initialized from the model checkpoint at roberta-base and are newly initialized: ['classifier.dense.bias', 'classifier.dense.weight', 'classifier.out_proj.bias', 'classifier.out_proj.weight']\n",
      "You should probably TRAIN this model on a down-stream task to be able to use it for predictions and inference.\n",
      "Tokenizing: 100%|██████████| 200000/200000 [00:32<00:00, 6156.69it/s]\n"
     ]
    }
   ],
   "source": [
    "from transformers import RobertaTokenizer, RobertaForSequenceClassification\n",
    "\n",
    "# Initialize RoBERTa tokenizer and model\n",
    "tokenizer = RobertaTokenizer.from_pretrained('roberta-base')\n",
    "model = RobertaForSequenceClassification.from_pretrained('roberta-base')\n",
    "\n",
    "# Move the model to the appropriate device (GPU or CPU)\n",
    "device = torch.device(\"cuda\" if torch.cuda.is_available() else \"cpu\")\n",
    "model.to(device)\n",
    "\n",
    "# Tokenize and encode the dataset\n",
    "MAX_LEN = 128\n",
    "BATCH_SIZE = 32  # Adjust batch size as needed for your hardware\n",
    "\n",
    "# Assuming `comments` is your list of comments and `labels` is your list of labels\n",
    "input_ids = []\n",
    "attention_masks = []\n",
    "\n",
    "# Use tqdm for a progress bar during tokenization\n",
    "for comment in tqdm(comments, desc=\"Tokenizing\"):\n",
    "    encoded_dict = tokenizer.encode_plus(\n",
    "        comment,\n",
    "        add_special_tokens=True,\n",
    "        max_length=MAX_LEN,\n",
    "        padding='max_length',\n",
    "        return_attention_mask=True,\n",
    "        return_tensors='pt',\n",
    "        truncation=True\n",
    "    )\n",
    "    input_ids.append(encoded_dict['input_ids'])\n",
    "    attention_masks.append(encoded_dict['attention_mask'])\n",
    "\n",
    "# Convert lists to tensors\n",
    "input_ids = torch.cat(input_ids, dim=0)\n",
    "attention_masks = torch.cat(attention_masks, dim=0)\n",
    "labels = torch.tensor(labels)"
   ]
  },
  {
   "cell_type": "code",
   "execution_count": 12,
   "id": "92d821df",
   "metadata": {},
   "outputs": [],
   "source": [
    "# Create DataLoader\n",
    "dataset = TensorDataset(input_ids, attention_masks, labels)\n",
    "train_size = int(0.9 * len(dataset))\n",
    "val_size = len(dataset) - train_size\n",
    "train_dataset, val_dataset = random_split(dataset, [train_size, val_size])\n",
    "\n",
    "batch_size = 32\n",
    "\n",
    "train_dataloader = DataLoader(\n",
    "    train_dataset,\n",
    "    sampler=torch.utils.data.RandomSampler(train_dataset),\n",
    "    batch_size=batch_size\n",
    ")\n",
    "\n",
    "validation_dataloader = DataLoader(\n",
    "    val_dataset,\n",
    "    sampler=torch.utils.data.SequentialSampler(val_dataset),\n",
    "    batch_size=batch_size\n",
    ")"
   ]
  },
  {
   "cell_type": "code",
   "execution_count": 13,
   "id": "18e49480",
   "metadata": {},
   "outputs": [
    {
     "name": "stderr",
     "output_type": "stream",
     "text": [
      "Some weights of RobertaForSequenceClassification were not initialized from the model checkpoint at roberta-base and are newly initialized: ['classifier.dense.bias', 'classifier.dense.weight', 'classifier.out_proj.bias', 'classifier.out_proj.weight']\n",
      "You should probably TRAIN this model on a down-stream task to be able to use it for predictions and inference.\n"
     ]
    },
    {
     "data": {
      "text/plain": [
       "RobertaForSequenceClassification(\n",
       "  (roberta): RobertaModel(\n",
       "    (embeddings): RobertaEmbeddings(\n",
       "      (word_embeddings): Embedding(50265, 768, padding_idx=1)\n",
       "      (position_embeddings): Embedding(514, 768, padding_idx=1)\n",
       "      (token_type_embeddings): Embedding(1, 768)\n",
       "      (LayerNorm): LayerNorm((768,), eps=1e-05, elementwise_affine=True)\n",
       "      (dropout): Dropout(p=0.1, inplace=False)\n",
       "    )\n",
       "    (encoder): RobertaEncoder(\n",
       "      (layer): ModuleList(\n",
       "        (0-11): 12 x RobertaLayer(\n",
       "          (attention): RobertaAttention(\n",
       "            (self): RobertaSelfAttention(\n",
       "              (query): Linear(in_features=768, out_features=768, bias=True)\n",
       "              (key): Linear(in_features=768, out_features=768, bias=True)\n",
       "              (value): Linear(in_features=768, out_features=768, bias=True)\n",
       "              (dropout): Dropout(p=0.1, inplace=False)\n",
       "            )\n",
       "            (output): RobertaSelfOutput(\n",
       "              (dense): Linear(in_features=768, out_features=768, bias=True)\n",
       "              (LayerNorm): LayerNorm((768,), eps=1e-05, elementwise_affine=True)\n",
       "              (dropout): Dropout(p=0.1, inplace=False)\n",
       "            )\n",
       "          )\n",
       "          (intermediate): RobertaIntermediate(\n",
       "            (dense): Linear(in_features=768, out_features=3072, bias=True)\n",
       "            (intermediate_act_fn): GELUActivation()\n",
       "          )\n",
       "          (output): RobertaOutput(\n",
       "            (dense): Linear(in_features=3072, out_features=768, bias=True)\n",
       "            (LayerNorm): LayerNorm((768,), eps=1e-05, elementwise_affine=True)\n",
       "            (dropout): Dropout(p=0.1, inplace=False)\n",
       "          )\n",
       "        )\n",
       "      )\n",
       "    )\n",
       "  )\n",
       "  (classifier): RobertaClassificationHead(\n",
       "    (dense): Linear(in_features=768, out_features=768, bias=True)\n",
       "    (dropout): Dropout(p=0.1, inplace=False)\n",
       "    (out_proj): Linear(in_features=768, out_features=2, bias=True)\n",
       "  )\n",
       ")"
      ]
     },
     "execution_count": 13,
     "metadata": {},
     "output_type": "execute_result"
    }
   ],
   "source": [
    "# Load pre-trained BERT model\n",
    "model = RobertaForSequenceClassification.from_pretrained(\n",
    "    \"roberta-base\",\n",
    "    num_labels=2,\n",
    "    output_attentions=False,\n",
    "    output_hidden_states=False,\n",
    ")\n",
    "\n",
    "model.to(device)"
   ]
  },
  {
   "cell_type": "markdown",
   "id": "5464e2f9",
   "metadata": {},
   "source": [
    "#### Optimization"
   ]
  },
  {
   "cell_type": "code",
   "execution_count": 14,
   "id": "8caaacc8",
   "metadata": {},
   "outputs": [
    {
     "name": "stderr",
     "output_type": "stream",
     "text": [
      "C:\\Users\\andre\\anaconda3\\envs\\myenv\\Lib\\site-packages\\transformers\\optimization.py:591: FutureWarning: This implementation of AdamW is deprecated and will be removed in a future version. Use the PyTorch implementation torch.optim.AdamW instead, or set `no_deprecation_warning=True` to disable this warning\n",
      "  warnings.warn(\n"
     ]
    }
   ],
   "source": [
    "# Set up optimizer and learning rate scheduler\n",
    "optimizer = AdamW(model.parameters(), lr=2e-5, eps=1e-8)\n",
    "\n",
    "epochs = 5\n",
    "total_steps = len(train_dataloader) * epochs\n",
    "scheduler = get_linear_schedule_with_warmup(optimizer, \n",
    "                                            num_warmup_steps=0,\n",
    "                                            num_training_steps=total_steps)"
   ]
  },
  {
   "cell_type": "markdown",
   "id": "b953b044",
   "metadata": {},
   "source": [
    "#### Training"
   ]
  },
  {
   "cell_type": "code",
   "execution_count": 15,
   "id": "d2804211",
   "metadata": {},
   "outputs": [
    {
     "name": "stdout",
     "output_type": "stream",
     "text": [
      "======== Epoch 1 / 5 ========\n",
      "Training...\n",
      "  Batch 40  of  5625.    Elapsed: 0:00:14.\n",
      "  Batch 80  of  5625.    Elapsed: 0:00:28.\n",
      "  Batch 120  of  5625.    Elapsed: 0:00:41.\n",
      "  Batch 160  of  5625.    Elapsed: 0:00:55.\n",
      "  Batch 200  of  5625.    Elapsed: 0:01:08.\n",
      "  Batch 240  of  5625.    Elapsed: 0:01:22.\n",
      "  Batch 280  of  5625.    Elapsed: 0:01:37.\n",
      "  Batch 320  of  5625.    Elapsed: 0:01:51.\n",
      "  Batch 360  of  5625.    Elapsed: 0:02:05.\n",
      "  Batch 400  of  5625.    Elapsed: 0:02:19.\n",
      "  Batch 440  of  5625.    Elapsed: 0:02:33.\n",
      "  Batch 480  of  5625.    Elapsed: 0:02:47.\n",
      "  Batch 520  of  5625.    Elapsed: 0:03:01.\n",
      "  Batch 560  of  5625.    Elapsed: 0:03:15.\n",
      "  Batch 600  of  5625.    Elapsed: 0:03:29.\n",
      "  Batch 640  of  5625.    Elapsed: 0:03:43.\n",
      "  Batch 680  of  5625.    Elapsed: 0:03:57.\n",
      "  Batch 720  of  5625.    Elapsed: 0:04:10.\n",
      "  Batch 760  of  5625.    Elapsed: 0:04:24.\n",
      "  Batch 800  of  5625.    Elapsed: 0:04:38.\n",
      "  Batch 840  of  5625.    Elapsed: 0:04:52.\n",
      "  Batch 880  of  5625.    Elapsed: 0:05:06.\n",
      "  Batch 920  of  5625.    Elapsed: 0:05:19.\n",
      "  Batch 960  of  5625.    Elapsed: 0:05:33.\n",
      "  Batch 1000  of  5625.    Elapsed: 0:05:47.\n",
      "  Batch 1040  of  5625.    Elapsed: 0:06:01.\n",
      "  Batch 1080  of  5625.    Elapsed: 0:06:14.\n",
      "  Batch 1120  of  5625.    Elapsed: 0:06:28.\n",
      "  Batch 1160  of  5625.    Elapsed: 0:06:42.\n",
      "  Batch 1200  of  5625.    Elapsed: 0:06:56.\n",
      "  Batch 1240  of  5625.    Elapsed: 0:07:10.\n",
      "  Batch 1280  of  5625.    Elapsed: 0:07:24.\n",
      "  Batch 1320  of  5625.    Elapsed: 0:07:38.\n",
      "  Batch 1360  of  5625.    Elapsed: 0:07:51.\n",
      "  Batch 1400  of  5625.    Elapsed: 0:08:05.\n",
      "  Batch 1440  of  5625.    Elapsed: 0:08:19.\n",
      "  Batch 1480  of  5625.    Elapsed: 0:08:33.\n",
      "  Batch 1520  of  5625.    Elapsed: 0:08:47.\n",
      "  Batch 1560  of  5625.    Elapsed: 0:09:01.\n",
      "  Batch 1600  of  5625.    Elapsed: 0:09:15.\n",
      "  Batch 1640  of  5625.    Elapsed: 0:09:29.\n",
      "  Batch 1680  of  5625.    Elapsed: 0:09:43.\n",
      "  Batch 1720  of  5625.    Elapsed: 0:09:57.\n",
      "  Batch 1760  of  5625.    Elapsed: 0:10:11.\n",
      "  Batch 1800  of  5625.    Elapsed: 0:10:25.\n",
      "  Batch 1840  of  5625.    Elapsed: 0:10:39.\n",
      "  Batch 1880  of  5625.    Elapsed: 0:10:53.\n",
      "  Batch 1920  of  5625.    Elapsed: 0:11:07.\n",
      "  Batch 1960  of  5625.    Elapsed: 0:11:22.\n",
      "  Batch 2000  of  5625.    Elapsed: 0:11:36.\n",
      "  Batch 2040  of  5625.    Elapsed: 0:11:50.\n",
      "  Batch 2080  of  5625.    Elapsed: 0:12:04.\n",
      "  Batch 2120  of  5625.    Elapsed: 0:12:18.\n",
      "  Batch 2160  of  5625.    Elapsed: 0:12:32.\n",
      "  Batch 2200  of  5625.    Elapsed: 0:12:46.\n",
      "  Batch 2240  of  5625.    Elapsed: 0:13:00.\n",
      "  Batch 2280  of  5625.    Elapsed: 0:13:14.\n",
      "  Batch 2320  of  5625.    Elapsed: 0:13:28.\n",
      "  Batch 2360  of  5625.    Elapsed: 0:13:41.\n",
      "  Batch 2400  of  5625.    Elapsed: 0:13:55.\n",
      "  Batch 2440  of  5625.    Elapsed: 0:14:09.\n",
      "  Batch 2480  of  5625.    Elapsed: 0:14:23.\n",
      "  Batch 2520  of  5625.    Elapsed: 0:14:37.\n",
      "  Batch 2560  of  5625.    Elapsed: 0:14:51.\n",
      "  Batch 2600  of  5625.    Elapsed: 0:15:05.\n",
      "  Batch 2640  of  5625.    Elapsed: 0:15:19.\n",
      "  Batch 2680  of  5625.    Elapsed: 0:15:33.\n",
      "  Batch 2720  of  5625.    Elapsed: 0:15:46.\n",
      "  Batch 2760  of  5625.    Elapsed: 0:16:00.\n",
      "  Batch 2800  of  5625.    Elapsed: 0:16:14.\n",
      "  Batch 2840  of  5625.    Elapsed: 0:16:28.\n",
      "  Batch 2880  of  5625.    Elapsed: 0:16:42.\n",
      "  Batch 2920  of  5625.    Elapsed: 0:16:56.\n",
      "  Batch 2960  of  5625.    Elapsed: 0:17:10.\n",
      "  Batch 3000  of  5625.    Elapsed: 0:17:24.\n",
      "  Batch 3040  of  5625.    Elapsed: 0:17:38.\n",
      "  Batch 3080  of  5625.    Elapsed: 0:17:51.\n",
      "  Batch 3120  of  5625.    Elapsed: 0:18:05.\n",
      "  Batch 3160  of  5625.    Elapsed: 0:18:19.\n",
      "  Batch 3200  of  5625.    Elapsed: 0:18:33.\n",
      "  Batch 3240  of  5625.    Elapsed: 0:18:47.\n",
      "  Batch 3280  of  5625.    Elapsed: 0:19:01.\n",
      "  Batch 3320  of  5625.    Elapsed: 0:19:15.\n",
      "  Batch 3360  of  5625.    Elapsed: 0:19:29.\n",
      "  Batch 3400  of  5625.    Elapsed: 0:19:43.\n",
      "  Batch 3440  of  5625.    Elapsed: 0:19:57.\n",
      "  Batch 3480  of  5625.    Elapsed: 0:20:11.\n",
      "  Batch 3520  of  5625.    Elapsed: 0:20:25.\n",
      "  Batch 3560  of  5625.    Elapsed: 0:20:38.\n",
      "  Batch 3600  of  5625.    Elapsed: 0:20:52.\n",
      "  Batch 3640  of  5625.    Elapsed: 0:21:06.\n",
      "  Batch 3680  of  5625.    Elapsed: 0:21:20.\n",
      "  Batch 3720  of  5625.    Elapsed: 0:21:34.\n",
      "  Batch 3760  of  5625.    Elapsed: 0:21:48.\n",
      "  Batch 3800  of  5625.    Elapsed: 0:22:02.\n",
      "  Batch 3840  of  5625.    Elapsed: 0:22:16.\n",
      "  Batch 3880  of  5625.    Elapsed: 0:22:30.\n",
      "  Batch 3920  of  5625.    Elapsed: 0:22:43.\n",
      "  Batch 3960  of  5625.    Elapsed: 0:22:57.\n",
      "  Batch 4000  of  5625.    Elapsed: 0:23:12.\n",
      "  Batch 4040  of  5625.    Elapsed: 0:23:26.\n",
      "  Batch 4080  of  5625.    Elapsed: 0:23:41.\n",
      "  Batch 4120  of  5625.    Elapsed: 0:23:55.\n",
      "  Batch 4160  of  5625.    Elapsed: 0:24:09.\n",
      "  Batch 4200  of  5625.    Elapsed: 0:24:24.\n",
      "  Batch 4240  of  5625.    Elapsed: 0:24:38.\n",
      "  Batch 4280  of  5625.    Elapsed: 0:24:52.\n",
      "  Batch 4320  of  5625.    Elapsed: 0:25:06.\n",
      "  Batch 4360  of  5625.    Elapsed: 0:25:20.\n",
      "  Batch 4400  of  5625.    Elapsed: 0:25:34.\n",
      "  Batch 4440  of  5625.    Elapsed: 0:25:48.\n",
      "  Batch 4480  of  5625.    Elapsed: 0:26:01.\n",
      "  Batch 4520  of  5625.    Elapsed: 0:26:15.\n",
      "  Batch 4560  of  5625.    Elapsed: 0:26:29.\n",
      "  Batch 4600  of  5625.    Elapsed: 0:26:43.\n",
      "  Batch 4640  of  5625.    Elapsed: 0:26:57.\n",
      "  Batch 4680  of  5625.    Elapsed: 0:27:11.\n",
      "  Batch 4720  of  5625.    Elapsed: 0:27:25.\n",
      "  Batch 4760  of  5625.    Elapsed: 0:27:39.\n",
      "  Batch 4800  of  5625.    Elapsed: 0:27:53.\n",
      "  Batch 4840  of  5625.    Elapsed: 0:28:06.\n",
      "  Batch 4880  of  5625.    Elapsed: 0:28:20.\n",
      "  Batch 4920  of  5625.    Elapsed: 0:28:34.\n",
      "  Batch 4960  of  5625.    Elapsed: 0:28:48.\n",
      "  Batch 5000  of  5625.    Elapsed: 0:29:02.\n",
      "  Batch 5040  of  5625.    Elapsed: 0:29:16.\n",
      "  Batch 5080  of  5625.    Elapsed: 0:29:30.\n",
      "  Batch 5120  of  5625.    Elapsed: 0:29:44.\n",
      "  Batch 5160  of  5625.    Elapsed: 0:29:57.\n",
      "  Batch 5200  of  5625.    Elapsed: 0:30:11.\n",
      "  Batch 5240  of  5625.    Elapsed: 0:30:25.\n",
      "  Batch 5280  of  5625.    Elapsed: 0:30:39.\n",
      "  Batch 5320  of  5625.    Elapsed: 0:30:53.\n",
      "  Batch 5360  of  5625.    Elapsed: 0:31:07.\n",
      "  Batch 5400  of  5625.    Elapsed: 0:31:21.\n",
      "  Batch 5440  of  5625.    Elapsed: 0:31:34.\n",
      "  Batch 5480  of  5625.    Elapsed: 0:31:48.\n",
      "  Batch 5520  of  5625.    Elapsed: 0:32:02.\n",
      "  Batch 5560  of  5625.    Elapsed: 0:32:16.\n",
      "  Batch 5600  of  5625.    Elapsed: 0:32:30.\n",
      "  Average training loss: 0.53\n",
      "  Training epoch took: 0:32:39\n",
      "\n",
      "Running Validation...\n",
      "  Accuracy: 0.74\n",
      "  Validation Loss: 0.52\n",
      "  Validation took: 0:01:13\n",
      "======== Epoch 2 / 5 ========\n",
      "Training...\n",
      "  Batch 40  of  5625.    Elapsed: 0:00:14.\n",
      "  Batch 80  of  5625.    Elapsed: 0:00:28.\n",
      "  Batch 120  of  5625.    Elapsed: 0:00:42.\n",
      "  Batch 160  of  5625.    Elapsed: 0:00:56.\n",
      "  Batch 200  of  5625.    Elapsed: 0:01:09.\n",
      "  Batch 240  of  5625.    Elapsed: 0:01:23.\n",
      "  Batch 280  of  5625.    Elapsed: 0:01:37.\n",
      "  Batch 320  of  5625.    Elapsed: 0:01:51.\n",
      "  Batch 360  of  5625.    Elapsed: 0:02:05.\n",
      "  Batch 400  of  5625.    Elapsed: 0:02:19.\n",
      "  Batch 440  of  5625.    Elapsed: 0:02:33.\n",
      "  Batch 480  of  5625.    Elapsed: 0:02:46.\n",
      "  Batch 520  of  5625.    Elapsed: 0:03:00.\n",
      "  Batch 560  of  5625.    Elapsed: 0:03:14.\n",
      "  Batch 600  of  5625.    Elapsed: 0:03:28.\n",
      "  Batch 640  of  5625.    Elapsed: 0:03:42.\n",
      "  Batch 680  of  5625.    Elapsed: 0:03:56.\n",
      "  Batch 720  of  5625.    Elapsed: 0:04:10.\n",
      "  Batch 760  of  5625.    Elapsed: 0:04:24.\n",
      "  Batch 800  of  5625.    Elapsed: 0:04:37.\n",
      "  Batch 840  of  5625.    Elapsed: 0:04:52.\n",
      "  Batch 880  of  5625.    Elapsed: 0:05:06.\n",
      "  Batch 920  of  5625.    Elapsed: 0:05:20.\n",
      "  Batch 960  of  5625.    Elapsed: 0:05:34.\n",
      "  Batch 1000  of  5625.    Elapsed: 0:05:49.\n",
      "  Batch 1040  of  5625.    Elapsed: 0:06:03.\n",
      "  Batch 1080  of  5625.    Elapsed: 0:06:17.\n",
      "  Batch 1120  of  5625.    Elapsed: 0:06:31.\n",
      "  Batch 1160  of  5625.    Elapsed: 0:06:46.\n",
      "  Batch 1200  of  5625.    Elapsed: 0:07:00.\n",
      "  Batch 1240  of  5625.    Elapsed: 0:07:14.\n",
      "  Batch 1280  of  5625.    Elapsed: 0:07:29.\n",
      "  Batch 1320  of  5625.    Elapsed: 0:07:43.\n",
      "  Batch 1360  of  5625.    Elapsed: 0:07:57.\n",
      "  Batch 1400  of  5625.    Elapsed: 0:08:11.\n",
      "  Batch 1440  of  5625.    Elapsed: 0:08:26.\n",
      "  Batch 1480  of  5625.    Elapsed: 0:08:40.\n",
      "  Batch 1520  of  5625.    Elapsed: 0:08:54.\n"
     ]
    },
    {
     "name": "stdout",
     "output_type": "stream",
     "text": [
      "  Batch 1560  of  5625.    Elapsed: 0:09:09.\n",
      "  Batch 1600  of  5625.    Elapsed: 0:09:23.\n",
      "  Batch 1640  of  5625.    Elapsed: 0:09:37.\n",
      "  Batch 1680  of  5625.    Elapsed: 0:09:52.\n",
      "  Batch 1720  of  5625.    Elapsed: 0:10:06.\n",
      "  Batch 1760  of  5625.    Elapsed: 0:10:20.\n",
      "  Batch 1800  of  5625.    Elapsed: 0:10:34.\n",
      "  Batch 1840  of  5625.    Elapsed: 0:10:49.\n",
      "  Batch 1880  of  5625.    Elapsed: 0:11:03.\n",
      "  Batch 1920  of  5625.    Elapsed: 0:11:17.\n",
      "  Batch 1960  of  5625.    Elapsed: 0:11:32.\n",
      "  Batch 2000  of  5625.    Elapsed: 0:11:46.\n",
      "  Batch 2040  of  5625.    Elapsed: 0:12:00.\n",
      "  Batch 2080  of  5625.    Elapsed: 0:12:14.\n",
      "  Batch 2120  of  5625.    Elapsed: 0:12:29.\n",
      "  Batch 2160  of  5625.    Elapsed: 0:12:43.\n",
      "  Batch 2200  of  5625.    Elapsed: 0:12:57.\n",
      "  Batch 2240  of  5625.    Elapsed: 0:13:12.\n",
      "  Batch 2280  of  5625.    Elapsed: 0:13:26.\n",
      "  Batch 2320  of  5625.    Elapsed: 0:13:40.\n",
      "  Batch 2360  of  5625.    Elapsed: 0:13:55.\n",
      "  Batch 2400  of  5625.    Elapsed: 0:14:09.\n",
      "  Batch 2440  of  5625.    Elapsed: 0:14:23.\n",
      "  Batch 2480  of  5625.    Elapsed: 0:14:38.\n",
      "  Batch 2520  of  5625.    Elapsed: 0:14:52.\n",
      "  Batch 2560  of  5625.    Elapsed: 0:15:06.\n",
      "  Batch 2600  of  5625.    Elapsed: 0:15:20.\n",
      "  Batch 2640  of  5625.    Elapsed: 0:15:35.\n",
      "  Batch 2680  of  5625.    Elapsed: 0:15:49.\n",
      "  Batch 2720  of  5625.    Elapsed: 0:16:03.\n",
      "  Batch 2760  of  5625.    Elapsed: 0:16:18.\n",
      "  Batch 2800  of  5625.    Elapsed: 0:16:32.\n",
      "  Batch 2840  of  5625.    Elapsed: 0:16:46.\n",
      "  Batch 2880  of  5625.    Elapsed: 0:17:01.\n",
      "  Batch 2920  of  5625.    Elapsed: 0:17:15.\n",
      "  Batch 2960  of  5625.    Elapsed: 0:17:29.\n",
      "  Batch 3000  of  5625.    Elapsed: 0:17:44.\n",
      "  Batch 3040  of  5625.    Elapsed: 0:17:58.\n",
      "  Batch 3080  of  5625.    Elapsed: 0:18:12.\n",
      "  Batch 3120  of  5625.    Elapsed: 0:18:27.\n",
      "  Batch 3160  of  5625.    Elapsed: 0:18:41.\n",
      "  Batch 3200  of  5625.    Elapsed: 0:18:55.\n",
      "  Batch 3240  of  5625.    Elapsed: 0:19:10.\n",
      "  Batch 3280  of  5625.    Elapsed: 0:19:24.\n",
      "  Batch 3320  of  5625.    Elapsed: 0:19:38.\n",
      "  Batch 3360  of  5625.    Elapsed: 0:19:52.\n",
      "  Batch 3400  of  5625.    Elapsed: 0:20:07.\n",
      "  Batch 3440  of  5625.    Elapsed: 0:20:21.\n",
      "  Batch 3480  of  5625.    Elapsed: 0:20:35.\n",
      "  Batch 3520  of  5625.    Elapsed: 0:20:50.\n",
      "  Batch 3560  of  5625.    Elapsed: 0:21:04.\n",
      "  Batch 3600  of  5625.    Elapsed: 0:21:18.\n",
      "  Batch 3640  of  5625.    Elapsed: 0:21:32.\n",
      "  Batch 3680  of  5625.    Elapsed: 0:21:47.\n",
      "  Batch 3720  of  5625.    Elapsed: 0:22:01.\n",
      "  Batch 3760  of  5625.    Elapsed: 0:22:15.\n",
      "  Batch 3800  of  5625.    Elapsed: 0:22:30.\n",
      "  Batch 3840  of  5625.    Elapsed: 0:22:44.\n",
      "  Batch 3880  of  5625.    Elapsed: 0:22:58.\n",
      "  Batch 3920  of  5625.    Elapsed: 0:23:13.\n",
      "  Batch 3960  of  5625.    Elapsed: 0:23:27.\n",
      "  Batch 4000  of  5625.    Elapsed: 0:23:41.\n",
      "  Batch 4040  of  5625.    Elapsed: 0:23:56.\n",
      "  Batch 4080  of  5625.    Elapsed: 0:24:10.\n",
      "  Batch 4120  of  5625.    Elapsed: 0:24:24.\n",
      "  Batch 4160  of  5625.    Elapsed: 0:24:38.\n",
      "  Batch 4200  of  5625.    Elapsed: 0:24:53.\n",
      "  Batch 4240  of  5625.    Elapsed: 0:25:07.\n",
      "  Batch 4280  of  5625.    Elapsed: 0:25:22.\n",
      "  Batch 4320  of  5625.    Elapsed: 0:25:36.\n",
      "  Batch 4360  of  5625.    Elapsed: 0:25:50.\n",
      "  Batch 4400  of  5625.    Elapsed: 0:26:04.\n",
      "  Batch 4440  of  5625.    Elapsed: 0:26:18.\n",
      "  Batch 4480  of  5625.    Elapsed: 0:26:32.\n",
      "  Batch 4520  of  5625.    Elapsed: 0:26:45.\n",
      "  Batch 4560  of  5625.    Elapsed: 0:26:59.\n",
      "  Batch 4600  of  5625.    Elapsed: 0:27:13.\n",
      "  Batch 4640  of  5625.    Elapsed: 0:27:27.\n",
      "  Batch 4680  of  5625.    Elapsed: 0:27:41.\n",
      "  Batch 4720  of  5625.    Elapsed: 0:27:55.\n",
      "  Batch 4760  of  5625.    Elapsed: 0:28:09.\n",
      "  Batch 4800  of  5625.    Elapsed: 0:28:23.\n",
      "  Batch 4840  of  5625.    Elapsed: 0:28:37.\n",
      "  Batch 4880  of  5625.    Elapsed: 0:28:51.\n",
      "  Batch 4920  of  5625.    Elapsed: 0:29:05.\n",
      "  Batch 4960  of  5625.    Elapsed: 0:29:18.\n",
      "  Batch 5000  of  5625.    Elapsed: 0:29:32.\n",
      "  Batch 5040  of  5625.    Elapsed: 0:29:46.\n",
      "  Batch 5080  of  5625.    Elapsed: 0:30:00.\n",
      "  Batch 5120  of  5625.    Elapsed: 0:30:14.\n",
      "  Batch 5160  of  5625.    Elapsed: 0:30:28.\n",
      "  Batch 5200  of  5625.    Elapsed: 0:30:42.\n",
      "  Batch 5240  of  5625.    Elapsed: 0:30:56.\n",
      "  Batch 5280  of  5625.    Elapsed: 0:31:10.\n",
      "  Batch 5320  of  5625.    Elapsed: 0:31:23.\n",
      "  Batch 5360  of  5625.    Elapsed: 0:31:37.\n",
      "  Batch 5400  of  5625.    Elapsed: 0:31:51.\n",
      "  Batch 5440  of  5625.    Elapsed: 0:32:05.\n",
      "  Batch 5480  of  5625.    Elapsed: 0:32:19.\n",
      "  Batch 5520  of  5625.    Elapsed: 0:32:33.\n",
      "  Batch 5560  of  5625.    Elapsed: 0:32:47.\n",
      "  Batch 5600  of  5625.    Elapsed: 0:33:01.\n",
      "  Average training loss: 0.46\n",
      "  Training epoch took: 0:33:09\n",
      "\n",
      "Running Validation...\n",
      "  Accuracy: 0.77\n",
      "  Validation Loss: 0.51\n",
      "  Validation took: 0:01:13\n",
      "======== Epoch 3 / 5 ========\n",
      "Training...\n",
      "  Batch 40  of  5625.    Elapsed: 0:00:14.\n",
      "  Batch 80  of  5625.    Elapsed: 0:00:28.\n",
      "  Batch 120  of  5625.    Elapsed: 0:00:42.\n",
      "  Batch 160  of  5625.    Elapsed: 0:00:56.\n",
      "  Batch 200  of  5625.    Elapsed: 0:01:10.\n",
      "  Batch 240  of  5625.    Elapsed: 0:01:23.\n",
      "  Batch 280  of  5625.    Elapsed: 0:01:37.\n",
      "  Batch 320  of  5625.    Elapsed: 0:01:51.\n",
      "  Batch 360  of  5625.    Elapsed: 0:02:05.\n",
      "  Batch 400  of  5625.    Elapsed: 0:02:19.\n",
      "  Batch 440  of  5625.    Elapsed: 0:02:33.\n",
      "  Batch 480  of  5625.    Elapsed: 0:02:47.\n",
      "  Batch 520  of  5625.    Elapsed: 0:03:01.\n",
      "  Batch 560  of  5625.    Elapsed: 0:03:15.\n",
      "  Batch 600  of  5625.    Elapsed: 0:03:29.\n",
      "  Batch 640  of  5625.    Elapsed: 0:03:42.\n",
      "  Batch 680  of  5625.    Elapsed: 0:03:56.\n",
      "  Batch 720  of  5625.    Elapsed: 0:04:10.\n",
      "  Batch 760  of  5625.    Elapsed: 0:04:24.\n",
      "  Batch 800  of  5625.    Elapsed: 0:04:38.\n",
      "  Batch 840  of  5625.    Elapsed: 0:04:52.\n",
      "  Batch 880  of  5625.    Elapsed: 0:05:06.\n",
      "  Batch 920  of  5625.    Elapsed: 0:05:20.\n",
      "  Batch 960  of  5625.    Elapsed: 0:05:33.\n",
      "  Batch 1000  of  5625.    Elapsed: 0:05:47.\n",
      "  Batch 1040  of  5625.    Elapsed: 0:06:01.\n",
      "  Batch 1080  of  5625.    Elapsed: 0:06:15.\n",
      "  Batch 1120  of  5625.    Elapsed: 0:06:29.\n",
      "  Batch 1160  of  5625.    Elapsed: 0:06:43.\n",
      "  Batch 1200  of  5625.    Elapsed: 0:06:56.\n",
      "  Batch 1240  of  5625.    Elapsed: 0:07:10.\n",
      "  Batch 1280  of  5625.    Elapsed: 0:07:24.\n",
      "  Batch 1320  of  5625.    Elapsed: 0:07:38.\n",
      "  Batch 1360  of  5625.    Elapsed: 0:07:52.\n",
      "  Batch 1400  of  5625.    Elapsed: 0:08:06.\n",
      "  Batch 1440  of  5625.    Elapsed: 0:08:20.\n",
      "  Batch 1480  of  5625.    Elapsed: 0:08:34.\n",
      "  Batch 1520  of  5625.    Elapsed: 0:08:47.\n",
      "  Batch 1560  of  5625.    Elapsed: 0:09:01.\n",
      "  Batch 1600  of  5625.    Elapsed: 0:09:15.\n",
      "  Batch 1640  of  5625.    Elapsed: 0:09:29.\n",
      "  Batch 1680  of  5625.    Elapsed: 0:09:43.\n",
      "  Batch 1720  of  5625.    Elapsed: 0:09:57.\n",
      "  Batch 1760  of  5625.    Elapsed: 0:10:11.\n",
      "  Batch 1800  of  5625.    Elapsed: 0:10:24.\n",
      "  Batch 1840  of  5625.    Elapsed: 0:10:38.\n",
      "  Batch 1880  of  5625.    Elapsed: 0:10:52.\n",
      "  Batch 1920  of  5625.    Elapsed: 0:11:06.\n",
      "  Batch 1960  of  5625.    Elapsed: 0:11:20.\n",
      "  Batch 2000  of  5625.    Elapsed: 0:11:34.\n",
      "  Batch 2040  of  5625.    Elapsed: 0:11:48.\n",
      "  Batch 2080  of  5625.    Elapsed: 0:12:03.\n",
      "  Batch 2120  of  5625.    Elapsed: 0:12:17.\n",
      "  Batch 2160  of  5625.    Elapsed: 0:12:31.\n",
      "  Batch 2200  of  5625.    Elapsed: 0:12:45.\n",
      "  Batch 2240  of  5625.    Elapsed: 0:13:00.\n",
      "  Batch 2280  of  5625.    Elapsed: 0:13:14.\n",
      "  Batch 2320  of  5625.    Elapsed: 0:13:28.\n",
      "  Batch 2360  of  5625.    Elapsed: 0:13:42.\n",
      "  Batch 2400  of  5625.    Elapsed: 0:13:56.\n",
      "  Batch 2440  of  5625.    Elapsed: 0:14:11.\n",
      "  Batch 2480  of  5625.    Elapsed: 0:14:25.\n",
      "  Batch 2520  of  5625.    Elapsed: 0:14:39.\n",
      "  Batch 2560  of  5625.    Elapsed: 0:14:54.\n",
      "  Batch 2600  of  5625.    Elapsed: 0:15:08.\n",
      "  Batch 2640  of  5625.    Elapsed: 0:15:22.\n",
      "  Batch 2680  of  5625.    Elapsed: 0:15:36.\n",
      "  Batch 2720  of  5625.    Elapsed: 0:15:51.\n",
      "  Batch 2760  of  5625.    Elapsed: 0:16:05.\n",
      "  Batch 2800  of  5625.    Elapsed: 0:16:19.\n",
      "  Batch 2840  of  5625.    Elapsed: 0:16:33.\n",
      "  Batch 2880  of  5625.    Elapsed: 0:16:48.\n",
      "  Batch 2920  of  5625.    Elapsed: 0:17:02.\n",
      "  Batch 2960  of  5625.    Elapsed: 0:17:16.\n",
      "  Batch 3000  of  5625.    Elapsed: 0:17:30.\n",
      "  Batch 3040  of  5625.    Elapsed: 0:17:45.\n",
      "  Batch 3080  of  5625.    Elapsed: 0:17:59.\n"
     ]
    },
    {
     "name": "stdout",
     "output_type": "stream",
     "text": [
      "  Batch 3120  of  5625.    Elapsed: 0:18:13.\n",
      "  Batch 3160  of  5625.    Elapsed: 0:18:27.\n",
      "  Batch 3200  of  5625.    Elapsed: 0:18:42.\n",
      "  Batch 3240  of  5625.    Elapsed: 0:18:56.\n",
      "  Batch 3280  of  5625.    Elapsed: 0:19:10.\n",
      "  Batch 3320  of  5625.    Elapsed: 0:19:24.\n",
      "  Batch 3360  of  5625.    Elapsed: 0:19:39.\n",
      "  Batch 3400  of  5625.    Elapsed: 0:19:53.\n",
      "  Batch 3440  of  5625.    Elapsed: 0:20:07.\n",
      "  Batch 3480  of  5625.    Elapsed: 0:20:21.\n",
      "  Batch 3520  of  5625.    Elapsed: 0:20:36.\n",
      "  Batch 3560  of  5625.    Elapsed: 0:20:50.\n",
      "  Batch 3600  of  5625.    Elapsed: 0:21:04.\n",
      "  Batch 3640  of  5625.    Elapsed: 0:21:18.\n",
      "  Batch 3680  of  5625.    Elapsed: 0:21:33.\n",
      "  Batch 3720  of  5625.    Elapsed: 0:21:47.\n",
      "  Batch 3760  of  5625.    Elapsed: 0:22:01.\n",
      "  Batch 3800  of  5625.    Elapsed: 0:22:15.\n",
      "  Batch 3840  of  5625.    Elapsed: 0:22:30.\n",
      "  Batch 3880  of  5625.    Elapsed: 0:22:44.\n",
      "  Batch 3920  of  5625.    Elapsed: 0:22:58.\n",
      "  Batch 3960  of  5625.    Elapsed: 0:23:12.\n",
      "  Batch 4000  of  5625.    Elapsed: 0:23:27.\n",
      "  Batch 4040  of  5625.    Elapsed: 0:23:41.\n",
      "  Batch 4080  of  5625.    Elapsed: 0:23:55.\n",
      "  Batch 4120  of  5625.    Elapsed: 0:24:10.\n",
      "  Batch 4160  of  5625.    Elapsed: 0:24:24.\n",
      "  Batch 4200  of  5625.    Elapsed: 0:24:38.\n",
      "  Batch 4240  of  5625.    Elapsed: 0:24:52.\n",
      "  Batch 4280  of  5625.    Elapsed: 0:25:07.\n",
      "  Batch 4320  of  5625.    Elapsed: 0:25:21.\n",
      "  Batch 4360  of  5625.    Elapsed: 0:25:35.\n",
      "  Batch 4400  of  5625.    Elapsed: 0:25:49.\n",
      "  Batch 4440  of  5625.    Elapsed: 0:26:04.\n",
      "  Batch 4480  of  5625.    Elapsed: 0:26:18.\n",
      "  Batch 4520  of  5625.    Elapsed: 0:26:32.\n",
      "  Batch 4560  of  5625.    Elapsed: 0:26:46.\n",
      "  Batch 4600  of  5625.    Elapsed: 0:27:01.\n",
      "  Batch 4640  of  5625.    Elapsed: 0:27:15.\n",
      "  Batch 4680  of  5625.    Elapsed: 0:27:29.\n",
      "  Batch 4720  of  5625.    Elapsed: 0:27:44.\n",
      "  Batch 4760  of  5625.    Elapsed: 0:27:58.\n",
      "  Batch 4800  of  5625.    Elapsed: 0:28:12.\n",
      "  Batch 4840  of  5625.    Elapsed: 0:28:26.\n",
      "  Batch 4880  of  5625.    Elapsed: 0:28:41.\n",
      "  Batch 4920  of  5625.    Elapsed: 0:28:55.\n",
      "  Batch 4960  of  5625.    Elapsed: 0:29:09.\n",
      "  Batch 5000  of  5625.    Elapsed: 0:29:24.\n",
      "  Batch 5040  of  5625.    Elapsed: 0:29:38.\n",
      "  Batch 5080  of  5625.    Elapsed: 0:29:52.\n",
      "  Batch 5120  of  5625.    Elapsed: 0:30:06.\n",
      "  Batch 5160  of  5625.    Elapsed: 0:30:20.\n",
      "  Batch 5200  of  5625.    Elapsed: 0:30:34.\n",
      "  Batch 5240  of  5625.    Elapsed: 0:30:48.\n",
      "  Batch 5280  of  5625.    Elapsed: 0:31:01.\n",
      "  Batch 5320  of  5625.    Elapsed: 0:31:15.\n",
      "  Batch 5360  of  5625.    Elapsed: 0:31:29.\n",
      "  Batch 5400  of  5625.    Elapsed: 0:31:43.\n",
      "  Batch 5440  of  5625.    Elapsed: 0:31:57.\n",
      "  Batch 5480  of  5625.    Elapsed: 0:32:11.\n",
      "  Batch 5520  of  5625.    Elapsed: 0:32:25.\n",
      "  Batch 5560  of  5625.    Elapsed: 0:32:39.\n",
      "  Batch 5600  of  5625.    Elapsed: 0:32:52.\n",
      "  Average training loss: 0.39\n",
      "  Training epoch took: 0:33:01\n",
      "\n",
      "Running Validation...\n",
      "  Accuracy: 0.76\n",
      "  Validation Loss: 0.56\n",
      "  Validation took: 0:01:13\n",
      "======== Epoch 4 / 5 ========\n",
      "Training...\n",
      "  Batch 40  of  5625.    Elapsed: 0:00:14.\n",
      "  Batch 80  of  5625.    Elapsed: 0:00:28.\n",
      "  Batch 120  of  5625.    Elapsed: 0:00:42.\n",
      "  Batch 160  of  5625.    Elapsed: 0:00:56.\n",
      "  Batch 200  of  5625.    Elapsed: 0:01:10.\n",
      "  Batch 240  of  5625.    Elapsed: 0:01:24.\n",
      "  Batch 280  of  5625.    Elapsed: 0:01:38.\n",
      "  Batch 320  of  5625.    Elapsed: 0:01:52.\n",
      "  Batch 360  of  5625.    Elapsed: 0:02:06.\n",
      "  Batch 400  of  5625.    Elapsed: 0:02:20.\n",
      "  Batch 440  of  5625.    Elapsed: 0:02:34.\n",
      "  Batch 480  of  5625.    Elapsed: 0:02:48.\n",
      "  Batch 520  of  5625.    Elapsed: 0:03:02.\n",
      "  Batch 560  of  5625.    Elapsed: 0:03:15.\n",
      "  Batch 600  of  5625.    Elapsed: 0:03:29.\n",
      "  Batch 640  of  5625.    Elapsed: 0:03:43.\n",
      "  Batch 680  of  5625.    Elapsed: 0:03:57.\n",
      "  Batch 720  of  5625.    Elapsed: 0:04:11.\n",
      "  Batch 760  of  5625.    Elapsed: 0:04:25.\n",
      "  Batch 800  of  5625.    Elapsed: 0:04:39.\n",
      "  Batch 840  of  5625.    Elapsed: 0:04:53.\n",
      "  Batch 880  of  5625.    Elapsed: 0:05:07.\n",
      "  Batch 920  of  5625.    Elapsed: 0:05:20.\n",
      "  Batch 960  of  5625.    Elapsed: 0:05:34.\n",
      "  Batch 1000  of  5625.    Elapsed: 0:05:48.\n",
      "  Batch 1040  of  5625.    Elapsed: 0:06:02.\n",
      "  Batch 1080  of  5625.    Elapsed: 0:06:16.\n",
      "  Batch 1120  of  5625.    Elapsed: 0:06:30.\n",
      "  Batch 1160  of  5625.    Elapsed: 0:06:44.\n",
      "  Batch 1200  of  5625.    Elapsed: 0:06:58.\n",
      "  Batch 1240  of  5625.    Elapsed: 0:07:12.\n",
      "  Batch 1280  of  5625.    Elapsed: 0:07:25.\n",
      "  Batch 1320  of  5625.    Elapsed: 0:07:39.\n",
      "  Batch 1360  of  5625.    Elapsed: 0:07:53.\n",
      "  Batch 1400  of  5625.    Elapsed: 0:08:07.\n",
      "  Batch 1440  of  5625.    Elapsed: 0:08:21.\n",
      "  Batch 1480  of  5625.    Elapsed: 0:08:35.\n",
      "  Batch 1520  of  5625.    Elapsed: 0:08:49.\n",
      "  Batch 1560  of  5625.    Elapsed: 0:09:03.\n",
      "  Batch 1600  of  5625.    Elapsed: 0:09:17.\n",
      "  Batch 1640  of  5625.    Elapsed: 0:09:31.\n",
      "  Batch 1680  of  5625.    Elapsed: 0:09:44.\n",
      "  Batch 1720  of  5625.    Elapsed: 0:09:59.\n",
      "  Batch 1760  of  5625.    Elapsed: 0:10:13.\n",
      "  Batch 1800  of  5625.    Elapsed: 0:10:27.\n",
      "  Batch 1840  of  5625.    Elapsed: 0:10:42.\n",
      "  Batch 1880  of  5625.    Elapsed: 0:10:56.\n",
      "  Batch 1920  of  5625.    Elapsed: 0:11:11.\n",
      "  Batch 1960  of  5625.    Elapsed: 0:11:25.\n",
      "  Batch 2000  of  5625.    Elapsed: 0:11:39.\n",
      "  Batch 2040  of  5625.    Elapsed: 0:11:53.\n",
      "  Batch 2080  of  5625.    Elapsed: 0:12:08.\n",
      "  Batch 2120  of  5625.    Elapsed: 0:12:22.\n",
      "  Batch 2160  of  5625.    Elapsed: 0:12:36.\n",
      "  Batch 2200  of  5625.    Elapsed: 0:12:51.\n",
      "  Batch 2240  of  5625.    Elapsed: 0:13:05.\n",
      "  Batch 2280  of  5625.    Elapsed: 0:13:19.\n",
      "  Batch 2320  of  5625.    Elapsed: 0:13:33.\n",
      "  Batch 2360  of  5625.    Elapsed: 0:13:48.\n",
      "  Batch 2400  of  5625.    Elapsed: 0:14:02.\n",
      "  Batch 2440  of  5625.    Elapsed: 0:14:16.\n",
      "  Batch 2480  of  5625.    Elapsed: 0:14:30.\n",
      "  Batch 2520  of  5625.    Elapsed: 0:14:44.\n",
      "  Batch 2560  of  5625.    Elapsed: 0:14:58.\n",
      "  Batch 2600  of  5625.    Elapsed: 0:15:12.\n",
      "  Batch 2640  of  5625.    Elapsed: 0:15:25.\n",
      "  Batch 2680  of  5625.    Elapsed: 0:15:39.\n",
      "  Batch 2720  of  5625.    Elapsed: 0:15:53.\n",
      "  Batch 2760  of  5625.    Elapsed: 0:16:07.\n",
      "  Batch 2800  of  5625.    Elapsed: 0:16:21.\n",
      "  Batch 2840  of  5625.    Elapsed: 0:16:35.\n",
      "  Batch 2880  of  5625.    Elapsed: 0:16:49.\n",
      "  Batch 2920  of  5625.    Elapsed: 0:17:03.\n",
      "  Batch 2960  of  5625.    Elapsed: 0:17:17.\n",
      "  Batch 3000  of  5625.    Elapsed: 0:17:31.\n",
      "  Batch 3040  of  5625.    Elapsed: 0:17:44.\n",
      "  Batch 3080  of  5625.    Elapsed: 0:17:58.\n",
      "  Batch 3120  of  5625.    Elapsed: 0:18:12.\n",
      "  Batch 3160  of  5625.    Elapsed: 0:18:26.\n",
      "  Batch 3200  of  5625.    Elapsed: 0:18:40.\n",
      "  Batch 3240  of  5625.    Elapsed: 0:18:54.\n",
      "  Batch 3280  of  5625.    Elapsed: 0:19:08.\n",
      "  Batch 3320  of  5625.    Elapsed: 0:19:22.\n",
      "  Batch 3360  of  5625.    Elapsed: 0:19:35.\n",
      "  Batch 3400  of  5625.    Elapsed: 0:19:49.\n",
      "  Batch 3440  of  5625.    Elapsed: 0:20:03.\n",
      "  Batch 3480  of  5625.    Elapsed: 0:20:17.\n",
      "  Batch 3520  of  5625.    Elapsed: 0:20:31.\n",
      "  Batch 3560  of  5625.    Elapsed: 0:20:45.\n",
      "  Batch 3600  of  5625.    Elapsed: 0:20:59.\n",
      "  Batch 3640  of  5625.    Elapsed: 0:21:12.\n",
      "  Batch 3680  of  5625.    Elapsed: 0:21:26.\n",
      "  Batch 3720  of  5625.    Elapsed: 0:21:40.\n",
      "  Batch 3760  of  5625.    Elapsed: 0:21:54.\n",
      "  Batch 3800  of  5625.    Elapsed: 0:22:08.\n",
      "  Batch 3840  of  5625.    Elapsed: 0:22:22.\n",
      "  Batch 3880  of  5625.    Elapsed: 0:22:36.\n",
      "  Batch 3920  of  5625.    Elapsed: 0:22:50.\n",
      "  Batch 3960  of  5625.    Elapsed: 0:23:03.\n",
      "  Batch 4000  of  5625.    Elapsed: 0:23:17.\n",
      "  Batch 4040  of  5625.    Elapsed: 0:23:31.\n",
      "  Batch 4080  of  5625.    Elapsed: 0:23:45.\n",
      "  Batch 4120  of  5625.    Elapsed: 0:23:59.\n",
      "  Batch 4160  of  5625.    Elapsed: 0:24:13.\n",
      "  Batch 4200  of  5625.    Elapsed: 0:24:27.\n",
      "  Batch 4240  of  5625.    Elapsed: 0:24:40.\n",
      "  Batch 4280  of  5625.    Elapsed: 0:24:54.\n",
      "  Batch 4320  of  5625.    Elapsed: 0:25:08.\n",
      "  Batch 4360  of  5625.    Elapsed: 0:25:22.\n",
      "  Batch 4400  of  5625.    Elapsed: 0:25:36.\n",
      "  Batch 4440  of  5625.    Elapsed: 0:25:50.\n",
      "  Batch 4480  of  5625.    Elapsed: 0:26:04.\n",
      "  Batch 4520  of  5625.    Elapsed: 0:26:18.\n",
      "  Batch 4560  of  5625.    Elapsed: 0:26:32.\n",
      "  Batch 4600  of  5625.    Elapsed: 0:26:46.\n",
      "  Batch 4640  of  5625.    Elapsed: 0:27:00.\n"
     ]
    },
    {
     "name": "stdout",
     "output_type": "stream",
     "text": [
      "  Batch 4680  of  5625.    Elapsed: 0:27:14.\n",
      "  Batch 4720  of  5625.    Elapsed: 0:27:28.\n",
      "  Batch 4760  of  5625.    Elapsed: 0:27:42.\n",
      "  Batch 4800  of  5625.    Elapsed: 0:27:56.\n",
      "  Batch 4840  of  5625.    Elapsed: 0:28:10.\n",
      "  Batch 4880  of  5625.    Elapsed: 0:28:24.\n",
      "  Batch 4920  of  5625.    Elapsed: 0:28:38.\n",
      "  Batch 4960  of  5625.    Elapsed: 0:28:51.\n",
      "  Batch 5000  of  5625.    Elapsed: 0:29:05.\n",
      "  Batch 5040  of  5625.    Elapsed: 0:29:19.\n",
      "  Batch 5080  of  5625.    Elapsed: 0:29:33.\n",
      "  Batch 5120  of  5625.    Elapsed: 0:29:47.\n",
      "  Batch 5160  of  5625.    Elapsed: 0:30:01.\n",
      "  Batch 5200  of  5625.    Elapsed: 0:30:15.\n",
      "  Batch 5240  of  5625.    Elapsed: 0:30:29.\n",
      "  Batch 5280  of  5625.    Elapsed: 0:30:43.\n",
      "  Batch 5320  of  5625.    Elapsed: 0:30:57.\n",
      "  Batch 5360  of  5625.    Elapsed: 0:31:10.\n",
      "  Batch 5400  of  5625.    Elapsed: 0:31:24.\n",
      "  Batch 5440  of  5625.    Elapsed: 0:31:38.\n",
      "  Batch 5480  of  5625.    Elapsed: 0:31:52.\n",
      "  Batch 5520  of  5625.    Elapsed: 0:32:06.\n",
      "  Batch 5560  of  5625.    Elapsed: 0:32:20.\n",
      "  Batch 5600  of  5625.    Elapsed: 0:32:34.\n",
      "  Average training loss: 0.33\n",
      "  Training epoch took: 0:32:43\n",
      "\n",
      "Running Validation...\n",
      "  Accuracy: 0.76\n",
      "  Validation Loss: 0.58\n",
      "  Validation took: 0:01:15\n",
      "======== Epoch 5 / 5 ========\n",
      "Training...\n",
      "  Batch 40  of  5625.    Elapsed: 0:00:14.\n",
      "  Batch 80  of  5625.    Elapsed: 0:00:28.\n",
      "  Batch 120  of  5625.    Elapsed: 0:00:42.\n",
      "  Batch 160  of  5625.    Elapsed: 0:00:55.\n",
      "  Batch 200  of  5625.    Elapsed: 0:01:09.\n",
      "  Batch 240  of  5625.    Elapsed: 0:01:23.\n",
      "  Batch 280  of  5625.    Elapsed: 0:01:37.\n",
      "  Batch 320  of  5625.    Elapsed: 0:01:51.\n",
      "  Batch 360  of  5625.    Elapsed: 0:02:05.\n",
      "  Batch 400  of  5625.    Elapsed: 0:02:19.\n",
      "  Batch 440  of  5625.    Elapsed: 0:02:33.\n",
      "  Batch 480  of  5625.    Elapsed: 0:02:46.\n",
      "  Batch 520  of  5625.    Elapsed: 0:03:00.\n",
      "  Batch 560  of  5625.    Elapsed: 0:03:14.\n",
      "  Batch 600  of  5625.    Elapsed: 0:03:28.\n",
      "  Batch 640  of  5625.    Elapsed: 0:03:42.\n",
      "  Batch 680  of  5625.    Elapsed: 0:03:56.\n",
      "  Batch 720  of  5625.    Elapsed: 0:04:10.\n",
      "  Batch 760  of  5625.    Elapsed: 0:04:23.\n",
      "  Batch 800  of  5625.    Elapsed: 0:04:37.\n",
      "  Batch 840  of  5625.    Elapsed: 0:04:51.\n",
      "  Batch 880  of  5625.    Elapsed: 0:05:05.\n",
      "  Batch 920  of  5625.    Elapsed: 0:05:19.\n",
      "  Batch 960  of  5625.    Elapsed: 0:05:33.\n",
      "  Batch 1000  of  5625.    Elapsed: 0:05:47.\n",
      "  Batch 1040  of  5625.    Elapsed: 0:06:00.\n",
      "  Batch 1080  of  5625.    Elapsed: 0:06:14.\n",
      "  Batch 1120  of  5625.    Elapsed: 0:06:28.\n",
      "  Batch 1160  of  5625.    Elapsed: 0:06:42.\n",
      "  Batch 1200  of  5625.    Elapsed: 0:06:56.\n",
      "  Batch 1240  of  5625.    Elapsed: 0:07:10.\n",
      "  Batch 1280  of  5625.    Elapsed: 0:07:23.\n",
      "  Batch 1320  of  5625.    Elapsed: 0:07:37.\n",
      "  Batch 1360  of  5625.    Elapsed: 0:07:51.\n",
      "  Batch 1400  of  5625.    Elapsed: 0:08:05.\n",
      "  Batch 1440  of  5625.    Elapsed: 0:08:19.\n",
      "  Batch 1480  of  5625.    Elapsed: 0:08:33.\n",
      "  Batch 1520  of  5625.    Elapsed: 0:08:47.\n",
      "  Batch 1560  of  5625.    Elapsed: 0:09:01.\n",
      "  Batch 1600  of  5625.    Elapsed: 0:09:14.\n",
      "  Batch 1640  of  5625.    Elapsed: 0:09:28.\n",
      "  Batch 1680  of  5625.    Elapsed: 0:09:42.\n",
      "  Batch 1720  of  5625.    Elapsed: 0:09:56.\n",
      "  Batch 1760  of  5625.    Elapsed: 0:10:10.\n",
      "  Batch 1800  of  5625.    Elapsed: 0:10:24.\n",
      "  Batch 1840  of  5625.    Elapsed: 0:10:37.\n",
      "  Batch 1880  of  5625.    Elapsed: 0:10:51.\n",
      "  Batch 1920  of  5625.    Elapsed: 0:11:05.\n",
      "  Batch 1960  of  5625.    Elapsed: 0:11:19.\n",
      "  Batch 2000  of  5625.    Elapsed: 0:11:33.\n",
      "  Batch 2040  of  5625.    Elapsed: 0:11:47.\n",
      "  Batch 2080  of  5625.    Elapsed: 0:12:01.\n",
      "  Batch 2120  of  5625.    Elapsed: 0:12:15.\n",
      "  Batch 2160  of  5625.    Elapsed: 0:12:29.\n",
      "  Batch 2200  of  5625.    Elapsed: 0:12:43.\n",
      "  Batch 2240  of  5625.    Elapsed: 0:12:57.\n",
      "  Batch 2280  of  5625.    Elapsed: 0:13:11.\n",
      "  Batch 2320  of  5625.    Elapsed: 0:13:25.\n",
      "  Batch 2360  of  5625.    Elapsed: 0:13:39.\n",
      "  Batch 2400  of  5625.    Elapsed: 0:13:53.\n",
      "  Batch 2440  of  5625.    Elapsed: 0:14:07.\n",
      "  Batch 2480  of  5625.    Elapsed: 0:14:21.\n",
      "  Batch 2520  of  5625.    Elapsed: 0:14:35.\n",
      "  Batch 2560  of  5625.    Elapsed: 0:14:49.\n",
      "  Batch 2600  of  5625.    Elapsed: 0:15:03.\n",
      "  Batch 2640  of  5625.    Elapsed: 0:15:17.\n",
      "  Batch 2680  of  5625.    Elapsed: 0:15:31.\n",
      "  Batch 2720  of  5625.    Elapsed: 0:15:45.\n",
      "  Batch 2760  of  5625.    Elapsed: 0:15:59.\n",
      "  Batch 2800  of  5625.    Elapsed: 0:16:12.\n",
      "  Batch 2840  of  5625.    Elapsed: 0:16:26.\n",
      "  Batch 2880  of  5625.    Elapsed: 0:16:40.\n",
      "  Batch 2920  of  5625.    Elapsed: 0:16:54.\n",
      "  Batch 2960  of  5625.    Elapsed: 0:17:08.\n",
      "  Batch 3000  of  5625.    Elapsed: 0:17:22.\n",
      "  Batch 3040  of  5625.    Elapsed: 0:17:36.\n",
      "  Batch 3080  of  5625.    Elapsed: 0:17:49.\n",
      "  Batch 3120  of  5625.    Elapsed: 0:18:03.\n",
      "  Batch 3160  of  5625.    Elapsed: 0:18:17.\n",
      "  Batch 3200  of  5625.    Elapsed: 0:18:31.\n",
      "  Batch 3240  of  5625.    Elapsed: 0:18:45.\n",
      "  Batch 3280  of  5625.    Elapsed: 0:18:59.\n",
      "  Batch 3320  of  5625.    Elapsed: 0:19:13.\n",
      "  Batch 3360  of  5625.    Elapsed: 0:19:27.\n",
      "  Batch 3400  of  5625.    Elapsed: 0:19:40.\n",
      "  Batch 3440  of  5625.    Elapsed: 0:19:54.\n",
      "  Batch 3480  of  5625.    Elapsed: 0:20:08.\n",
      "  Batch 3520  of  5625.    Elapsed: 0:20:22.\n",
      "  Batch 3560  of  5625.    Elapsed: 0:20:36.\n",
      "  Batch 3600  of  5625.    Elapsed: 0:20:50.\n",
      "  Batch 3640  of  5625.    Elapsed: 0:21:04.\n",
      "  Batch 3680  of  5625.    Elapsed: 0:21:18.\n",
      "  Batch 3720  of  5625.    Elapsed: 0:21:32.\n",
      "  Batch 3760  of  5625.    Elapsed: 0:21:46.\n",
      "  Batch 3800  of  5625.    Elapsed: 0:21:59.\n",
      "  Batch 3840  of  5625.    Elapsed: 0:22:13.\n",
      "  Batch 3880  of  5625.    Elapsed: 0:22:27.\n",
      "  Batch 3920  of  5625.    Elapsed: 0:22:41.\n",
      "  Batch 3960  of  5625.    Elapsed: 0:22:55.\n",
      "  Batch 4000  of  5625.    Elapsed: 0:23:09.\n",
      "  Batch 4040  of  5625.    Elapsed: 0:23:23.\n",
      "  Batch 4080  of  5625.    Elapsed: 0:23:37.\n",
      "  Batch 4120  of  5625.    Elapsed: 0:23:51.\n",
      "  Batch 4160  of  5625.    Elapsed: 0:24:05.\n",
      "  Batch 4200  of  5625.    Elapsed: 0:24:18.\n",
      "  Batch 4240  of  5625.    Elapsed: 0:24:32.\n",
      "  Batch 4280  of  5625.    Elapsed: 0:24:46.\n",
      "  Batch 4320  of  5625.    Elapsed: 0:25:00.\n",
      "  Batch 4360  of  5625.    Elapsed: 0:25:14.\n",
      "  Batch 4400  of  5625.    Elapsed: 0:25:28.\n",
      "  Batch 4440  of  5625.    Elapsed: 0:25:42.\n",
      "  Batch 4480  of  5625.    Elapsed: 0:25:56.\n",
      "  Batch 4520  of  5625.    Elapsed: 0:26:10.\n",
      "  Batch 4560  of  5625.    Elapsed: 0:26:23.\n",
      "  Batch 4600  of  5625.    Elapsed: 0:26:37.\n",
      "  Batch 4640  of  5625.    Elapsed: 0:26:51.\n",
      "  Batch 4680  of  5625.    Elapsed: 0:27:05.\n",
      "  Batch 4720  of  5625.    Elapsed: 0:27:19.\n",
      "  Batch 4760  of  5625.    Elapsed: 0:27:33.\n",
      "  Batch 4800  of  5625.    Elapsed: 0:27:47.\n",
      "  Batch 4840  of  5625.    Elapsed: 0:28:01.\n",
      "  Batch 4880  of  5625.    Elapsed: 0:28:14.\n",
      "  Batch 4920  of  5625.    Elapsed: 0:28:28.\n",
      "  Batch 4960  of  5625.    Elapsed: 0:28:42.\n",
      "  Batch 5000  of  5625.    Elapsed: 0:28:56.\n",
      "  Batch 5040  of  5625.    Elapsed: 0:29:10.\n",
      "  Batch 5080  of  5625.    Elapsed: 0:29:24.\n",
      "  Batch 5120  of  5625.    Elapsed: 0:29:38.\n",
      "  Batch 5160  of  5625.    Elapsed: 0:29:51.\n",
      "  Batch 5200  of  5625.    Elapsed: 0:30:05.\n",
      "  Batch 5240  of  5625.    Elapsed: 0:30:19.\n",
      "  Batch 5280  of  5625.    Elapsed: 0:30:33.\n",
      "  Batch 5320  of  5625.    Elapsed: 0:30:47.\n",
      "  Batch 5360  of  5625.    Elapsed: 0:31:01.\n",
      "  Batch 5400  of  5625.    Elapsed: 0:31:15.\n",
      "  Batch 5440  of  5625.    Elapsed: 0:31:29.\n",
      "  Batch 5480  of  5625.    Elapsed: 0:31:43.\n",
      "  Batch 5520  of  5625.    Elapsed: 0:31:56.\n",
      "  Batch 5560  of  5625.    Elapsed: 0:32:10.\n",
      "  Batch 5600  of  5625.    Elapsed: 0:32:24.\n",
      "  Average training loss: 0.28\n",
      "  Training epoch took: 0:32:33\n",
      "\n",
      "Running Validation...\n",
      "  Accuracy: 0.76\n",
      "  Validation Loss: 0.64\n",
      "  Validation took: 0:01:13\n",
      "\n",
      "Training complete!\n",
      "Total training took 2:50:12\n"
     ]
    }
   ],
   "source": [
    "# Training loop RoBERTa\n",
    "\n",
    "def format_time(elapsed):\n",
    "    return str(datetime.timedelta(seconds=int(round(elapsed))))\n",
    "\n",
    "def flat_accuracy(preds, labels):\n",
    "    pred_flat = np.argmax(preds, axis=1).flatten()\n",
    "    labels_flat = labels.flatten()\n",
    "    return np.sum(pred_flat == labels_flat) / len(labels_flat)\n",
    "\n",
    "total_t0 = time.time()\n",
    "\n",
    "for epoch_i in range(0, epochs):\n",
    "    print(f'======== Epoch {epoch_i + 1} / {epochs} ========')\n",
    "    print('Training...')\n",
    "\n",
    "    t0 = time.time()\n",
    "    total_train_loss = 0\n",
    "    model.train()\n",
    "\n",
    "    for step, batch in enumerate(train_dataloader):\n",
    "        if step % 40 == 0 and not step == 0:\n",
    "            elapsed = format_time(time.time() - t0)\n",
    "            print(f'  Batch {step}  of  {len(train_dataloader)}.    Elapsed: {elapsed}.')\n",
    "\n",
    "        b_input_ids = batch[0].to(device)\n",
    "        b_input_mask = batch[1].to(device)\n",
    "        b_labels = batch[2].to(device)\n",
    "\n",
    "        model.zero_grad()        \n",
    "\n",
    "        outputs = model(b_input_ids, \n",
    "                        token_type_ids=None, \n",
    "                        attention_mask=b_input_mask, \n",
    "                        labels=b_labels)\n",
    "        \n",
    "        loss = outputs.loss\n",
    "        total_train_loss += loss.item()\n",
    "\n",
    "        loss.backward()\n",
    "        torch.nn.utils.clip_grad_norm_(model.parameters(), 1.0)\n",
    "        optimizer.step()\n",
    "        scheduler.step()\n",
    "\n",
    "    avg_train_loss = total_train_loss / len(train_dataloader)            \n",
    "    training_time = format_time(time.time() - t0)\n",
    "\n",
    "    print(f\"  Average training loss: {avg_train_loss:.2f}\")\n",
    "    print(f\"  Training epoch took: {training_time}\")\n",
    "        \n",
    "    print(\"\")\n",
    "    print(\"Running Validation...\")\n",
    "\n",
    "    t0 = time.time()\n",
    "    model.eval()\n",
    "\n",
    "    total_eval_accuracy = 0\n",
    "    total_eval_loss = 0\n",
    "    nb_eval_steps = 0\n",
    "\n",
    "    for batch in validation_dataloader:\n",
    "        b_input_ids = batch[0].to(device)\n",
    "        b_input_mask = batch[1].to(device)\n",
    "        b_labels = batch[2].to(device)\n",
    "        \n",
    "        with torch.no_grad():        \n",
    "            outputs = model(b_input_ids, \n",
    "                            token_type_ids=None, \n",
    "                            attention_mask=b_input_mask,\n",
    "                            labels=b_labels)\n",
    "            \n",
    "        loss = outputs.loss\n",
    "        logits = outputs.logits\n",
    "        \n",
    "        total_eval_loss += loss.item()\n",
    "\n",
    "        logits = logits.detach().cpu().numpy()\n",
    "        label_ids = b_labels.to('cpu').numpy()\n",
    "        \n",
    "        total_eval_accuracy += flat_accuracy(logits, label_ids)\n",
    "        \n",
    "    avg_val_accuracy = total_eval_accuracy / len(validation_dataloader)\n",
    "    print(f\"  Accuracy: {avg_val_accuracy:.2f}\")\n",
    "\n",
    "    avg_val_loss = total_eval_loss / len(validation_dataloader)\n",
    "    \n",
    "    validation_time = format_time(time.time() - t0)\n",
    "    \n",
    "    print(f\"  Validation Loss: {avg_val_loss:.2f}\")\n",
    "    print(f\"  Validation took: {validation_time}\")\n",
    "\n",
    "print(\"\")\n",
    "print(\"Training complete!\")\n",
    "print(f\"Total training took {format_time(time.time()-total_t0)}\")"
   ]
  },
  {
   "cell_type": "code",
   "execution_count": 16,
   "id": "c3e965d7",
   "metadata": {},
   "outputs": [
    {
     "name": "stdout",
     "output_type": "stream",
     "text": [
      "Saving model to C:\\Users\\andre\\OneDrive\\Desktop\\Modelli NLP/roberta_sarcasm_model/\n",
      "Model and tokenizer saved!\n"
     ]
    }
   ],
   "source": [
    "# Specifica la directory di output\n",
    "output_dir = os.path.expanduser(r\"C:\\Users\\andre\\OneDrive\\Desktop\\Modelli NLP/roberta_sarcasm_model2/\")\n",
    "\n",
    "# Crea la directory se non esiste già\n",
    "if not os.path.exists(output_dir):\n",
    "    os.makedirs(output_dir)\n",
    "\n",
    "print(f\"Saving model to {output_dir}\")\n",
    "\n",
    "# Salva il modello (incluso il controllo per modelli paralleli)\n",
    "model_to_save = model.module if hasattr(model, 'module') else model\n",
    "model_to_save.save_pretrained(output_dir)\n",
    "\n",
    "# Salva il tokenizer\n",
    "tokenizer.save_pretrained(output_dir)\n",
    "\n",
    "print(\"Model and tokenizer saved!\")\n",
    "\n"
   ]
  },
  {
   "cell_type": "markdown",
   "id": "af85ae2c",
   "metadata": {},
   "source": [
    "#### Deployment"
   ]
  },
  {
   "cell_type": "code",
   "execution_count": 8,
   "id": "3962aa51",
   "metadata": {},
   "outputs": [],
   "source": [
    "import torch\n",
    "from transformers import RobertaTokenizer, RobertaForSequenceClassification\n",
    "from sklearn.metrics import accuracy_score, precision_recall_fscore_support, confusion_matrix\n",
    "import numpy as np\n",
    "import matplotlib.pyplot as plt\n",
    "import seaborn as sns\n",
    "\n",
    "# Load the saved model and tokenizer\n",
    "model_path = r\"C:\\Users\\andre\\OneDrive\\Desktop\\Modelli NLP\\roberta_sarcasm_model2\"\n",
    "model = RobertaForSequenceClassification.from_pretrained(model_path)\n",
    "tokenizer = RobertaTokenizer.from_pretrained(model_path)\n",
    "\n",
    "device = torch.device(\"cuda\" if torch.cuda.is_available() else \"cpu\")\n",
    "model.to(device)\n",
    "model.eval()\n",
    "\n",
    "def predict_sarcasm(text):\n",
    "    # Tokenize and encode the text\n",
    "    encoded_dict = tokenizer.encode_plus(\n",
    "        text,\n",
    "        add_special_tokens=True,\n",
    "        max_length=128,\n",
    "        padding='max_length',\n",
    "        return_attention_mask=True,\n",
    "        return_tensors='pt',\n",
    "        truncation=True\n",
    "    )\n",
    "    \n",
    "    input_ids = encoded_dict['input_ids'].to(device)\n",
    "    attention_mask = encoded_dict['attention_mask'].to(device)\n",
    "    \n",
    "    # Perform inference\n",
    "    with torch.no_grad():\n",
    "        outputs = model(input_ids, attention_mask=attention_mask)\n",
    "        logits = outputs.logits\n",
    "    \n",
    "    # Get prediction\n",
    "    prediction = torch.argmax(logits, dim=1).item()\n",
    "    probability = torch.nn.functional.softmax(logits, dim=1)[0][prediction].item()\n",
    "    \n",
    "    return \"Sarcastic\" if prediction == 1 else \"Not sarcastic\", probability"
   ]
  },
  {
   "cell_type": "code",
   "execution_count": 9,
   "id": "583fb900",
   "metadata": {},
   "outputs": [
    {
     "name": "stdout",
     "output_type": "stream",
     "text": [
      "Predicting sarcasm for example texts:\n",
      "Text: I absolutely love waiting in long lines at the DMV.\n",
      "Prediction: Sarcastic (Probability: 0.98)\n",
      "\n",
      "Text: The weather is beautiful today.\n",
      "Prediction: Not sarcastic (Probability: 0.92)\n",
      "\n",
      "Text: Wow, getting a root canal is so much fun!\n",
      "Prediction: Sarcastic (Probability: 0.99)\n",
      "\n",
      "Text: I'm excited about the new movie coming out.\n",
      "Prediction: Not sarcastic (Probability: 0.96)\n",
      "\n",
      "Text: This is the best day ever! My car broke down and I lost my wallet.\n",
      "Prediction: Not sarcastic (Probability: 0.93)\n",
      "\n",
      "Text: Oh, great, another update that 'improves' the app by making it crash even more. Thanks, developers!\n",
      "Prediction: Sarcastic (Probability: 0.97)\n",
      "\n",
      "Text: Sure, because spending an entire day in line at the DMV is exactly how I wanted to spend my Saturday.\n",
      "Prediction: Sarcastic (Probability: 0.99)\n",
      "\n",
      "Text: Wow, this 50-page instruction manual for a simple coffee maker is exactly what I needed. So intuitive!\n",
      "Prediction: Sarcastic (Probability: 0.99)\n",
      "\n",
      "Text: Of course, I love when my internet cuts out right in the middle of a critical work meeting. Who doesn't?\n",
      "Prediction: Sarcastic (Probability: 0.99)\n",
      "\n",
      "Text: Yeah, because nothing says 'professionalism' like sending an email in Comic Sans.\n",
      "Prediction: Sarcastic (Probability: 0.99)\n",
      "\n",
      "Text: I think this new feature will be really useful for organizing my projects.\n",
      "Prediction: Sarcastic (Probability: 0.96)\n",
      "\n",
      "Text: Thanks for the suggestion! I'll definitely check out that book.\n",
      "Prediction: Not sarcastic (Probability: 1.00)\n",
      "\n",
      "Text: I completely agree with you, the new season of the show is much better than the last one.\n",
      "Prediction: Not sarcastic (Probability: 1.00)\n",
      "\n",
      "Text: That recipe turned out great! Thanks for sharing it with us.\n",
      "Prediction: Not sarcastic (Probability: 0.95)\n",
      "\n",
      "Text: I had a great experience with their customer service, they were really helpful and responsive.\n",
      "Prediction: Sarcastic (Probability: 0.93)\n",
      "\n"
     ]
    }
   ],
   "source": [
    "# Test the model with some example texts\n",
    "example_texts = [\n",
    "    \"I absolutely love waiting in long lines at the DMV.\",\n",
    "    \"The weather is beautiful today.\",\n",
    "    \"Wow, getting a root canal is so much fun!\",\n",
    "    \"I'm excited about the new movie coming out.\",\n",
    "    \"This is the best day ever! My car broke down and I lost my wallet.\",\n",
    "    \"Oh, great, another update that 'improves' the app by making it crash even more. Thanks, developers!\",\n",
    "    \"Sure, because spending an entire day in line at the DMV is exactly how I wanted to spend my Saturday.\",\n",
    "    \"Wow, this 50-page instruction manual for a simple coffee maker is exactly what I needed. So intuitive!\",\n",
    "    \"Of course, I love when my internet cuts out right in the middle of a critical work meeting. Who doesn't?\",\n",
    "    \"Yeah, because nothing says 'professionalism' like sending an email in Comic Sans.\",\n",
    "    \"I think this new feature will be really useful for organizing my projects.\",\n",
    "    \"Thanks for the suggestion! I'll definitely check out that book.\",\n",
    "    \"I completely agree with you, the new season of the show is much better than the last one.\",\n",
    "    \"That recipe turned out great! Thanks for sharing it with us.\",\n",
    "    \"I had a great experience with their customer service, they were really helpful and responsive.\"\n",
    "]\n",
    "\n",
    "print(\"Predicting sarcasm for example texts:\")\n",
    "for text in example_texts:\n",
    "    prediction, probability = predict_sarcasm(text)\n",
    "    print(f\"Text: {text}\")\n",
    "    print(f\"Prediction: {prediction} (Probability: {probability:.2f})\")\n",
    "    print()"
   ]
  },
  {
   "cell_type": "markdown",
   "id": "00697f78",
   "metadata": {},
   "source": [
    "#### Evaluation"
   ]
  },
  {
   "cell_type": "code",
   "execution_count": 10,
   "id": "9c81862c",
   "metadata": {},
   "outputs": [
    {
     "name": "stderr",
     "output_type": "stream",
     "text": [
      "Truncation was not explicitly activated but `max_length` is provided a specific value, please use `truncation=True` to explicitly truncate examples to max length. Defaulting to 'longest_first' truncation strategy. If you encode pairs of sequences (GLUE-style) with the tokenizer you can select this strategy more precisely by providing a specific strategy to `truncation`.\n",
      "C:\\Users\\andre\\anaconda3\\envs\\myenv\\Lib\\site-packages\\transformers\\tokenization_utils_base.py:2870: FutureWarning: The `pad_to_max_length` argument is deprecated and will be removed in a future version, use `padding=True` or `padding='longest'` to pad to the longest sequence in the batch, or use `padding='max_length'` to pad to a max length. In this case, you can give a specific length with `max_length` (e.g. `max_length=45`) or leave max_length to None to pad to the maximal input size of the model (e.g. 512 for Bert).\n",
      "  warnings.warn(\n"
     ]
    }
   ],
   "source": [
    "# Load and evaluate on test dataset\n",
    "test_data = pd.read_csv(\"test_sarcasm.csv\")\n",
    "\n",
    "def prepare_data(data):\n",
    "    input_ids = []\n",
    "    attention_masks = []\n",
    "    \n",
    "    for comment in data['comment']:\n",
    "        encoded_dict = tokenizer.encode_plus(\n",
    "            comment,\n",
    "            add_special_tokens=True,\n",
    "            max_length=128,\n",
    "            pad_to_max_length=True,\n",
    "            return_attention_mask=True,\n",
    "            return_tensors='pt',\n",
    "        )\n",
    "        input_ids.append(encoded_dict['input_ids'])\n",
    "        attention_masks.append(encoded_dict['attention_mask'])\n",
    "    \n",
    "    input_ids = torch.cat(input_ids, dim=0)\n",
    "    attention_masks = torch.cat(attention_masks, dim=0)\n",
    "    \n",
    "    return input_ids, attention_masks\n",
    "\n",
    "input_ids, attention_masks = prepare_data(test_data)\n",
    "labels = torch.tensor(test_data['label'].values)"
   ]
  },
  {
   "cell_type": "code",
   "execution_count": 11,
   "id": "90b610f1",
   "metadata": {},
   "outputs": [],
   "source": [
    "# Create the DataLoader\n",
    "test_dataset = TensorDataset(input_ids, attention_masks, labels)\n",
    "test_dataloader = DataLoader(test_dataset, batch_size=32)\n",
    "\n",
    "# Evaluation\n",
    "predictions = []\n",
    "true_labels = []"
   ]
  },
  {
   "cell_type": "code",
   "execution_count": 12,
   "id": "f4b7616a",
   "metadata": {},
   "outputs": [],
   "source": [
    "for batch in test_dataloader:\n",
    "    b_input_ids = batch[0].to(device)\n",
    "    b_attention_mask = batch[1].to(device)\n",
    "    b_labels = batch[2].to(device)\n",
    "    \n",
    "    with torch.no_grad():\n",
    "        outputs = model(b_input_ids, token_type_ids=None, attention_mask=b_attention_mask)\n",
    "    \n",
    "    logits = outputs[0]\n",
    "    batch_predictions = torch.argmax(logits, dim=1).flatten()\n",
    "    \n",
    "    predictions.extend(batch_predictions.cpu().numpy())\n",
    "    true_labels.extend(b_labels.cpu().numpy())\n",
    "    "
   ]
  },
  {
   "cell_type": "code",
   "execution_count": 22,
   "id": "cbf14232",
   "metadata": {},
   "outputs": [
    {
     "name": "stdout",
     "output_type": "stream",
     "text": [
      "Model Performance on Test Set:\n",
      "Accuracy: 0.79\n",
      "Precision: 0.81\n",
      "Recall: 0.77\n",
      "F1 Score: 0.79\n"
     ]
    }
   ],
   "source": [
    "# Calculate metrics\n",
    "accuracy = accuracy_score(true_labels, predictions)\n",
    "precision, recall, f1, _ = precision_recall_fscore_support(true_labels, predictions, average='binary')\n",
    "\n",
    "print(\"Model Performance on Test Set:\")\n",
    "print(f\"Accuracy: {accuracy:.2f}\")\n",
    "print(f\"Precision: {precision:.2f}\")\n",
    "print(f\"Recall: {recall:.2f}\")\n",
    "print(f\"F1 Score: {f1:.2f}\")"
   ]
  },
  {
   "cell_type": "code",
   "execution_count": 23,
   "id": "a9129f0a",
   "metadata": {},
   "outputs": [
    {
     "data": {
      "image/png": "[encoded data removed]",
      "text/plain": [
       "<Figure size 1000x700 with 2 Axes>"
      ]
     },
     "metadata": {},
     "output_type": "display_data"
    }
   ],
   "source": [
    "# Confusion Matrix\n",
    "cm = confusion_matrix(true_labels, predictions)\n",
    "plt.figure(figsize=(10,7))\n",
    "sns.heatmap(cm, annot=True, fmt='d', cmap='Blues')\n",
    "plt.title('Confusion Matrix')\n",
    "plt.ylabel('Actual')\n",
    "plt.xlabel('Predicted')\n",
    "plt.show()"
   ]
  },
  {
   "cell_type": "code",
   "execution_count": 13,
   "id": "4063413f",
   "metadata": {},
   "outputs": [
    {
     "data": {
      "image/png": "[encoded data removed]",
      "text/plain": [
       "<Figure size 640x480 with 1 Axes>"
      ]
     },
     "metadata": {},
     "output_type": "display_data"
    }
   ],
   "source": [
    "# ROC Curve\n",
    "from sklearn.metrics import roc_curve, auc\n",
    "fpr, tpr, _ = roc_curve(true_labels, predictions)\n",
    "roc_auc = auc(fpr, tpr)\n",
    "\n",
    "plt.figure()\n",
    "plt.plot(fpr, tpr, color='darkorange', lw=2, label=f'ROC curve (AUC = {roc_auc:.2f})')\n",
    "plt.plot([0, 1], [0, 1], color='navy', lw=2, linestyle='--')\n",
    "plt.xlim([0.0, 1.0])\n",
    "plt.ylim([0.0, 1.05])\n",
    "plt.xlabel('False Positive Rate')\n",
    "plt.ylabel('True Positive Rate')\n",
    "plt.title('Receiver Operating Characteristic (ROC) Curve')\n",
    "plt.legend(loc=\"lower right\")\n",
    "plt.show()"
   ]
  },
  {
   "cell_type": "markdown",
   "id": "dcf4b69e",
   "metadata": {},
   "source": [
    "### DistilBERT\n",
    "\n",
    "**General description**\n",
    "\n",
    "We have used a DistilBERT (Distilled version of BERT) model, specifically the \"*distilbert-base-uncased*\" variant, fine-tuned for sequence classification.\n",
    "Key characteristics of this model include:\n",
    "\n",
    "- **Architecture**: DistilBERT is a smaller, faster, and lighter version of BERT. It retains 6 transformer layers, 12 attention heads, and 768 hidden dimensions. This is achieved through a process called knowledge distillation, where a smaller model (DistilBERT) is trained to replicate the performance of a larger model (BERT).\n",
    "\n",
    "- **Pre-training**: This model was pre-trained on a large corpus of uncased English text (meaning it treats \"The\" and \"the\" as the same token). DistilBERT was trained using the same masked language modeling task as BERT but without the next sentence prediction task. The distillation process compresses the knowledge from BERT into a smaller model, maintaining about 97% of BERT's performance while being 60% faster and 40% smaller.\n",
    "\n",
    "- **Fine-tuning**: We've fine-tuned this pre-trained model for our specific task of sarcasm detection. This involves adding a classification layer on top of the DistilBERT base and training on our sarcasm dataset.\n",
    "\n",
    "- **Tokenizer**: It uses the DistilBERT tokenizer, which employs WordPiece tokenization, identical to that used by BERT.\n",
    "\n",
    "- **Sequence Classification**: The model is set up for sequence classification, where it processes a sequence of tokens (e.g., a Reddit comment) and outputs a classification (sarcastic or not sarcastic).\n",
    "\n",
    "- **Uncased**: As mentioned, this version is uncased, meaning it doesn't differentiate between uppercase and lowercase letters. This can be beneficial for tasks where case doesn't carry significant meaning, potentially reducing the vocabulary size and model complexity.\n",
    "\n",
    "- **Size**: The \"base\" in \"distilbert-base-uncased\" indicates that this is the smaller version of DistilBERT, with about 66 million parameters, making it significantly more efficient in terms of memory and computational cost compared to BERT.\n",
    "\n",
    "This model is well-suited for our task because it balances performance and efficiency, capturing complex language patterns essential for detecting sarcasm while being faster and lighter than the full BERT model. The fine-tuning process adapts this general language understanding to our specific task of sarcasm detection.\n",
    "\n",
    "**Tokenization process**\n",
    "\n",
    "The tokenization process in this project was performed using the DistilBERT tokenizer, specifically the one associated with the 'distilbert-base-uncased' model. Here's a brief description of how it works:\n",
    "\n",
    "*Tokenizer Initialization*:\n",
    "The tokenizer is initialized using the `DistilBertTokenizer.from_pretrained('distilbert-base-uncased')` method. This loads the pre-trained tokenizer that matches the DistilBERT model we're using.\n",
    "The 'uncased' version of the tokenizer converts all text to lowercase before tokenization. DistilBERT uses WordPiece tokenization, which breaks words into subwords. This helps handle out-of-vocabulary words and reduces the overall vocabulary size. For example, \"tokenization\" might be broken into \"token\" and \"##ization\".\n",
    "\n",
    "*Special Tokens*:\n",
    "The tokenizer adds special tokens:\n",
    "\n",
    "- **[CLS]**: DistilBERT uses a [CLS] token at the beginning of each sequence, which is used for classification tasks.\n",
    "- **[SEP]**: Used at the end of each sequence (or between sequences for pair tasks).\n",
    "\n",
    "*Encoding*:\n",
    "The tokenization process encodes each comment using the `encode_plus` method, which tokenizes the text, converts tokens to their respective IDs, adds special tokens, and generates attention masks (1 for real tokens, 0 for padding).\n",
    "\n",
    "*Padding and Truncation*:\n",
    "Sequences are padded to a maximum length (MAX_LEN = 128 in this case) with a padding token (usually [PAD]).\n",
    "If a sequence is longer than MAX_LEN, it is truncated.\n",
    "\n",
    "*Tensors Creation*:\n",
    "The tokenized and encoded data is converted into PyTorch tensors for input to the model.\n",
    "\n",
    "This process was applied to both the training and testing datasets, ensuring that the text input is in a format that the DistilBERT model can process. The use of subword tokenization and special tokens allows the model to handle a wide variety of inputs, including words it hasn't seen during pre-training.\n"
   ]
  },
  {
   "cell_type": "markdown",
   "id": "26fec373",
   "metadata": {},
   "source": [
    "#### Pre processing"
   ]
  },
  {
   "cell_type": "code",
   "execution_count": 7,
   "id": "02178347",
   "metadata": {},
   "outputs": [
    {
     "name": "stderr",
     "output_type": "stream",
     "text": [
      "C:\\Users\\andre\\anaconda3\\envs\\myenv\\Lib\\site-packages\\transformers\\tokenization_utils_base.py:1601: FutureWarning: `clean_up_tokenization_spaces` was not set. It will be set to `True` by default. This behavior will be depracted in transformers v4.45, and will be then set to `False` by default. For more details check this issue: https://github.com/huggingface/transformers/issues/31884\n",
      "  warnings.warn(\n",
      "Some weights of DistilBertForSequenceClassification were not initialized from the model checkpoint at distilbert-base-uncased and are newly initialized: ['classifier.bias', 'classifier.weight', 'pre_classifier.bias', 'pre_classifier.weight']\n",
      "You should probably TRAIN this model on a down-stream task to be able to use it for predictions and inference.\n"
     ]
    },
    {
     "data": {
      "text/plain": [
       "DistilBertForSequenceClassification(\n",
       "  (distilbert): DistilBertModel(\n",
       "    (embeddings): Embeddings(\n",
       "      (word_embeddings): Embedding(30522, 768, padding_idx=0)\n",
       "      (position_embeddings): Embedding(512, 768)\n",
       "      (LayerNorm): LayerNorm((768,), eps=1e-12, elementwise_affine=True)\n",
       "      (dropout): Dropout(p=0.1, inplace=False)\n",
       "    )\n",
       "    (transformer): Transformer(\n",
       "      (layer): ModuleList(\n",
       "        (0-5): 6 x TransformerBlock(\n",
       "          (attention): MultiHeadSelfAttention(\n",
       "            (dropout): Dropout(p=0.1, inplace=False)\n",
       "            (q_lin): Linear(in_features=768, out_features=768, bias=True)\n",
       "            (k_lin): Linear(in_features=768, out_features=768, bias=True)\n",
       "            (v_lin): Linear(in_features=768, out_features=768, bias=True)\n",
       "            (out_lin): Linear(in_features=768, out_features=768, bias=True)\n",
       "          )\n",
       "          (sa_layer_norm): LayerNorm((768,), eps=1e-12, elementwise_affine=True)\n",
       "          (ffn): FFN(\n",
       "            (dropout): Dropout(p=0.1, inplace=False)\n",
       "            (lin1): Linear(in_features=768, out_features=3072, bias=True)\n",
       "            (lin2): Linear(in_features=3072, out_features=768, bias=True)\n",
       "            (activation): GELUActivation()\n",
       "          )\n",
       "          (output_layer_norm): LayerNorm((768,), eps=1e-12, elementwise_affine=True)\n",
       "        )\n",
       "      )\n",
       "    )\n",
       "  )\n",
       "  (pre_classifier): Linear(in_features=768, out_features=768, bias=True)\n",
       "  (classifier): Linear(in_features=768, out_features=2, bias=True)\n",
       "  (dropout): Dropout(p=0.2, inplace=False)\n",
       ")"
      ]
     },
     "execution_count": 7,
     "metadata": {},
     "output_type": "execute_result"
    }
   ],
   "source": [
    "from transformers import DistilBertTokenizer, DistilBertForSequenceClassification, AdamW\n",
    "\n",
    "# Inizializza il tokenizer di DistilBERT\n",
    "tokenizer = DistilBertTokenizer.from_pretrained('distilbert-base-uncased', do_lower_case=True)\n",
    "\n",
    "# Carica il modello pre-addestrato DistilBERT\n",
    "model = DistilBertForSequenceClassification.from_pretrained(\n",
    "    \"distilbert-base-uncased\",\n",
    "    num_labels=2,  # Numero di etichette (esempio: 2 per classificazione binaria)\n",
    "    output_attentions=False,\n",
    "    output_hidden_states=False,\n",
    ")\n",
    "\n",
    "# Sposta il modello sul dispositivo appropriato (GPU o CPU)\n",
    "model.to(device)\n"
   ]
  },
  {
   "cell_type": "code",
   "execution_count": 8,
   "id": "2dce791d",
   "metadata": {},
   "outputs": [
    {
     "name": "stderr",
     "output_type": "stream",
     "text": [
      "Some weights of DistilBertForSequenceClassification were not initialized from the model checkpoint at distilbert-base-uncased and are newly initialized: ['classifier.bias', 'classifier.weight', 'pre_classifier.bias', 'pre_classifier.weight']\n",
      "You should probably TRAIN this model on a down-stream task to be able to use it for predictions and inference.\n",
      "Tokenizing: 100%|██████████| 200000/200000 [00:53<00:00, 3762.85it/s]\n"
     ]
    }
   ],
   "source": [
    "from transformers import DistilBertTokenizer, DistilBertForSequenceClassification\n",
    "\n",
    "# Initialize DistilBERT tokenizer and model\n",
    "tokenizer = DistilBertTokenizer.from_pretrained('distilbert-base-uncased')\n",
    "model = DistilBertForSequenceClassification.from_pretrained('distilbert-base-uncased')\n",
    "\n",
    "# Move the model to the appropriate device (GPU or CPU)\n",
    "device = torch.device(\"cuda\" if torch.cuda.is_available() else \"cpu\")\n",
    "model.to(device)\n",
    "\n",
    "# Tokenize and encode the dataset\n",
    "MAX_LEN = 128\n",
    "\n",
    "# Assuming `comments` is your list of comments and `labels` is your list of labels\n",
    "input_ids = []\n",
    "attention_masks = []\n",
    "\n",
    "# Use tqdm for a progress bar during tokenization\n",
    "for comment in tqdm(comments, desc=\"Tokenizing\"):\n",
    "    encoded_dict = tokenizer.encode_plus(\n",
    "        comment,\n",
    "        add_special_tokens=True,\n",
    "        max_length=MAX_LEN,\n",
    "        padding='max_length',\n",
    "        return_attention_mask=True,\n",
    "        return_tensors='pt',\n",
    "        truncation=True\n",
    "    )\n",
    "    input_ids.append(encoded_dict['input_ids'])\n",
    "    attention_masks.append(encoded_dict['attention_mask'])\n",
    "\n",
    "# Convert lists to tensors\n",
    "input_ids = torch.cat(input_ids, dim=0)\n",
    "attention_masks = torch.cat(attention_masks, dim=0)\n",
    "labels = torch.tensor(labels)\n",
    "\n",
    "# Move tensors to the appropriate device\n",
    "input_ids = input_ids.to(device)\n",
    "attention_masks = attention_masks.to(device)\n",
    "labels = labels.to(device)\n"
   ]
  },
  {
   "cell_type": "code",
   "execution_count": 9,
   "id": "feeba974",
   "metadata": {},
   "outputs": [],
   "source": [
    "# Create DataLoader\n",
    "dataset = TensorDataset(input_ids, attention_masks, labels)\n",
    "train_size = int(0.9 * len(dataset))\n",
    "val_size = len(dataset) - train_size\n",
    "train_dataset, val_dataset = random_split(dataset, [train_size, val_size])\n",
    "\n",
    "batch_size = 32\n",
    "\n",
    "train_dataloader = DataLoader(\n",
    "    train_dataset,\n",
    "    sampler=torch.utils.data.RandomSampler(train_dataset),\n",
    "    batch_size=batch_size\n",
    ")\n",
    "\n",
    "validation_dataloader = DataLoader(\n",
    "    val_dataset,\n",
    "    sampler=torch.utils.data.SequentialSampler(val_dataset),\n",
    "    batch_size=batch_size\n",
    ")"
   ]
  },
  {
   "cell_type": "code",
   "execution_count": 10,
   "id": "34a1e57a",
   "metadata": {},
   "outputs": [
    {
     "name": "stderr",
     "output_type": "stream",
     "text": [
      "Some weights of DistilBertForSequenceClassification were not initialized from the model checkpoint at distilbert-base-uncased and are newly initialized: ['classifier.bias', 'classifier.weight', 'pre_classifier.bias', 'pre_classifier.weight']\n",
      "You should probably TRAIN this model on a down-stream task to be able to use it for predictions and inference.\n"
     ]
    },
    {
     "data": {
      "text/plain": [
       "DistilBertForSequenceClassification(\n",
       "  (distilbert): DistilBertModel(\n",
       "    (embeddings): Embeddings(\n",
       "      (word_embeddings): Embedding(30522, 768, padding_idx=0)\n",
       "      (position_embeddings): Embedding(512, 768)\n",
       "      (LayerNorm): LayerNorm((768,), eps=1e-12, elementwise_affine=True)\n",
       "      (dropout): Dropout(p=0.1, inplace=False)\n",
       "    )\n",
       "    (transformer): Transformer(\n",
       "      (layer): ModuleList(\n",
       "        (0-5): 6 x TransformerBlock(\n",
       "          (attention): MultiHeadSelfAttention(\n",
       "            (dropout): Dropout(p=0.1, inplace=False)\n",
       "            (q_lin): Linear(in_features=768, out_features=768, bias=True)\n",
       "            (k_lin): Linear(in_features=768, out_features=768, bias=True)\n",
       "            (v_lin): Linear(in_features=768, out_features=768, bias=True)\n",
       "            (out_lin): Linear(in_features=768, out_features=768, bias=True)\n",
       "          )\n",
       "          (sa_layer_norm): LayerNorm((768,), eps=1e-12, elementwise_affine=True)\n",
       "          (ffn): FFN(\n",
       "            (dropout): Dropout(p=0.1, inplace=False)\n",
       "            (lin1): Linear(in_features=768, out_features=3072, bias=True)\n",
       "            (lin2): Linear(in_features=3072, out_features=768, bias=True)\n",
       "            (activation): GELUActivation()\n",
       "          )\n",
       "          (output_layer_norm): LayerNorm((768,), eps=1e-12, elementwise_affine=True)\n",
       "        )\n",
       "      )\n",
       "    )\n",
       "  )\n",
       "  (pre_classifier): Linear(in_features=768, out_features=768, bias=True)\n",
       "  (classifier): Linear(in_features=768, out_features=2, bias=True)\n",
       "  (dropout): Dropout(p=0.2, inplace=False)\n",
       ")"
      ]
     },
     "execution_count": 10,
     "metadata": {},
     "output_type": "execute_result"
    }
   ],
   "source": [
    "# Load pre-trained DistilBERT model\n",
    "model = DistilBertForSequenceClassification.from_pretrained(\n",
    "    \"distilbert-base-uncased\",\n",
    "    num_labels=2,\n",
    "    output_attentions=False,\n",
    "    output_hidden_states=False,\n",
    ")\n",
    "\n",
    "model.to(device)"
   ]
  },
  {
   "cell_type": "markdown",
   "id": "a9cd8bea",
   "metadata": {},
   "source": [
    "#### Optimization"
   ]
  },
  {
   "cell_type": "code",
   "execution_count": 11,
   "id": "56785338",
   "metadata": {},
   "outputs": [
    {
     "name": "stderr",
     "output_type": "stream",
     "text": [
      "C:\\Users\\andre\\anaconda3\\envs\\myenv\\Lib\\site-packages\\transformers\\optimization.py:591: FutureWarning: This implementation of AdamW is deprecated and will be removed in a future version. Use the PyTorch implementation torch.optim.AdamW instead, or set `no_deprecation_warning=True` to disable this warning\n",
      "  warnings.warn(\n"
     ]
    }
   ],
   "source": [
    "# Set up optimizer and learning rate scheduler\n",
    "optimizer = AdamW(model.parameters(), lr=2e-5, eps=1e-8)\n",
    "\n",
    "epochs = 5\n",
    "total_steps = len(train_dataloader) * epochs\n",
    "scheduler = get_linear_schedule_with_warmup(optimizer, \n",
    "                                            num_warmup_steps=0,\n",
    "                                            num_training_steps=total_steps)"
   ]
  },
  {
   "cell_type": "markdown",
   "id": "a4e0ab59",
   "metadata": {},
   "source": [
    "#### Training"
   ]
  },
  {
   "cell_type": "code",
   "execution_count": 12,
   "id": "22caa2b3",
   "metadata": {},
   "outputs": [
    {
     "name": "stdout",
     "output_type": "stream",
     "text": [
      "======== Epoch 1 / 5 ========\n",
      "Training...\n"
     ]
    },
    {
     "name": "stderr",
     "output_type": "stream",
     "text": [
      "Training:   1%|          | 41/5625 [00:08<16:36,  5.60it/s] "
     ]
    },
    {
     "name": "stdout",
     "output_type": "stream",
     "text": [
      "  Batch 40  of  5625.    Elapsed: 0:00:08.\n"
     ]
    },
    {
     "name": "stderr",
     "output_type": "stream",
     "text": [
      "Training:   1%|▏         | 81/5625 [00:15<15:59,  5.78it/s]"
     ]
    },
    {
     "name": "stdout",
     "output_type": "stream",
     "text": [
      "  Batch 80  of  5625.    Elapsed: 0:00:15.\n"
     ]
    },
    {
     "name": "stderr",
     "output_type": "stream",
     "text": [
      "Training:   2%|▏         | 121/5625 [00:22<15:46,  5.81it/s]"
     ]
    },
    {
     "name": "stdout",
     "output_type": "stream",
     "text": [
      "  Batch 120  of  5625.    Elapsed: 0:00:22.\n"
     ]
    },
    {
     "name": "stderr",
     "output_type": "stream",
     "text": [
      "Training:   3%|▎         | 161/5625 [00:29<16:12,  5.62it/s]"
     ]
    },
    {
     "name": "stdout",
     "output_type": "stream",
     "text": [
      "  Batch 160  of  5625.    Elapsed: 0:00:29.\n"
     ]
    },
    {
     "name": "stderr",
     "output_type": "stream",
     "text": [
      "Training:   4%|▎         | 201/5625 [00:36<16:15,  5.56it/s]"
     ]
    },
    {
     "name": "stdout",
     "output_type": "stream",
     "text": [
      "  Batch 200  of  5625.    Elapsed: 0:00:37.\n"
     ]
    },
    {
     "name": "stderr",
     "output_type": "stream",
     "text": [
      "Training:   4%|▍         | 241/5625 [00:43<15:50,  5.66it/s]"
     ]
    },
    {
     "name": "stdout",
     "output_type": "stream",
     "text": [
      "  Batch 240  of  5625.    Elapsed: 0:00:44.\n"
     ]
    },
    {
     "name": "stderr",
     "output_type": "stream",
     "text": [
      "Training:   5%|▍         | 281/5625 [00:51<16:30,  5.40it/s]"
     ]
    },
    {
     "name": "stdout",
     "output_type": "stream",
     "text": [
      "  Batch 280  of  5625.    Elapsed: 0:00:51.\n"
     ]
    },
    {
     "name": "stderr",
     "output_type": "stream",
     "text": [
      "Training:   6%|▌         | 321/5625 [00:58<15:44,  5.62it/s]"
     ]
    },
    {
     "name": "stdout",
     "output_type": "stream",
     "text": [
      "  Batch 320  of  5625.    Elapsed: 0:00:58.\n"
     ]
    },
    {
     "name": "stderr",
     "output_type": "stream",
     "text": [
      "Training:   6%|▋         | 361/5625 [01:05<15:53,  5.52it/s]"
     ]
    },
    {
     "name": "stdout",
     "output_type": "stream",
     "text": [
      "  Batch 360  of  5625.    Elapsed: 0:01:05.\n"
     ]
    },
    {
     "name": "stderr",
     "output_type": "stream",
     "text": [
      "Training:   7%|▋         | 401/5625 [01:12<15:32,  5.60it/s]"
     ]
    },
    {
     "name": "stdout",
     "output_type": "stream",
     "text": [
      "  Batch 400  of  5625.    Elapsed: 0:01:13.\n"
     ]
    },
    {
     "name": "stderr",
     "output_type": "stream",
     "text": [
      "Training:   8%|▊         | 441/5625 [01:19<15:32,  5.56it/s]"
     ]
    },
    {
     "name": "stdout",
     "output_type": "stream",
     "text": [
      "  Batch 440  of  5625.    Elapsed: 0:01:20.\n"
     ]
    },
    {
     "name": "stderr",
     "output_type": "stream",
     "text": [
      "Training:   9%|▊         | 481/5625 [01:27<15:38,  5.48it/s]"
     ]
    },
    {
     "name": "stdout",
     "output_type": "stream",
     "text": [
      "  Batch 480  of  5625.    Elapsed: 0:01:27.\n"
     ]
    },
    {
     "name": "stderr",
     "output_type": "stream",
     "text": [
      "Training:   9%|▉         | 521/5625 [01:34<15:21,  5.54it/s]"
     ]
    },
    {
     "name": "stdout",
     "output_type": "stream",
     "text": [
      "  Batch 520  of  5625.    Elapsed: 0:01:34.\n"
     ]
    },
    {
     "name": "stderr",
     "output_type": "stream",
     "text": [
      "Training:  10%|▉         | 561/5625 [01:41<15:25,  5.47it/s]"
     ]
    },
    {
     "name": "stdout",
     "output_type": "stream",
     "text": [
      "  Batch 560  of  5625.    Elapsed: 0:01:42.\n"
     ]
    },
    {
     "name": "stderr",
     "output_type": "stream",
     "text": [
      "Training:  11%|█         | 601/5625 [01:49<16:06,  5.20it/s]"
     ]
    },
    {
     "name": "stdout",
     "output_type": "stream",
     "text": [
      "  Batch 600  of  5625.    Elapsed: 0:01:49.\n"
     ]
    },
    {
     "name": "stderr",
     "output_type": "stream",
     "text": [
      "Training:  11%|█▏        | 641/5625 [01:57<15:09,  5.48it/s]"
     ]
    },
    {
     "name": "stdout",
     "output_type": "stream",
     "text": [
      "  Batch 640  of  5625.    Elapsed: 0:01:57.\n"
     ]
    },
    {
     "name": "stderr",
     "output_type": "stream",
     "text": [
      "Training:  12%|█▏        | 681/5625 [02:04<15:03,  5.47it/s]"
     ]
    },
    {
     "name": "stdout",
     "output_type": "stream",
     "text": [
      "  Batch 680  of  5625.    Elapsed: 0:02:04.\n"
     ]
    },
    {
     "name": "stderr",
     "output_type": "stream",
     "text": [
      "Training:  13%|█▎        | 721/5625 [02:11<14:56,  5.47it/s]"
     ]
    },
    {
     "name": "stdout",
     "output_type": "stream",
     "text": [
      "  Batch 720  of  5625.    Elapsed: 0:02:12.\n"
     ]
    },
    {
     "name": "stderr",
     "output_type": "stream",
     "text": [
      "Training:  14%|█▎        | 761/5625 [02:19<14:36,  5.55it/s]"
     ]
    },
    {
     "name": "stdout",
     "output_type": "stream",
     "text": [
      "  Batch 760  of  5625.    Elapsed: 0:02:19.\n"
     ]
    },
    {
     "name": "stderr",
     "output_type": "stream",
     "text": [
      "Training:  14%|█▍        | 801/5625 [02:26<15:04,  5.33it/s]"
     ]
    },
    {
     "name": "stdout",
     "output_type": "stream",
     "text": [
      "  Batch 800  of  5625.    Elapsed: 0:02:26.\n"
     ]
    },
    {
     "name": "stderr",
     "output_type": "stream",
     "text": [
      "Training:  15%|█▍        | 841/5625 [02:33<14:33,  5.48it/s]"
     ]
    },
    {
     "name": "stdout",
     "output_type": "stream",
     "text": [
      "  Batch 840  of  5625.    Elapsed: 0:02:34.\n"
     ]
    },
    {
     "name": "stderr",
     "output_type": "stream",
     "text": [
      "Training:  16%|█▌        | 881/5625 [02:41<14:40,  5.39it/s]"
     ]
    },
    {
     "name": "stdout",
     "output_type": "stream",
     "text": [
      "  Batch 880  of  5625.    Elapsed: 0:02:41.\n"
     ]
    },
    {
     "name": "stderr",
     "output_type": "stream",
     "text": [
      "Training:  16%|█▋        | 921/5625 [02:48<14:05,  5.56it/s]"
     ]
    },
    {
     "name": "stdout",
     "output_type": "stream",
     "text": [
      "  Batch 920  of  5625.    Elapsed: 0:02:48.\n"
     ]
    },
    {
     "name": "stderr",
     "output_type": "stream",
     "text": [
      "Training:  17%|█▋        | 961/5625 [02:55<14:03,  5.53it/s]"
     ]
    },
    {
     "name": "stdout",
     "output_type": "stream",
     "text": [
      "  Batch 960  of  5625.    Elapsed: 0:02:55.\n"
     ]
    },
    {
     "name": "stderr",
     "output_type": "stream",
     "text": [
      "Training:  18%|█▊        | 1001/5625 [03:03<13:50,  5.57it/s]"
     ]
    },
    {
     "name": "stdout",
     "output_type": "stream",
     "text": [
      "  Batch 1000  of  5625.    Elapsed: 0:03:03.\n"
     ]
    },
    {
     "name": "stderr",
     "output_type": "stream",
     "text": [
      "Training:  19%|█▊        | 1041/5625 [03:10<13:48,  5.54it/s]"
     ]
    },
    {
     "name": "stdout",
     "output_type": "stream",
     "text": [
      "  Batch 1040  of  5625.    Elapsed: 0:03:10.\n"
     ]
    },
    {
     "name": "stderr",
     "output_type": "stream",
     "text": [
      "Training:  19%|█▉        | 1081/5625 [03:17<13:50,  5.47it/s]"
     ]
    },
    {
     "name": "stdout",
     "output_type": "stream",
     "text": [
      "  Batch 1080  of  5625.    Elapsed: 0:03:17.\n"
     ]
    },
    {
     "name": "stderr",
     "output_type": "stream",
     "text": [
      "Training:  20%|█▉        | 1121/5625 [03:24<13:27,  5.58it/s]"
     ]
    },
    {
     "name": "stdout",
     "output_type": "stream",
     "text": [
      "  Batch 1120  of  5625.    Elapsed: 0:03:25.\n"
     ]
    },
    {
     "name": "stderr",
     "output_type": "stream",
     "text": [
      "Training:  21%|██        | 1161/5625 [03:32<13:54,  5.35it/s]"
     ]
    },
    {
     "name": "stdout",
     "output_type": "stream",
     "text": [
      "  Batch 1160  of  5625.    Elapsed: 0:03:32.\n"
     ]
    },
    {
     "name": "stderr",
     "output_type": "stream",
     "text": [
      "Training:  21%|██▏       | 1201/5625 [03:39<13:27,  5.48it/s]"
     ]
    },
    {
     "name": "stdout",
     "output_type": "stream",
     "text": [
      "  Batch 1200  of  5625.    Elapsed: 0:03:39.\n"
     ]
    },
    {
     "name": "stderr",
     "output_type": "stream",
     "text": [
      "Training:  22%|██▏       | 1241/5625 [03:47<15:09,  4.82it/s]"
     ]
    },
    {
     "name": "stdout",
     "output_type": "stream",
     "text": [
      "  Batch 1240  of  5625.    Elapsed: 0:03:47.\n"
     ]
    },
    {
     "name": "stderr",
     "output_type": "stream",
     "text": [
      "Training:  23%|██▎       | 1281/5625 [03:54<13:15,  5.46it/s]"
     ]
    },
    {
     "name": "stdout",
     "output_type": "stream",
     "text": [
      "  Batch 1280  of  5625.    Elapsed: 0:03:55.\n"
     ]
    },
    {
     "name": "stderr",
     "output_type": "stream",
     "text": [
      "Training:  23%|██▎       | 1321/5625 [04:02<13:34,  5.28it/s]"
     ]
    },
    {
     "name": "stdout",
     "output_type": "stream",
     "text": [
      "  Batch 1320  of  5625.    Elapsed: 0:04:02.\n"
     ]
    },
    {
     "name": "stderr",
     "output_type": "stream",
     "text": [
      "Training:  24%|██▍       | 1361/5625 [04:09<13:01,  5.46it/s]"
     ]
    },
    {
     "name": "stdout",
     "output_type": "stream",
     "text": [
      "  Batch 1360  of  5625.    Elapsed: 0:04:09.\n"
     ]
    },
    {
     "name": "stderr",
     "output_type": "stream",
     "text": [
      "Training:  25%|██▍       | 1401/5625 [04:16<13:54,  5.06it/s]"
     ]
    },
    {
     "name": "stdout",
     "output_type": "stream",
     "text": [
      "  Batch 1400  of  5625.    Elapsed: 0:04:17.\n"
     ]
    },
    {
     "name": "stderr",
     "output_type": "stream",
     "text": [
      "Training:  26%|██▌       | 1441/5625 [04:24<12:39,  5.51it/s]"
     ]
    },
    {
     "name": "stdout",
     "output_type": "stream",
     "text": [
      "  Batch 1440  of  5625.    Elapsed: 0:04:24.\n"
     ]
    },
    {
     "name": "stderr",
     "output_type": "stream",
     "text": [
      "Training:  26%|██▋       | 1481/5625 [04:31<12:33,  5.50it/s]"
     ]
    },
    {
     "name": "stdout",
     "output_type": "stream",
     "text": [
      "  Batch 1480  of  5625.    Elapsed: 0:04:32.\n"
     ]
    },
    {
     "name": "stderr",
     "output_type": "stream",
     "text": [
      "Training:  27%|██▋       | 1521/5625 [04:39<12:31,  5.46it/s]"
     ]
    },
    {
     "name": "stdout",
     "output_type": "stream",
     "text": [
      "  Batch 1520  of  5625.    Elapsed: 0:04:39.\n"
     ]
    },
    {
     "name": "stderr",
     "output_type": "stream",
     "text": [
      "Training:  28%|██▊       | 1561/5625 [04:46<12:25,  5.45it/s]"
     ]
    },
    {
     "name": "stdout",
     "output_type": "stream",
     "text": [
      "  Batch 1560  of  5625.    Elapsed: 0:04:46.\n"
     ]
    },
    {
     "name": "stderr",
     "output_type": "stream",
     "text": [
      "Training:  28%|██▊       | 1601/5625 [04:53<12:08,  5.52it/s]"
     ]
    },
    {
     "name": "stdout",
     "output_type": "stream",
     "text": [
      "  Batch 1600  of  5625.    Elapsed: 0:04:54.\n"
     ]
    },
    {
     "name": "stderr",
     "output_type": "stream",
     "text": [
      "Training:  29%|██▉       | 1641/5625 [05:01<12:11,  5.45it/s]"
     ]
    },
    {
     "name": "stdout",
     "output_type": "stream",
     "text": [
      "  Batch 1640  of  5625.    Elapsed: 0:05:01.\n"
     ]
    },
    {
     "name": "stderr",
     "output_type": "stream",
     "text": [
      "Training:  30%|██▉       | 1681/5625 [05:08<12:08,  5.42it/s]"
     ]
    },
    {
     "name": "stdout",
     "output_type": "stream",
     "text": [
      "  Batch 1680  of  5625.    Elapsed: 0:05:08.\n"
     ]
    },
    {
     "name": "stderr",
     "output_type": "stream",
     "text": [
      "Training:  31%|███       | 1721/5625 [05:15<11:55,  5.46it/s]"
     ]
    },
    {
     "name": "stdout",
     "output_type": "stream",
     "text": [
      "  Batch 1720  of  5625.    Elapsed: 0:05:16.\n"
     ]
    },
    {
     "name": "stderr",
     "output_type": "stream",
     "text": [
      "Training:  31%|███▏      | 1761/5625 [05:23<11:55,  5.40it/s]"
     ]
    },
    {
     "name": "stdout",
     "output_type": "stream",
     "text": [
      "  Batch 1760  of  5625.    Elapsed: 0:05:23.\n"
     ]
    },
    {
     "name": "stderr",
     "output_type": "stream",
     "text": [
      "Training:  32%|███▏      | 1801/5625 [05:30<11:30,  5.54it/s]"
     ]
    },
    {
     "name": "stdout",
     "output_type": "stream",
     "text": [
      "  Batch 1800  of  5625.    Elapsed: 0:05:30.\n"
     ]
    },
    {
     "name": "stderr",
     "output_type": "stream",
     "text": [
      "Training:  33%|███▎      | 1841/5625 [05:37<11:54,  5.30it/s]"
     ]
    },
    {
     "name": "stdout",
     "output_type": "stream",
     "text": [
      "  Batch 1840  of  5625.    Elapsed: 0:05:38.\n"
     ]
    },
    {
     "name": "stderr",
     "output_type": "stream",
     "text": [
      "Training:  33%|███▎      | 1881/5625 [05:45<12:38,  4.93it/s]"
     ]
    },
    {
     "name": "stdout",
     "output_type": "stream",
     "text": [
      "  Batch 1880  of  5625.    Elapsed: 0:05:45.\n"
     ]
    },
    {
     "name": "stderr",
     "output_type": "stream",
     "text": [
      "Training:  34%|███▍      | 1921/5625 [05:53<11:34,  5.33it/s]"
     ]
    },
    {
     "name": "stdout",
     "output_type": "stream",
     "text": [
      "  Batch 1920  of  5625.    Elapsed: 0:05:53.\n"
     ]
    },
    {
     "name": "stderr",
     "output_type": "stream",
     "text": [
      "Training:  35%|███▍      | 1961/5625 [06:00<11:19,  5.40it/s]"
     ]
    },
    {
     "name": "stdout",
     "output_type": "stream",
     "text": [
      "  Batch 1960  of  5625.    Elapsed: 0:06:00.\n"
     ]
    },
    {
     "name": "stderr",
     "output_type": "stream",
     "text": [
      "Training:  36%|███▌      | 2000/5625 [06:07<11:05,  5.45it/s]"
     ]
    },
    {
     "name": "stdout",
     "output_type": "stream",
     "text": [
      "  Batch 2000  of  5625.    Elapsed: 0:06:08.\n"
     ]
    },
    {
     "name": "stderr",
     "output_type": "stream",
     "text": [
      "Training:  36%|███▋      | 2041/5625 [06:15<11:03,  5.40it/s]"
     ]
    },
    {
     "name": "stdout",
     "output_type": "stream",
     "text": [
      "  Batch 2040  of  5625.    Elapsed: 0:06:15.\n"
     ]
    },
    {
     "name": "stderr",
     "output_type": "stream",
     "text": [
      "Training:  37%|███▋      | 2081/5625 [06:22<10:36,  5.57it/s]"
     ]
    },
    {
     "name": "stdout",
     "output_type": "stream",
     "text": [
      "  Batch 2080  of  5625.    Elapsed: 0:06:22.\n"
     ]
    },
    {
     "name": "stderr",
     "output_type": "stream",
     "text": [
      "Training:  38%|███▊      | 2121/5625 [06:30<10:48,  5.40it/s]"
     ]
    },
    {
     "name": "stdout",
     "output_type": "stream",
     "text": [
      "  Batch 2120  of  5625.    Elapsed: 0:06:30.\n"
     ]
    },
    {
     "name": "stderr",
     "output_type": "stream",
     "text": [
      "Training:  38%|███▊      | 2161/5625 [06:37<10:31,  5.49it/s]"
     ]
    },
    {
     "name": "stdout",
     "output_type": "stream",
     "text": [
      "  Batch 2160  of  5625.    Elapsed: 0:06:37.\n"
     ]
    },
    {
     "name": "stderr",
     "output_type": "stream",
     "text": [
      "Training:  39%|███▉      | 2201/5625 [06:44<10:36,  5.38it/s]"
     ]
    },
    {
     "name": "stdout",
     "output_type": "stream",
     "text": [
      "  Batch 2200  of  5625.    Elapsed: 0:06:45.\n"
     ]
    },
    {
     "name": "stderr",
     "output_type": "stream",
     "text": [
      "Training:  40%|███▉      | 2241/5625 [06:52<10:11,  5.53it/s]"
     ]
    },
    {
     "name": "stdout",
     "output_type": "stream",
     "text": [
      "  Batch 2240  of  5625.    Elapsed: 0:06:52.\n"
     ]
    },
    {
     "name": "stderr",
     "output_type": "stream",
     "text": [
      "Training:  41%|████      | 2281/5625 [06:59<10:31,  5.30it/s]"
     ]
    },
    {
     "name": "stdout",
     "output_type": "stream",
     "text": [
      "  Batch 2280  of  5625.    Elapsed: 0:06:59.\n"
     ]
    },
    {
     "name": "stderr",
     "output_type": "stream",
     "text": [
      "Training:  41%|████▏     | 2321/5625 [07:06<10:01,  5.49it/s]"
     ]
    },
    {
     "name": "stdout",
     "output_type": "stream",
     "text": [
      "  Batch 2320  of  5625.    Elapsed: 0:07:07.\n"
     ]
    },
    {
     "name": "stderr",
     "output_type": "stream",
     "text": [
      "Training:  42%|████▏     | 2361/5625 [07:14<10:25,  5.22it/s]"
     ]
    },
    {
     "name": "stdout",
     "output_type": "stream",
     "text": [
      "  Batch 2360  of  5625.    Elapsed: 0:07:14.\n"
     ]
    },
    {
     "name": "stderr",
     "output_type": "stream",
     "text": [
      "Training:  43%|████▎     | 2401/5625 [07:21<09:42,  5.53it/s]"
     ]
    },
    {
     "name": "stdout",
     "output_type": "stream",
     "text": [
      "  Batch 2400  of  5625.    Elapsed: 0:07:21.\n"
     ]
    },
    {
     "name": "stderr",
     "output_type": "stream",
     "text": [
      "Training:  43%|████▎     | 2441/5625 [07:28<09:44,  5.44it/s]"
     ]
    },
    {
     "name": "stdout",
     "output_type": "stream",
     "text": [
      "  Batch 2440  of  5625.    Elapsed: 0:07:29.\n"
     ]
    },
    {
     "name": "stderr",
     "output_type": "stream",
     "text": [
      "Training:  44%|████▍     | 2481/5625 [07:36<09:31,  5.50it/s]"
     ]
    },
    {
     "name": "stdout",
     "output_type": "stream",
     "text": [
      "  Batch 2480  of  5625.    Elapsed: 0:07:36.\n"
     ]
    },
    {
     "name": "stderr",
     "output_type": "stream",
     "text": [
      "Training:  45%|████▍     | 2521/5625 [07:43<09:37,  5.38it/s]"
     ]
    },
    {
     "name": "stdout",
     "output_type": "stream",
     "text": [
      "  Batch 2520  of  5625.    Elapsed: 0:07:43.\n"
     ]
    },
    {
     "name": "stderr",
     "output_type": "stream",
     "text": [
      "Training:  46%|████▌     | 2561/5625 [07:51<09:31,  5.36it/s]"
     ]
    },
    {
     "name": "stdout",
     "output_type": "stream",
     "text": [
      "  Batch 2560  of  5625.    Elapsed: 0:07:51.\n"
     ]
    },
    {
     "name": "stderr",
     "output_type": "stream",
     "text": [
      "Training:  46%|████▌     | 2601/5625 [07:58<09:15,  5.44it/s]"
     ]
    },
    {
     "name": "stdout",
     "output_type": "stream",
     "text": [
      "  Batch 2600  of  5625.    Elapsed: 0:07:59.\n"
     ]
    },
    {
     "name": "stderr",
     "output_type": "stream",
     "text": [
      "Training:  47%|████▋     | 2641/5625 [08:06<09:14,  5.38it/s]"
     ]
    },
    {
     "name": "stdout",
     "output_type": "stream",
     "text": [
      "  Batch 2640  of  5625.    Elapsed: 0:08:06.\n"
     ]
    },
    {
     "name": "stderr",
     "output_type": "stream",
     "text": [
      "Training:  48%|████▊     | 2681/5625 [08:13<08:55,  5.50it/s]"
     ]
    },
    {
     "name": "stdout",
     "output_type": "stream",
     "text": [
      "  Batch 2680  of  5625.    Elapsed: 0:08:13.\n"
     ]
    },
    {
     "name": "stderr",
     "output_type": "stream",
     "text": [
      "Training:  48%|████▊     | 2721/5625 [08:21<08:59,  5.38it/s]"
     ]
    },
    {
     "name": "stdout",
     "output_type": "stream",
     "text": [
      "  Batch 2720  of  5625.    Elapsed: 0:08:21.\n"
     ]
    },
    {
     "name": "stderr",
     "output_type": "stream",
     "text": [
      "Training:  49%|████▉     | 2761/5625 [08:28<08:46,  5.44it/s]"
     ]
    },
    {
     "name": "stdout",
     "output_type": "stream",
     "text": [
      "  Batch 2760  of  5625.    Elapsed: 0:08:28.\n"
     ]
    },
    {
     "name": "stderr",
     "output_type": "stream",
     "text": [
      "Training:  50%|████▉     | 2801/5625 [08:35<08:46,  5.37it/s]"
     ]
    },
    {
     "name": "stdout",
     "output_type": "stream",
     "text": [
      "  Batch 2800  of  5625.    Elapsed: 0:08:36.\n"
     ]
    },
    {
     "name": "stderr",
     "output_type": "stream",
     "text": [
      "Training:  51%|█████     | 2841/5625 [08:43<08:22,  5.54it/s]"
     ]
    },
    {
     "name": "stdout",
     "output_type": "stream",
     "text": [
      "  Batch 2840  of  5625.    Elapsed: 0:08:43.\n"
     ]
    },
    {
     "name": "stderr",
     "output_type": "stream",
     "text": [
      "Training:  51%|█████     | 2881/5625 [08:50<08:44,  5.23it/s]"
     ]
    },
    {
     "name": "stdout",
     "output_type": "stream",
     "text": [
      "  Batch 2880  of  5625.    Elapsed: 0:08:50.\n"
     ]
    },
    {
     "name": "stderr",
     "output_type": "stream",
     "text": [
      "Training:  52%|█████▏    | 2921/5625 [08:57<08:15,  5.46it/s]"
     ]
    },
    {
     "name": "stdout",
     "output_type": "stream",
     "text": [
      "  Batch 2920  of  5625.    Elapsed: 0:08:58.\n"
     ]
    },
    {
     "name": "stderr",
     "output_type": "stream",
     "text": [
      "Training:  53%|█████▎    | 2961/5625 [09:05<08:18,  5.34it/s]"
     ]
    },
    {
     "name": "stdout",
     "output_type": "stream",
     "text": [
      "  Batch 2960  of  5625.    Elapsed: 0:09:05.\n"
     ]
    },
    {
     "name": "stderr",
     "output_type": "stream",
     "text": [
      "Training:  53%|█████▎    | 3001/5625 [09:12<07:53,  5.54it/s]"
     ]
    },
    {
     "name": "stdout",
     "output_type": "stream",
     "text": [
      "  Batch 3000  of  5625.    Elapsed: 0:09:13.\n"
     ]
    },
    {
     "name": "stderr",
     "output_type": "stream",
     "text": [
      "Training:  54%|█████▍    | 3041/5625 [09:20<07:58,  5.40it/s]"
     ]
    },
    {
     "name": "stdout",
     "output_type": "stream",
     "text": [
      "  Batch 3040  of  5625.    Elapsed: 0:09:20.\n"
     ]
    },
    {
     "name": "stderr",
     "output_type": "stream",
     "text": [
      "Training:  55%|█████▍    | 3081/5625 [09:27<07:47,  5.44it/s]"
     ]
    },
    {
     "name": "stdout",
     "output_type": "stream",
     "text": [
      "  Batch 3080  of  5625.    Elapsed: 0:09:27.\n"
     ]
    },
    {
     "name": "stderr",
     "output_type": "stream",
     "text": [
      "Training:  55%|█████▌    | 3121/5625 [09:34<07:42,  5.42it/s]"
     ]
    },
    {
     "name": "stdout",
     "output_type": "stream",
     "text": [
      "  Batch 3120  of  5625.    Elapsed: 0:09:35.\n"
     ]
    },
    {
     "name": "stderr",
     "output_type": "stream",
     "text": [
      "Training:  56%|█████▌    | 3161/5625 [09:42<07:29,  5.48it/s]"
     ]
    },
    {
     "name": "stdout",
     "output_type": "stream",
     "text": [
      "  Batch 3160  of  5625.    Elapsed: 0:09:42.\n"
     ]
    },
    {
     "name": "stderr",
     "output_type": "stream",
     "text": [
      "Training:  57%|█████▋    | 3201/5625 [09:50<07:43,  5.23it/s]"
     ]
    },
    {
     "name": "stdout",
     "output_type": "stream",
     "text": [
      "  Batch 3200  of  5625.    Elapsed: 0:09:50.\n"
     ]
    },
    {
     "name": "stderr",
     "output_type": "stream",
     "text": [
      "Training:  58%|█████▊    | 3241/5625 [09:57<07:24,  5.36it/s]"
     ]
    },
    {
     "name": "stdout",
     "output_type": "stream",
     "text": [
      "  Batch 3240  of  5625.    Elapsed: 0:09:58.\n"
     ]
    },
    {
     "name": "stderr",
     "output_type": "stream",
     "text": [
      "Training:  58%|█████▊    | 3281/5625 [10:05<07:11,  5.43it/s]"
     ]
    },
    {
     "name": "stdout",
     "output_type": "stream",
     "text": [
      "  Batch 3280  of  5625.    Elapsed: 0:10:05.\n"
     ]
    },
    {
     "name": "stderr",
     "output_type": "stream",
     "text": [
      "Training:  59%|█████▉    | 3321/5625 [10:12<07:09,  5.36it/s]"
     ]
    },
    {
     "name": "stdout",
     "output_type": "stream",
     "text": [
      "  Batch 3320  of  5625.    Elapsed: 0:10:12.\n"
     ]
    },
    {
     "name": "stderr",
     "output_type": "stream",
     "text": [
      "Training:  60%|█████▉    | 3361/5625 [10:19<06:58,  5.41it/s]"
     ]
    },
    {
     "name": "stdout",
     "output_type": "stream",
     "text": [
      "  Batch 3360  of  5625.    Elapsed: 0:10:20.\n"
     ]
    },
    {
     "name": "stderr",
     "output_type": "stream",
     "text": [
      "Training:  60%|██████    | 3401/5625 [10:27<07:07,  5.20it/s]"
     ]
    },
    {
     "name": "stdout",
     "output_type": "stream",
     "text": [
      "  Batch 3400  of  5625.    Elapsed: 0:10:27.\n"
     ]
    },
    {
     "name": "stderr",
     "output_type": "stream",
     "text": [
      "Training:  61%|██████    | 3441/5625 [10:34<06:54,  5.27it/s]"
     ]
    },
    {
     "name": "stdout",
     "output_type": "stream",
     "text": [
      "  Batch 3440  of  5625.    Elapsed: 0:10:35.\n"
     ]
    },
    {
     "name": "stderr",
     "output_type": "stream",
     "text": [
      "Training:  62%|██████▏   | 3481/5625 [10:42<06:52,  5.20it/s]"
     ]
    },
    {
     "name": "stdout",
     "output_type": "stream",
     "text": [
      "  Batch 3480  of  5625.    Elapsed: 0:10:42.\n"
     ]
    },
    {
     "name": "stderr",
     "output_type": "stream",
     "text": [
      "Training:  63%|██████▎   | 3521/5625 [10:49<06:30,  5.39it/s]"
     ]
    },
    {
     "name": "stdout",
     "output_type": "stream",
     "text": [
      "  Batch 3520  of  5625.    Elapsed: 0:10:50.\n"
     ]
    },
    {
     "name": "stderr",
     "output_type": "stream",
     "text": [
      "Training:  63%|██████▎   | 3561/5625 [10:57<06:31,  5.27it/s]"
     ]
    },
    {
     "name": "stdout",
     "output_type": "stream",
     "text": [
      "  Batch 3560  of  5625.    Elapsed: 0:10:57.\n"
     ]
    },
    {
     "name": "stderr",
     "output_type": "stream",
     "text": [
      "Training:  64%|██████▍   | 3601/5625 [11:04<06:14,  5.40it/s]"
     ]
    },
    {
     "name": "stdout",
     "output_type": "stream",
     "text": [
      "  Batch 3600  of  5625.    Elapsed: 0:11:04.\n"
     ]
    },
    {
     "name": "stderr",
     "output_type": "stream",
     "text": [
      "Training:  65%|██████▍   | 3641/5625 [11:11<06:06,  5.42it/s]"
     ]
    },
    {
     "name": "stdout",
     "output_type": "stream",
     "text": [
      "  Batch 3640  of  5625.    Elapsed: 0:11:12.\n"
     ]
    },
    {
     "name": "stderr",
     "output_type": "stream",
     "text": [
      "Training:  65%|██████▌   | 3681/5625 [11:19<05:57,  5.44it/s]"
     ]
    },
    {
     "name": "stdout",
     "output_type": "stream",
     "text": [
      "  Batch 3680  of  5625.    Elapsed: 0:11:19.\n"
     ]
    },
    {
     "name": "stderr",
     "output_type": "stream",
     "text": [
      "Training:  66%|██████▌   | 3721/5625 [11:26<05:50,  5.43it/s]"
     ]
    },
    {
     "name": "stdout",
     "output_type": "stream",
     "text": [
      "  Batch 3720  of  5625.    Elapsed: 0:11:27.\n"
     ]
    },
    {
     "name": "stderr",
     "output_type": "stream",
     "text": [
      "Training:  67%|██████▋   | 3761/5625 [11:34<05:42,  5.44it/s]"
     ]
    },
    {
     "name": "stdout",
     "output_type": "stream",
     "text": [
      "  Batch 3760  of  5625.    Elapsed: 0:11:34.\n"
     ]
    },
    {
     "name": "stderr",
     "output_type": "stream",
     "text": [
      "Training:  68%|██████▊   | 3801/5625 [11:41<05:31,  5.50it/s]"
     ]
    },
    {
     "name": "stdout",
     "output_type": "stream",
     "text": [
      "  Batch 3800  of  5625.    Elapsed: 0:11:41.\n"
     ]
    },
    {
     "name": "stderr",
     "output_type": "stream",
     "text": [
      "Training:  68%|██████▊   | 3841/5625 [11:49<05:40,  5.23it/s]"
     ]
    },
    {
     "name": "stdout",
     "output_type": "stream",
     "text": [
      "  Batch 3840  of  5625.    Elapsed: 0:11:49.\n"
     ]
    },
    {
     "name": "stderr",
     "output_type": "stream",
     "text": [
      "Training:  69%|██████▉   | 3881/5625 [11:56<05:15,  5.52it/s]"
     ]
    },
    {
     "name": "stdout",
     "output_type": "stream",
     "text": [
      "  Batch 3880  of  5625.    Elapsed: 0:11:57.\n"
     ]
    },
    {
     "name": "stderr",
     "output_type": "stream",
     "text": [
      "Training:  70%|██████▉   | 3921/5625 [12:04<05:11,  5.47it/s]"
     ]
    },
    {
     "name": "stdout",
     "output_type": "stream",
     "text": [
      "  Batch 3920  of  5625.    Elapsed: 0:12:04.\n"
     ]
    },
    {
     "name": "stderr",
     "output_type": "stream",
     "text": [
      "Training:  70%|███████   | 3961/5625 [12:11<04:59,  5.55it/s]"
     ]
    },
    {
     "name": "stdout",
     "output_type": "stream",
     "text": [
      "  Batch 3960  of  5625.    Elapsed: 0:12:11.\n"
     ]
    },
    {
     "name": "stderr",
     "output_type": "stream",
     "text": [
      "Training:  71%|███████   | 4001/5625 [12:19<05:09,  5.25it/s]"
     ]
    },
    {
     "name": "stdout",
     "output_type": "stream",
     "text": [
      "  Batch 4000  of  5625.    Elapsed: 0:12:19.\n"
     ]
    },
    {
     "name": "stderr",
     "output_type": "stream",
     "text": [
      "Training:  72%|███████▏  | 4041/5625 [12:26<04:51,  5.43it/s]"
     ]
    },
    {
     "name": "stdout",
     "output_type": "stream",
     "text": [
      "  Batch 4040  of  5625.    Elapsed: 0:12:26.\n"
     ]
    },
    {
     "name": "stderr",
     "output_type": "stream",
     "text": [
      "Training:  73%|███████▎  | 4081/5625 [12:33<04:48,  5.35it/s]"
     ]
    },
    {
     "name": "stdout",
     "output_type": "stream",
     "text": [
      "  Batch 4080  of  5625.    Elapsed: 0:12:34.\n"
     ]
    },
    {
     "name": "stderr",
     "output_type": "stream",
     "text": [
      "Training:  73%|███████▎  | 4121/5625 [12:41<04:33,  5.51it/s]"
     ]
    },
    {
     "name": "stdout",
     "output_type": "stream",
     "text": [
      "  Batch 4120  of  5625.    Elapsed: 0:12:41.\n"
     ]
    },
    {
     "name": "stderr",
     "output_type": "stream",
     "text": [
      "Training:  74%|███████▍  | 4161/5625 [12:48<04:33,  5.36it/s]"
     ]
    },
    {
     "name": "stdout",
     "output_type": "stream",
     "text": [
      "  Batch 4160  of  5625.    Elapsed: 0:12:48.\n"
     ]
    },
    {
     "name": "stderr",
     "output_type": "stream",
     "text": [
      "Training:  75%|███████▍  | 4201/5625 [12:56<04:24,  5.39it/s]"
     ]
    },
    {
     "name": "stdout",
     "output_type": "stream",
     "text": [
      "  Batch 4200  of  5625.    Elapsed: 0:12:56.\n"
     ]
    },
    {
     "name": "stderr",
     "output_type": "stream",
     "text": [
      "Training:  75%|███████▌  | 4241/5625 [13:03<04:09,  5.54it/s]"
     ]
    },
    {
     "name": "stdout",
     "output_type": "stream",
     "text": [
      "  Batch 4240  of  5625.    Elapsed: 0:13:03.\n"
     ]
    },
    {
     "name": "stderr",
     "output_type": "stream",
     "text": [
      "Training:  76%|███████▌  | 4281/5625 [13:10<04:06,  5.46it/s]"
     ]
    },
    {
     "name": "stdout",
     "output_type": "stream",
     "text": [
      "  Batch 4280  of  5625.    Elapsed: 0:13:11.\n"
     ]
    },
    {
     "name": "stderr",
     "output_type": "stream",
     "text": [
      "Training:  77%|███████▋  | 4321/5625 [13:18<03:59,  5.43it/s]"
     ]
    },
    {
     "name": "stdout",
     "output_type": "stream",
     "text": [
      "  Batch 4320  of  5625.    Elapsed: 0:13:18.\n"
     ]
    },
    {
     "name": "stderr",
     "output_type": "stream",
     "text": [
      "Training:  78%|███████▊  | 4361/5625 [13:25<03:53,  5.41it/s]"
     ]
    },
    {
     "name": "stdout",
     "output_type": "stream",
     "text": [
      "  Batch 4360  of  5625.    Elapsed: 0:13:25.\n"
     ]
    },
    {
     "name": "stderr",
     "output_type": "stream",
     "text": [
      "Training:  78%|███████▊  | 4401/5625 [13:32<03:40,  5.54it/s]"
     ]
    },
    {
     "name": "stdout",
     "output_type": "stream",
     "text": [
      "  Batch 4400  of  5625.    Elapsed: 0:13:33.\n"
     ]
    },
    {
     "name": "stderr",
     "output_type": "stream",
     "text": [
      "Training:  79%|███████▉  | 4441/5625 [13:40<03:36,  5.47it/s]"
     ]
    },
    {
     "name": "stdout",
     "output_type": "stream",
     "text": [
      "  Batch 4440  of  5625.    Elapsed: 0:13:40.\n"
     ]
    },
    {
     "name": "stderr",
     "output_type": "stream",
     "text": [
      "Training:  80%|███████▉  | 4480/5625 [13:48<04:01,  4.74it/s]"
     ]
    },
    {
     "name": "stdout",
     "output_type": "stream",
     "text": [
      "  Batch 4480  of  5625.    Elapsed: 0:13:48.\n"
     ]
    },
    {
     "name": "stderr",
     "output_type": "stream",
     "text": [
      "Training:  80%|████████  | 4521/5625 [13:56<03:28,  5.28it/s]"
     ]
    },
    {
     "name": "stdout",
     "output_type": "stream",
     "text": [
      "  Batch 4520  of  5625.    Elapsed: 0:13:56.\n"
     ]
    },
    {
     "name": "stderr",
     "output_type": "stream",
     "text": [
      "Training:  81%|████████  | 4561/5625 [14:03<03:16,  5.42it/s]"
     ]
    },
    {
     "name": "stdout",
     "output_type": "stream",
     "text": [
      "  Batch 4560  of  5625.    Elapsed: 0:14:04.\n"
     ]
    },
    {
     "name": "stderr",
     "output_type": "stream",
     "text": [
      "Training:  82%|████████▏ | 4601/5625 [14:11<03:13,  5.30it/s]"
     ]
    },
    {
     "name": "stdout",
     "output_type": "stream",
     "text": [
      "  Batch 4600  of  5625.    Elapsed: 0:14:11.\n"
     ]
    },
    {
     "name": "stderr",
     "output_type": "stream",
     "text": [
      "Training:  83%|████████▎ | 4641/5625 [14:18<03:01,  5.41it/s]"
     ]
    },
    {
     "name": "stdout",
     "output_type": "stream",
     "text": [
      "  Batch 4640  of  5625.    Elapsed: 0:14:19.\n"
     ]
    },
    {
     "name": "stderr",
     "output_type": "stream",
     "text": [
      "Training:  83%|████████▎ | 4681/5625 [14:26<02:58,  5.29it/s]"
     ]
    },
    {
     "name": "stdout",
     "output_type": "stream",
     "text": [
      "  Batch 4680  of  5625.    Elapsed: 0:14:26.\n"
     ]
    },
    {
     "name": "stderr",
     "output_type": "stream",
     "text": [
      "Training:  84%|████████▍ | 4721/5625 [14:33<02:43,  5.54it/s]"
     ]
    },
    {
     "name": "stdout",
     "output_type": "stream",
     "text": [
      "  Batch 4720  of  5625.    Elapsed: 0:14:33.\n"
     ]
    },
    {
     "name": "stderr",
     "output_type": "stream",
     "text": [
      "Training:  85%|████████▍ | 4761/5625 [14:41<02:42,  5.32it/s]"
     ]
    },
    {
     "name": "stdout",
     "output_type": "stream",
     "text": [
      "  Batch 4760  of  5625.    Elapsed: 0:14:41.\n"
     ]
    },
    {
     "name": "stderr",
     "output_type": "stream",
     "text": [
      "Training:  85%|████████▌ | 4801/5625 [14:48<02:32,  5.41it/s]"
     ]
    },
    {
     "name": "stdout",
     "output_type": "stream",
     "text": [
      "  Batch 4800  of  5625.    Elapsed: 0:14:48.\n"
     ]
    },
    {
     "name": "stderr",
     "output_type": "stream",
     "text": [
      "Training:  86%|████████▌ | 4841/5625 [14:55<02:25,  5.40it/s]"
     ]
    },
    {
     "name": "stdout",
     "output_type": "stream",
     "text": [
      "  Batch 4840  of  5625.    Elapsed: 0:14:56.\n"
     ]
    },
    {
     "name": "stderr",
     "output_type": "stream",
     "text": [
      "Training:  87%|████████▋ | 4881/5625 [15:03<02:17,  5.42it/s]"
     ]
    },
    {
     "name": "stdout",
     "output_type": "stream",
     "text": [
      "  Batch 4880  of  5625.    Elapsed: 0:15:03.\n"
     ]
    },
    {
     "name": "stderr",
     "output_type": "stream",
     "text": [
      "Training:  87%|████████▋ | 4921/5625 [15:10<02:08,  5.47it/s]"
     ]
    },
    {
     "name": "stdout",
     "output_type": "stream",
     "text": [
      "  Batch 4920  of  5625.    Elapsed: 0:15:10.\n"
     ]
    },
    {
     "name": "stderr",
     "output_type": "stream",
     "text": [
      "Training:  88%|████████▊ | 4961/5625 [15:18<02:01,  5.46it/s]"
     ]
    },
    {
     "name": "stdout",
     "output_type": "stream",
     "text": [
      "  Batch 4960  of  5625.    Elapsed: 0:15:18.\n"
     ]
    },
    {
     "name": "stderr",
     "output_type": "stream",
     "text": [
      "Training:  89%|████████▉ | 5001/5625 [15:25<01:54,  5.44it/s]"
     ]
    },
    {
     "name": "stdout",
     "output_type": "stream",
     "text": [
      "  Batch 5000  of  5625.    Elapsed: 0:15:25.\n"
     ]
    },
    {
     "name": "stderr",
     "output_type": "stream",
     "text": [
      "Training:  90%|████████▉ | 5041/5625 [15:32<01:46,  5.48it/s]"
     ]
    },
    {
     "name": "stdout",
     "output_type": "stream",
     "text": [
      "  Batch 5040  of  5625.    Elapsed: 0:15:33.\n"
     ]
    },
    {
     "name": "stderr",
     "output_type": "stream",
     "text": [
      "Training:  90%|█████████ | 5081/5625 [15:40<01:39,  5.45it/s]"
     ]
    },
    {
     "name": "stdout",
     "output_type": "stream",
     "text": [
      "  Batch 5080  of  5625.    Elapsed: 0:15:40.\n"
     ]
    },
    {
     "name": "stderr",
     "output_type": "stream",
     "text": [
      "Training:  91%|█████████ | 5121/5625 [15:48<01:40,  5.00it/s]"
     ]
    },
    {
     "name": "stdout",
     "output_type": "stream",
     "text": [
      "  Batch 5120  of  5625.    Elapsed: 0:15:48.\n"
     ]
    },
    {
     "name": "stderr",
     "output_type": "stream",
     "text": [
      "Training:  92%|█████████▏| 5161/5625 [15:55<01:24,  5.46it/s]"
     ]
    },
    {
     "name": "stdout",
     "output_type": "stream",
     "text": [
      "  Batch 5160  of  5625.    Elapsed: 0:15:55.\n"
     ]
    },
    {
     "name": "stderr",
     "output_type": "stream",
     "text": [
      "Training:  92%|█████████▏| 5200/5625 [16:02<01:20,  5.30it/s]"
     ]
    },
    {
     "name": "stdout",
     "output_type": "stream",
     "text": [
      "  Batch 5200  of  5625.    Elapsed: 0:16:03.\n"
     ]
    },
    {
     "name": "stderr",
     "output_type": "stream",
     "text": [
      "Training:  93%|█████████▎| 5241/5625 [16:10<01:11,  5.34it/s]"
     ]
    },
    {
     "name": "stdout",
     "output_type": "stream",
     "text": [
      "  Batch 5240  of  5625.    Elapsed: 0:16:10.\n"
     ]
    },
    {
     "name": "stderr",
     "output_type": "stream",
     "text": [
      "Training:  94%|█████████▍| 5281/5625 [16:18<01:07,  5.07it/s]"
     ]
    },
    {
     "name": "stdout",
     "output_type": "stream",
     "text": [
      "  Batch 5280  of  5625.    Elapsed: 0:16:18.\n"
     ]
    },
    {
     "name": "stderr",
     "output_type": "stream",
     "text": [
      "Training:  95%|█████████▍| 5321/5625 [16:26<00:56,  5.36it/s]"
     ]
    },
    {
     "name": "stdout",
     "output_type": "stream",
     "text": [
      "  Batch 5320  of  5625.    Elapsed: 0:16:26.\n"
     ]
    },
    {
     "name": "stderr",
     "output_type": "stream",
     "text": [
      "Training:  95%|█████████▌| 5361/5625 [16:33<00:51,  5.09it/s]"
     ]
    },
    {
     "name": "stdout",
     "output_type": "stream",
     "text": [
      "  Batch 5360  of  5625.    Elapsed: 0:16:34.\n"
     ]
    },
    {
     "name": "stderr",
     "output_type": "stream",
     "text": [
      "Training:  96%|█████████▌| 5400/5625 [16:41<00:41,  5.37it/s]"
     ]
    },
    {
     "name": "stdout",
     "output_type": "stream",
     "text": [
      "  Batch 5400  of  5625.    Elapsed: 0:16:41.\n"
     ]
    },
    {
     "name": "stderr",
     "output_type": "stream",
     "text": [
      "Training:  97%|█████████▋| 5441/5625 [16:49<00:35,  5.22it/s]"
     ]
    },
    {
     "name": "stdout",
     "output_type": "stream",
     "text": [
      "  Batch 5440  of  5625.    Elapsed: 0:16:49.\n"
     ]
    },
    {
     "name": "stderr",
     "output_type": "stream",
     "text": [
      "Training:  97%|█████████▋| 5481/5625 [16:56<00:26,  5.38it/s]"
     ]
    },
    {
     "name": "stdout",
     "output_type": "stream",
     "text": [
      "  Batch 5480  of  5625.    Elapsed: 0:16:57.\n"
     ]
    },
    {
     "name": "stderr",
     "output_type": "stream",
     "text": [
      "Training:  98%|█████████▊| 5521/5625 [17:04<00:19,  5.37it/s]"
     ]
    },
    {
     "name": "stdout",
     "output_type": "stream",
     "text": [
      "  Batch 5520  of  5625.    Elapsed: 0:17:04.\n"
     ]
    },
    {
     "name": "stderr",
     "output_type": "stream",
     "text": [
      "Training:  99%|█████████▉| 5561/5625 [17:12<00:12,  5.30it/s]"
     ]
    },
    {
     "name": "stdout",
     "output_type": "stream",
     "text": [
      "  Batch 5560  of  5625.    Elapsed: 0:17:12.\n"
     ]
    },
    {
     "name": "stderr",
     "output_type": "stream",
     "text": [
      "Training: 100%|█████████▉| 5601/5625 [17:19<00:04,  5.04it/s]"
     ]
    },
    {
     "name": "stdout",
     "output_type": "stream",
     "text": [
      "  Batch 5600  of  5625.    Elapsed: 0:17:20.\n"
     ]
    },
    {
     "name": "stderr",
     "output_type": "stream",
     "text": [
      "Training: 100%|██████████| 5625/5625 [17:24<00:00,  5.39it/s]\n"
     ]
    },
    {
     "name": "stdout",
     "output_type": "stream",
     "text": [
      "\n",
      "  Average training loss: 0.54\n",
      "  Training epoch took: 0:17:24\n",
      "\n",
      "Running Validation...\n"
     ]
    },
    {
     "name": "stderr",
     "output_type": "stream",
     "text": [
      "Validation: 100%|██████████| 625/625 [00:46<00:00, 13.51it/s]\n"
     ]
    },
    {
     "name": "stdout",
     "output_type": "stream",
     "text": [
      "  Accuracy: 0.75\n",
      "  Validation Loss: 0.51\n",
      "  Validation took: 0:00:46\n",
      "======== Epoch 2 / 5 ========\n",
      "Training...\n"
     ]
    },
    {
     "name": "stderr",
     "output_type": "stream",
     "text": [
      "Training:   1%|          | 41/5625 [00:07<16:53,  5.51it/s]"
     ]
    },
    {
     "name": "stdout",
     "output_type": "stream",
     "text": [
      "  Batch 40  of  5625.    Elapsed: 0:00:08.\n"
     ]
    },
    {
     "name": "stderr",
     "output_type": "stream",
     "text": [
      "Training:   1%|▏         | 81/5625 [00:15<17:38,  5.24it/s]"
     ]
    },
    {
     "name": "stdout",
     "output_type": "stream",
     "text": [
      "  Batch 80  of  5625.    Elapsed: 0:00:15.\n"
     ]
    },
    {
     "name": "stderr",
     "output_type": "stream",
     "text": [
      "Training:   2%|▏         | 121/5625 [00:22<16:57,  5.41it/s]"
     ]
    },
    {
     "name": "stdout",
     "output_type": "stream",
     "text": [
      "  Batch 120  of  5625.    Elapsed: 0:00:22.\n"
     ]
    },
    {
     "name": "stderr",
     "output_type": "stream",
     "text": [
      "Training:   3%|▎         | 161/5625 [00:30<17:10,  5.30it/s]"
     ]
    },
    {
     "name": "stdout",
     "output_type": "stream",
     "text": [
      "  Batch 160  of  5625.    Elapsed: 0:00:30.\n"
     ]
    },
    {
     "name": "stderr",
     "output_type": "stream",
     "text": [
      "Training:   4%|▎         | 201/5625 [00:37<16:19,  5.54it/s]"
     ]
    },
    {
     "name": "stdout",
     "output_type": "stream",
     "text": [
      "  Batch 200  of  5625.    Elapsed: 0:00:37.\n"
     ]
    },
    {
     "name": "stderr",
     "output_type": "stream",
     "text": [
      "Training:   4%|▍         | 241/5625 [00:44<16:37,  5.40it/s]"
     ]
    },
    {
     "name": "stdout",
     "output_type": "stream",
     "text": [
      "  Batch 240  of  5625.    Elapsed: 0:00:45.\n"
     ]
    },
    {
     "name": "stderr",
     "output_type": "stream",
     "text": [
      "Training:   5%|▍         | 281/5625 [00:52<16:32,  5.38it/s]"
     ]
    },
    {
     "name": "stdout",
     "output_type": "stream",
     "text": [
      "  Batch 280  of  5625.    Elapsed: 0:00:52.\n"
     ]
    },
    {
     "name": "stderr",
     "output_type": "stream",
     "text": [
      "Training:   6%|▌         | 321/5625 [00:59<16:22,  5.40it/s]"
     ]
    },
    {
     "name": "stdout",
     "output_type": "stream",
     "text": [
      "  Batch 320  of  5625.    Elapsed: 0:01:00.\n"
     ]
    },
    {
     "name": "stderr",
     "output_type": "stream",
     "text": [
      "Training:   6%|▋         | 361/5625 [01:07<16:13,  5.41it/s]"
     ]
    },
    {
     "name": "stdout",
     "output_type": "stream",
     "text": [
      "  Batch 360  of  5625.    Elapsed: 0:01:07.\n"
     ]
    },
    {
     "name": "stderr",
     "output_type": "stream",
     "text": [
      "Training:   7%|▋         | 401/5625 [01:14<16:01,  5.43it/s]"
     ]
    },
    {
     "name": "stdout",
     "output_type": "stream",
     "text": [
      "  Batch 400  of  5625.    Elapsed: 0:01:14.\n"
     ]
    },
    {
     "name": "stderr",
     "output_type": "stream",
     "text": [
      "Training:   8%|▊         | 441/5625 [01:22<16:08,  5.36it/s]"
     ]
    },
    {
     "name": "stdout",
     "output_type": "stream",
     "text": [
      "  Batch 440  of  5625.    Elapsed: 0:01:22.\n"
     ]
    },
    {
     "name": "stderr",
     "output_type": "stream",
     "text": [
      "Training:   9%|▊         | 481/5625 [01:29<15:33,  5.51it/s]"
     ]
    },
    {
     "name": "stdout",
     "output_type": "stream",
     "text": [
      "  Batch 480  of  5625.    Elapsed: 0:01:29.\n"
     ]
    },
    {
     "name": "stderr",
     "output_type": "stream",
     "text": [
      "Training:   9%|▉         | 521/5625 [01:37<17:11,  4.95it/s]"
     ]
    },
    {
     "name": "stdout",
     "output_type": "stream",
     "text": [
      "  Batch 520  of  5625.    Elapsed: 0:01:37.\n"
     ]
    },
    {
     "name": "stderr",
     "output_type": "stream",
     "text": [
      "Training:  10%|▉         | 561/5625 [01:44<15:33,  5.43it/s]"
     ]
    },
    {
     "name": "stdout",
     "output_type": "stream",
     "text": [
      "  Batch 560  of  5625.    Elapsed: 0:01:45.\n"
     ]
    },
    {
     "name": "stderr",
     "output_type": "stream",
     "text": [
      "Training:  11%|█         | 601/5625 [01:52<16:02,  5.22it/s]"
     ]
    },
    {
     "name": "stdout",
     "output_type": "stream",
     "text": [
      "  Batch 600  of  5625.    Elapsed: 0:01:52.\n"
     ]
    },
    {
     "name": "stderr",
     "output_type": "stream",
     "text": [
      "Training:  11%|█▏        | 641/5625 [01:59<15:03,  5.52it/s]"
     ]
    },
    {
     "name": "stdout",
     "output_type": "stream",
     "text": [
      "  Batch 640  of  5625.    Elapsed: 0:02:00.\n"
     ]
    },
    {
     "name": "stderr",
     "output_type": "stream",
     "text": [
      "Training:  12%|█▏        | 680/5625 [02:06<15:41,  5.25it/s]"
     ]
    },
    {
     "name": "stdout",
     "output_type": "stream",
     "text": [
      "  Batch 680  of  5625.    Elapsed: 0:02:07.\n"
     ]
    },
    {
     "name": "stderr",
     "output_type": "stream",
     "text": [
      "Training:  13%|█▎        | 721/5625 [02:14<15:09,  5.39it/s]"
     ]
    },
    {
     "name": "stdout",
     "output_type": "stream",
     "text": [
      "  Batch 720  of  5625.    Elapsed: 0:02:14.\n"
     ]
    },
    {
     "name": "stderr",
     "output_type": "stream",
     "text": [
      "Training:  14%|█▎        | 761/5625 [02:21<15:31,  5.22it/s]"
     ]
    },
    {
     "name": "stdout",
     "output_type": "stream",
     "text": [
      "  Batch 760  of  5625.    Elapsed: 0:02:22.\n"
     ]
    },
    {
     "name": "stderr",
     "output_type": "stream",
     "text": [
      "Training:  14%|█▍        | 801/5625 [02:29<14:35,  5.51it/s]"
     ]
    },
    {
     "name": "stdout",
     "output_type": "stream",
     "text": [
      "  Batch 800  of  5625.    Elapsed: 0:02:29.\n"
     ]
    },
    {
     "name": "stderr",
     "output_type": "stream",
     "text": [
      "Training:  15%|█▍        | 841/5625 [02:36<14:40,  5.43it/s]"
     ]
    },
    {
     "name": "stdout",
     "output_type": "stream",
     "text": [
      "  Batch 840  of  5625.    Elapsed: 0:02:37.\n"
     ]
    },
    {
     "name": "stderr",
     "output_type": "stream",
     "text": [
      "Training:  16%|█▌        | 881/5625 [02:44<14:27,  5.47it/s]"
     ]
    },
    {
     "name": "stdout",
     "output_type": "stream",
     "text": [
      "  Batch 880  of  5625.    Elapsed: 0:02:44.\n"
     ]
    },
    {
     "name": "stderr",
     "output_type": "stream",
     "text": [
      "Training:  16%|█▋        | 921/5625 [02:51<14:28,  5.42it/s]"
     ]
    },
    {
     "name": "stdout",
     "output_type": "stream",
     "text": [
      "  Batch 920  of  5625.    Elapsed: 0:02:51.\n"
     ]
    },
    {
     "name": "stderr",
     "output_type": "stream",
     "text": [
      "Training:  17%|█▋        | 961/5625 [02:59<14:21,  5.42it/s]"
     ]
    },
    {
     "name": "stdout",
     "output_type": "stream",
     "text": [
      "  Batch 960  of  5625.    Elapsed: 0:02:59.\n"
     ]
    },
    {
     "name": "stderr",
     "output_type": "stream",
     "text": [
      "Training:  18%|█▊        | 1001/5625 [03:06<13:56,  5.53it/s]"
     ]
    },
    {
     "name": "stdout",
     "output_type": "stream",
     "text": [
      "  Batch 1000  of  5625.    Elapsed: 0:03:06.\n"
     ]
    },
    {
     "name": "stderr",
     "output_type": "stream",
     "text": [
      "Training:  19%|█▊        | 1041/5625 [03:14<14:19,  5.34it/s]"
     ]
    },
    {
     "name": "stdout",
     "output_type": "stream",
     "text": [
      "  Batch 1040  of  5625.    Elapsed: 0:03:14.\n"
     ]
    },
    {
     "name": "stderr",
     "output_type": "stream",
     "text": [
      "Training:  19%|█▉        | 1081/5625 [03:21<14:04,  5.38it/s]"
     ]
    },
    {
     "name": "stdout",
     "output_type": "stream",
     "text": [
      "  Batch 1080  of  5625.    Elapsed: 0:03:21.\n"
     ]
    },
    {
     "name": "stderr",
     "output_type": "stream",
     "text": [
      "Training:  20%|█▉        | 1121/5625 [03:28<14:22,  5.22it/s]"
     ]
    },
    {
     "name": "stdout",
     "output_type": "stream",
     "text": [
      "  Batch 1120  of  5625.    Elapsed: 0:03:29.\n"
     ]
    },
    {
     "name": "stderr",
     "output_type": "stream",
     "text": [
      "Training:  21%|██        | 1161/5625 [03:36<14:58,  4.97it/s]"
     ]
    },
    {
     "name": "stdout",
     "output_type": "stream",
     "text": [
      "  Batch 1160  of  5625.    Elapsed: 0:03:36.\n"
     ]
    },
    {
     "name": "stderr",
     "output_type": "stream",
     "text": [
      "Training:  21%|██▏       | 1201/5625 [03:44<14:02,  5.25it/s]"
     ]
    },
    {
     "name": "stdout",
     "output_type": "stream",
     "text": [
      "  Batch 1200  of  5625.    Elapsed: 0:03:44.\n"
     ]
    },
    {
     "name": "stderr",
     "output_type": "stream",
     "text": [
      "Training:  22%|██▏       | 1241/5625 [03:51<13:29,  5.41it/s]"
     ]
    },
    {
     "name": "stdout",
     "output_type": "stream",
     "text": [
      "  Batch 1240  of  5625.    Elapsed: 0:03:51.\n"
     ]
    },
    {
     "name": "stderr",
     "output_type": "stream",
     "text": [
      "Training:  23%|██▎       | 1281/5625 [03:59<13:53,  5.21it/s]"
     ]
    },
    {
     "name": "stdout",
     "output_type": "stream",
     "text": [
      "  Batch 1280  of  5625.    Elapsed: 0:03:59.\n"
     ]
    },
    {
     "name": "stderr",
     "output_type": "stream",
     "text": [
      "Training:  23%|██▎       | 1321/5625 [04:06<13:12,  5.43it/s]"
     ]
    },
    {
     "name": "stdout",
     "output_type": "stream",
     "text": [
      "  Batch 1320  of  5625.    Elapsed: 0:04:06.\n"
     ]
    },
    {
     "name": "stderr",
     "output_type": "stream",
     "text": [
      "Training:  24%|██▍       | 1361/5625 [04:13<13:25,  5.30it/s]"
     ]
    },
    {
     "name": "stdout",
     "output_type": "stream",
     "text": [
      "  Batch 1360  of  5625.    Elapsed: 0:04:14.\n"
     ]
    },
    {
     "name": "stderr",
     "output_type": "stream",
     "text": [
      "Training:  25%|██▍       | 1401/5625 [04:21<13:02,  5.40it/s]"
     ]
    },
    {
     "name": "stdout",
     "output_type": "stream",
     "text": [
      "  Batch 1400  of  5625.    Elapsed: 0:04:21.\n"
     ]
    },
    {
     "name": "stderr",
     "output_type": "stream",
     "text": [
      "Training:  26%|██▌       | 1441/5625 [04:28<12:58,  5.38it/s]"
     ]
    },
    {
     "name": "stdout",
     "output_type": "stream",
     "text": [
      "  Batch 1440  of  5625.    Elapsed: 0:04:29.\n"
     ]
    },
    {
     "name": "stderr",
     "output_type": "stream",
     "text": [
      "Training:  26%|██▋       | 1481/5625 [04:36<13:03,  5.29it/s]"
     ]
    },
    {
     "name": "stdout",
     "output_type": "stream",
     "text": [
      "  Batch 1480  of  5625.    Elapsed: 0:04:36.\n"
     ]
    },
    {
     "name": "stderr",
     "output_type": "stream",
     "text": [
      "Training:  27%|██▋       | 1521/5625 [04:43<12:46,  5.35it/s]"
     ]
    },
    {
     "name": "stdout",
     "output_type": "stream",
     "text": [
      "  Batch 1520  of  5625.    Elapsed: 0:04:44.\n"
     ]
    },
    {
     "name": "stderr",
     "output_type": "stream",
     "text": [
      "Training:  28%|██▊       | 1561/5625 [04:51<12:35,  5.38it/s]"
     ]
    },
    {
     "name": "stdout",
     "output_type": "stream",
     "text": [
      "  Batch 1560  of  5625.    Elapsed: 0:04:51.\n"
     ]
    },
    {
     "name": "stderr",
     "output_type": "stream",
     "text": [
      "Training:  28%|██▊       | 1601/5625 [04:58<12:27,  5.38it/s]"
     ]
    },
    {
     "name": "stdout",
     "output_type": "stream",
     "text": [
      "  Batch 1600  of  5625.    Elapsed: 0:04:59.\n"
     ]
    },
    {
     "name": "stderr",
     "output_type": "stream",
     "text": [
      "Training:  29%|██▉       | 1641/5625 [05:06<12:23,  5.36it/s]"
     ]
    },
    {
     "name": "stdout",
     "output_type": "stream",
     "text": [
      "  Batch 1640  of  5625.    Elapsed: 0:05:06.\n"
     ]
    },
    {
     "name": "stderr",
     "output_type": "stream",
     "text": [
      "Training:  30%|██▉       | 1681/5625 [05:13<12:05,  5.44it/s]"
     ]
    },
    {
     "name": "stdout",
     "output_type": "stream",
     "text": [
      "  Batch 1680  of  5625.    Elapsed: 0:05:14.\n"
     ]
    },
    {
     "name": "stderr",
     "output_type": "stream",
     "text": [
      "Training:  31%|███       | 1721/5625 [05:21<12:16,  5.30it/s]"
     ]
    },
    {
     "name": "stdout",
     "output_type": "stream",
     "text": [
      "  Batch 1720  of  5625.    Elapsed: 0:05:21.\n"
     ]
    },
    {
     "name": "stderr",
     "output_type": "stream",
     "text": [
      "Training:  31%|███▏      | 1761/5625 [05:28<11:46,  5.47it/s]"
     ]
    },
    {
     "name": "stdout",
     "output_type": "stream",
     "text": [
      "  Batch 1760  of  5625.    Elapsed: 0:05:28.\n"
     ]
    },
    {
     "name": "stderr",
     "output_type": "stream",
     "text": [
      "Training:  32%|███▏      | 1801/5625 [05:36<13:01,  4.89it/s]"
     ]
    },
    {
     "name": "stdout",
     "output_type": "stream",
     "text": [
      "  Batch 1800  of  5625.    Elapsed: 0:05:36.\n"
     ]
    },
    {
     "name": "stderr",
     "output_type": "stream",
     "text": [
      "Training:  33%|███▎      | 1841/5625 [05:43<11:39,  5.41it/s]"
     ]
    },
    {
     "name": "stdout",
     "output_type": "stream",
     "text": [
      "  Batch 1840  of  5625.    Elapsed: 0:05:44.\n"
     ]
    },
    {
     "name": "stderr",
     "output_type": "stream",
     "text": [
      "Training:  33%|███▎      | 1881/5625 [05:51<11:47,  5.29it/s]"
     ]
    },
    {
     "name": "stdout",
     "output_type": "stream",
     "text": [
      "  Batch 1880  of  5625.    Elapsed: 0:05:51.\n"
     ]
    },
    {
     "name": "stderr",
     "output_type": "stream",
     "text": [
      "Training:  34%|███▍      | 1921/5625 [05:58<11:17,  5.46it/s]"
     ]
    },
    {
     "name": "stdout",
     "output_type": "stream",
     "text": [
      "  Batch 1920  of  5625.    Elapsed: 0:05:59.\n"
     ]
    },
    {
     "name": "stderr",
     "output_type": "stream",
     "text": [
      "Training:  35%|███▍      | 1961/5625 [06:06<11:46,  5.18it/s]"
     ]
    },
    {
     "name": "stdout",
     "output_type": "stream",
     "text": [
      "  Batch 1960  of  5625.    Elapsed: 0:06:06.\n"
     ]
    },
    {
     "name": "stderr",
     "output_type": "stream",
     "text": [
      "Training:  36%|███▌      | 2001/5625 [06:13<11:00,  5.48it/s]"
     ]
    },
    {
     "name": "stdout",
     "output_type": "stream",
     "text": [
      "  Batch 2000  of  5625.    Elapsed: 0:06:14.\n"
     ]
    },
    {
     "name": "stderr",
     "output_type": "stream",
     "text": [
      "Training:  36%|███▋      | 2041/5625 [06:21<11:12,  5.33it/s]"
     ]
    },
    {
     "name": "stdout",
     "output_type": "stream",
     "text": [
      "  Batch 2040  of  5625.    Elapsed: 0:06:21.\n"
     ]
    },
    {
     "name": "stderr",
     "output_type": "stream",
     "text": [
      "Training:  37%|███▋      | 2081/5625 [06:28<10:45,  5.49it/s]"
     ]
    },
    {
     "name": "stdout",
     "output_type": "stream",
     "text": [
      "  Batch 2080  of  5625.    Elapsed: 0:06:29.\n"
     ]
    },
    {
     "name": "stderr",
     "output_type": "stream",
     "text": [
      "Training:  38%|███▊      | 2121/5625 [06:36<10:42,  5.45it/s]"
     ]
    },
    {
     "name": "stdout",
     "output_type": "stream",
     "text": [
      "  Batch 2120  of  5625.    Elapsed: 0:06:36.\n"
     ]
    },
    {
     "name": "stderr",
     "output_type": "stream",
     "text": [
      "Training:  38%|███▊      | 2161/5625 [06:43<10:44,  5.37it/s]"
     ]
    },
    {
     "name": "stdout",
     "output_type": "stream",
     "text": [
      "  Batch 2160  of  5625.    Elapsed: 0:06:44.\n"
     ]
    },
    {
     "name": "stderr",
     "output_type": "stream",
     "text": [
      "Training:  39%|███▉      | 2201/5625 [06:51<10:34,  5.40it/s]"
     ]
    },
    {
     "name": "stdout",
     "output_type": "stream",
     "text": [
      "  Batch 2200  of  5625.    Elapsed: 0:06:51.\n"
     ]
    },
    {
     "name": "stderr",
     "output_type": "stream",
     "text": [
      "Training:  40%|███▉      | 2241/5625 [06:58<10:31,  5.36it/s]"
     ]
    },
    {
     "name": "stdout",
     "output_type": "stream",
     "text": [
      "  Batch 2240  of  5625.    Elapsed: 0:06:58.\n"
     ]
    },
    {
     "name": "stderr",
     "output_type": "stream",
     "text": [
      "Training:  41%|████      | 2281/5625 [07:05<10:12,  5.46it/s]"
     ]
    },
    {
     "name": "stdout",
     "output_type": "stream",
     "text": [
      "  Batch 2280  of  5625.    Elapsed: 0:07:06.\n"
     ]
    },
    {
     "name": "stderr",
     "output_type": "stream",
     "text": [
      "Training:  41%|████▏     | 2321/5625 [07:13<10:19,  5.34it/s]"
     ]
    },
    {
     "name": "stdout",
     "output_type": "stream",
     "text": [
      "  Batch 2320  of  5625.    Elapsed: 0:07:13.\n"
     ]
    },
    {
     "name": "stderr",
     "output_type": "stream",
     "text": [
      "Training:  42%|████▏     | 2361/5625 [07:20<09:47,  5.56it/s]"
     ]
    },
    {
     "name": "stdout",
     "output_type": "stream",
     "text": [
      "  Batch 2360  of  5625.    Elapsed: 0:07:21.\n"
     ]
    },
    {
     "name": "stderr",
     "output_type": "stream",
     "text": [
      "Training:  43%|████▎     | 2401/5625 [07:28<10:16,  5.23it/s]"
     ]
    },
    {
     "name": "stdout",
     "output_type": "stream",
     "text": [
      "  Batch 2400  of  5625.    Elapsed: 0:07:28.\n"
     ]
    },
    {
     "name": "stderr",
     "output_type": "stream",
     "text": [
      "Training:  43%|████▎     | 2441/5625 [07:36<10:37,  4.99it/s]"
     ]
    },
    {
     "name": "stdout",
     "output_type": "stream",
     "text": [
      "  Batch 2440  of  5625.    Elapsed: 0:07:36.\n"
     ]
    },
    {
     "name": "stderr",
     "output_type": "stream",
     "text": [
      "Training:  44%|████▍     | 2481/5625 [07:43<10:08,  5.16it/s]"
     ]
    },
    {
     "name": "stdout",
     "output_type": "stream",
     "text": [
      "  Batch 2480  of  5625.    Elapsed: 0:07:44.\n"
     ]
    },
    {
     "name": "stderr",
     "output_type": "stream",
     "text": [
      "Training:  45%|████▍     | 2521/5625 [07:51<09:36,  5.38it/s]"
     ]
    },
    {
     "name": "stdout",
     "output_type": "stream",
     "text": [
      "  Batch 2520  of  5625.    Elapsed: 0:07:51.\n"
     ]
    },
    {
     "name": "stderr",
     "output_type": "stream",
     "text": [
      "Training:  46%|████▌     | 2561/5625 [07:58<09:39,  5.29it/s]"
     ]
    },
    {
     "name": "stdout",
     "output_type": "stream",
     "text": [
      "  Batch 2560  of  5625.    Elapsed: 0:07:58.\n"
     ]
    },
    {
     "name": "stderr",
     "output_type": "stream",
     "text": [
      "Training:  46%|████▌     | 2601/5625 [08:06<09:15,  5.44it/s]"
     ]
    },
    {
     "name": "stdout",
     "output_type": "stream",
     "text": [
      "  Batch 2600  of  5625.    Elapsed: 0:08:06.\n"
     ]
    },
    {
     "name": "stderr",
     "output_type": "stream",
     "text": [
      "Training:  47%|████▋     | 2641/5625 [08:13<09:12,  5.40it/s]"
     ]
    },
    {
     "name": "stdout",
     "output_type": "stream",
     "text": [
      "  Batch 2640  of  5625.    Elapsed: 0:08:13.\n"
     ]
    },
    {
     "name": "stderr",
     "output_type": "stream",
     "text": [
      "Training:  48%|████▊     | 2681/5625 [08:20<09:04,  5.41it/s]"
     ]
    },
    {
     "name": "stdout",
     "output_type": "stream",
     "text": [
      "  Batch 2680  of  5625.    Elapsed: 0:08:21.\n"
     ]
    },
    {
     "name": "stderr",
     "output_type": "stream",
     "text": [
      "Training:  48%|████▊     | 2721/5625 [08:28<08:52,  5.45it/s]"
     ]
    },
    {
     "name": "stdout",
     "output_type": "stream",
     "text": [
      "  Batch 2720  of  5625.    Elapsed: 0:08:28.\n"
     ]
    },
    {
     "name": "stderr",
     "output_type": "stream",
     "text": [
      "Training:  49%|████▉     | 2761/5625 [08:35<08:50,  5.40it/s]"
     ]
    },
    {
     "name": "stdout",
     "output_type": "stream",
     "text": [
      "  Batch 2760  of  5625.    Elapsed: 0:08:36.\n"
     ]
    },
    {
     "name": "stderr",
     "output_type": "stream",
     "text": [
      "Training:  50%|████▉     | 2801/5625 [08:43<08:43,  5.39it/s]"
     ]
    },
    {
     "name": "stdout",
     "output_type": "stream",
     "text": [
      "  Batch 2800  of  5625.    Elapsed: 0:08:43.\n"
     ]
    },
    {
     "name": "stderr",
     "output_type": "stream",
     "text": [
      "Training:  51%|█████     | 2841/5625 [08:50<08:40,  5.35it/s]"
     ]
    },
    {
     "name": "stdout",
     "output_type": "stream",
     "text": [
      "  Batch 2840  of  5625.    Elapsed: 0:08:50.\n"
     ]
    },
    {
     "name": "stderr",
     "output_type": "stream",
     "text": [
      "Training:  51%|█████     | 2881/5625 [08:58<08:28,  5.39it/s]"
     ]
    },
    {
     "name": "stdout",
     "output_type": "stream",
     "text": [
      "  Batch 2880  of  5625.    Elapsed: 0:08:58.\n"
     ]
    },
    {
     "name": "stderr",
     "output_type": "stream",
     "text": [
      "Training:  52%|█████▏    | 2921/5625 [09:05<08:24,  5.36it/s]"
     ]
    },
    {
     "name": "stdout",
     "output_type": "stream",
     "text": [
      "  Batch 2920  of  5625.    Elapsed: 0:09:05.\n"
     ]
    },
    {
     "name": "stderr",
     "output_type": "stream",
     "text": [
      "Training:  53%|█████▎    | 2961/5625 [09:12<08:08,  5.46it/s]"
     ]
    },
    {
     "name": "stdout",
     "output_type": "stream",
     "text": [
      "  Batch 2960  of  5625.    Elapsed: 0:09:13.\n"
     ]
    },
    {
     "name": "stderr",
     "output_type": "stream",
     "text": [
      "Training:  53%|█████▎    | 3001/5625 [09:20<08:21,  5.23it/s]"
     ]
    },
    {
     "name": "stdout",
     "output_type": "stream",
     "text": [
      "  Batch 3000  of  5625.    Elapsed: 0:09:20.\n"
     ]
    },
    {
     "name": "stderr",
     "output_type": "stream",
     "text": [
      "Training:  54%|█████▍    | 3041/5625 [09:27<08:00,  5.38it/s]"
     ]
    },
    {
     "name": "stdout",
     "output_type": "stream",
     "text": [
      "  Batch 3040  of  5625.    Elapsed: 0:09:28.\n"
     ]
    },
    {
     "name": "stderr",
     "output_type": "stream",
     "text": [
      "Training:  55%|█████▍    | 3080/5625 [09:35<08:42,  4.87it/s]"
     ]
    },
    {
     "name": "stdout",
     "output_type": "stream",
     "text": [
      "  Batch 3080  of  5625.    Elapsed: 0:09:35.\n"
     ]
    },
    {
     "name": "stderr",
     "output_type": "stream",
     "text": [
      "Training:  55%|█████▌    | 3121/5625 [09:43<07:33,  5.53it/s]"
     ]
    },
    {
     "name": "stdout",
     "output_type": "stream",
     "text": [
      "  Batch 3120  of  5625.    Elapsed: 0:09:43.\n"
     ]
    },
    {
     "name": "stderr",
     "output_type": "stream",
     "text": [
      "Training:  56%|█████▌    | 3161/5625 [09:50<07:49,  5.24it/s]"
     ]
    },
    {
     "name": "stdout",
     "output_type": "stream",
     "text": [
      "  Batch 3160  of  5625.    Elapsed: 0:09:50.\n"
     ]
    },
    {
     "name": "stderr",
     "output_type": "stream",
     "text": [
      "Training:  57%|█████▋    | 3201/5625 [09:57<07:28,  5.40it/s]"
     ]
    },
    {
     "name": "stdout",
     "output_type": "stream",
     "text": [
      "  Batch 3200  of  5625.    Elapsed: 0:09:58.\n"
     ]
    },
    {
     "name": "stderr",
     "output_type": "stream",
     "text": [
      "Training:  58%|█████▊    | 3241/5625 [10:05<07:15,  5.47it/s]"
     ]
    },
    {
     "name": "stdout",
     "output_type": "stream",
     "text": [
      "  Batch 3240  of  5625.    Elapsed: 0:10:05.\n"
     ]
    },
    {
     "name": "stderr",
     "output_type": "stream",
     "text": [
      "Training:  58%|█████▊    | 3281/5625 [10:12<07:13,  5.40it/s]"
     ]
    },
    {
     "name": "stdout",
     "output_type": "stream",
     "text": [
      "  Batch 3280  of  5625.    Elapsed: 0:10:13.\n"
     ]
    },
    {
     "name": "stderr",
     "output_type": "stream",
     "text": [
      "Training:  59%|█████▉    | 3321/5625 [10:20<06:58,  5.51it/s]"
     ]
    },
    {
     "name": "stdout",
     "output_type": "stream",
     "text": [
      "  Batch 3320  of  5625.    Elapsed: 0:10:20.\n"
     ]
    },
    {
     "name": "stderr",
     "output_type": "stream",
     "text": [
      "Training:  60%|█████▉    | 3361/5625 [10:27<06:56,  5.44it/s]"
     ]
    },
    {
     "name": "stdout",
     "output_type": "stream",
     "text": [
      "  Batch 3360  of  5625.    Elapsed: 0:10:27.\n"
     ]
    },
    {
     "name": "stderr",
     "output_type": "stream",
     "text": [
      "Training:  60%|██████    | 3401/5625 [10:34<06:50,  5.42it/s]"
     ]
    },
    {
     "name": "stdout",
     "output_type": "stream",
     "text": [
      "  Batch 3400  of  5625.    Elapsed: 0:10:35.\n"
     ]
    },
    {
     "name": "stderr",
     "output_type": "stream",
     "text": [
      "Training:  61%|██████    | 3441/5625 [10:42<06:46,  5.37it/s]"
     ]
    },
    {
     "name": "stdout",
     "output_type": "stream",
     "text": [
      "  Batch 3440  of  5625.    Elapsed: 0:10:42.\n"
     ]
    },
    {
     "name": "stderr",
     "output_type": "stream",
     "text": [
      "Training:  62%|██████▏   | 3481/5625 [10:49<06:38,  5.39it/s]"
     ]
    },
    {
     "name": "stdout",
     "output_type": "stream",
     "text": [
      "  Batch 3480  of  5625.    Elapsed: 0:10:50.\n"
     ]
    },
    {
     "name": "stderr",
     "output_type": "stream",
     "text": [
      "Training:  63%|██████▎   | 3521/5625 [10:57<06:34,  5.34it/s]"
     ]
    },
    {
     "name": "stdout",
     "output_type": "stream",
     "text": [
      "  Batch 3520  of  5625.    Elapsed: 0:10:57.\n"
     ]
    },
    {
     "name": "stderr",
     "output_type": "stream",
     "text": [
      "Training:  63%|██████▎   | 3561/5625 [11:04<06:21,  5.42it/s]"
     ]
    },
    {
     "name": "stdout",
     "output_type": "stream",
     "text": [
      "  Batch 3560  of  5625.    Elapsed: 0:11:04.\n"
     ]
    },
    {
     "name": "stderr",
     "output_type": "stream",
     "text": [
      "Training:  64%|██████▍   | 3601/5625 [11:12<06:32,  5.16it/s]"
     ]
    },
    {
     "name": "stdout",
     "output_type": "stream",
     "text": [
      "  Batch 3600  of  5625.    Elapsed: 0:11:12.\n"
     ]
    },
    {
     "name": "stderr",
     "output_type": "stream",
     "text": [
      "Training:  65%|██████▍   | 3641/5625 [11:19<06:04,  5.45it/s]"
     ]
    },
    {
     "name": "stdout",
     "output_type": "stream",
     "text": [
      "  Batch 3640  of  5625.    Elapsed: 0:11:19.\n"
     ]
    },
    {
     "name": "stderr",
     "output_type": "stream",
     "text": [
      "Training:  65%|██████▌   | 3681/5625 [11:26<06:01,  5.37it/s]"
     ]
    },
    {
     "name": "stdout",
     "output_type": "stream",
     "text": [
      "  Batch 3680  of  5625.    Elapsed: 0:11:27.\n"
     ]
    },
    {
     "name": "stderr",
     "output_type": "stream",
     "text": [
      "Training:  66%|██████▌   | 3721/5625 [11:34<06:31,  4.86it/s]"
     ]
    },
    {
     "name": "stdout",
     "output_type": "stream",
     "text": [
      "  Batch 3720  of  5625.    Elapsed: 0:11:34.\n"
     ]
    },
    {
     "name": "stderr",
     "output_type": "stream",
     "text": [
      "Training:  67%|██████▋   | 3761/5625 [11:42<06:00,  5.17it/s]"
     ]
    },
    {
     "name": "stdout",
     "output_type": "stream",
     "text": [
      "  Batch 3760  of  5625.    Elapsed: 0:11:42.\n"
     ]
    },
    {
     "name": "stderr",
     "output_type": "stream",
     "text": [
      "Training:  68%|██████▊   | 3801/5625 [11:49<05:33,  5.47it/s]"
     ]
    },
    {
     "name": "stdout",
     "output_type": "stream",
     "text": [
      "  Batch 3800  of  5625.    Elapsed: 0:11:50.\n"
     ]
    },
    {
     "name": "stderr",
     "output_type": "stream",
     "text": [
      "Training:  68%|██████▊   | 3841/5625 [11:57<05:32,  5.37it/s]"
     ]
    },
    {
     "name": "stdout",
     "output_type": "stream",
     "text": [
      "  Batch 3840  of  5625.    Elapsed: 0:11:57.\n"
     ]
    },
    {
     "name": "stderr",
     "output_type": "stream",
     "text": [
      "Training:  69%|██████▉   | 3881/5625 [12:04<05:16,  5.52it/s]"
     ]
    },
    {
     "name": "stdout",
     "output_type": "stream",
     "text": [
      "  Batch 3880  of  5625.    Elapsed: 0:12:04.\n"
     ]
    },
    {
     "name": "stderr",
     "output_type": "stream",
     "text": [
      "Training:  70%|██████▉   | 3921/5625 [12:11<05:08,  5.52it/s]"
     ]
    },
    {
     "name": "stdout",
     "output_type": "stream",
     "text": [
      "  Batch 3920  of  5625.    Elapsed: 0:12:12.\n"
     ]
    },
    {
     "name": "stderr",
     "output_type": "stream",
     "text": [
      "Training:  70%|███████   | 3961/5625 [12:19<05:05,  5.44it/s]"
     ]
    },
    {
     "name": "stdout",
     "output_type": "stream",
     "text": [
      "  Batch 3960  of  5625.    Elapsed: 0:12:19.\n"
     ]
    },
    {
     "name": "stderr",
     "output_type": "stream",
     "text": [
      "Training:  71%|███████   | 4001/5625 [12:26<05:00,  5.40it/s]"
     ]
    },
    {
     "name": "stdout",
     "output_type": "stream",
     "text": [
      "  Batch 4000  of  5625.    Elapsed: 0:12:27.\n"
     ]
    },
    {
     "name": "stderr",
     "output_type": "stream",
     "text": [
      "Training:  72%|███████▏  | 4041/5625 [12:34<04:50,  5.46it/s]"
     ]
    },
    {
     "name": "stdout",
     "output_type": "stream",
     "text": [
      "  Batch 4040  of  5625.    Elapsed: 0:12:34.\n"
     ]
    },
    {
     "name": "stderr",
     "output_type": "stream",
     "text": [
      "Training:  73%|███████▎  | 4081/5625 [12:41<04:42,  5.46it/s]"
     ]
    },
    {
     "name": "stdout",
     "output_type": "stream",
     "text": [
      "  Batch 4080  of  5625.    Elapsed: 0:12:42.\n"
     ]
    },
    {
     "name": "stderr",
     "output_type": "stream",
     "text": [
      "Training:  73%|███████▎  | 4121/5625 [12:49<04:42,  5.33it/s]"
     ]
    },
    {
     "name": "stdout",
     "output_type": "stream",
     "text": [
      "  Batch 4120  of  5625.    Elapsed: 0:12:49.\n"
     ]
    },
    {
     "name": "stderr",
     "output_type": "stream",
     "text": [
      "Training:  74%|███████▍  | 4161/5625 [12:56<04:30,  5.42it/s]"
     ]
    },
    {
     "name": "stdout",
     "output_type": "stream",
     "text": [
      "  Batch 4160  of  5625.    Elapsed: 0:12:56.\n"
     ]
    },
    {
     "name": "stderr",
     "output_type": "stream",
     "text": [
      "Training:  75%|███████▍  | 4201/5625 [13:03<04:31,  5.25it/s]"
     ]
    },
    {
     "name": "stdout",
     "output_type": "stream",
     "text": [
      "  Batch 4200  of  5625.    Elapsed: 0:13:04.\n"
     ]
    },
    {
     "name": "stderr",
     "output_type": "stream",
     "text": [
      "Training:  75%|███████▌  | 4241/5625 [13:11<04:19,  5.32it/s]"
     ]
    },
    {
     "name": "stdout",
     "output_type": "stream",
     "text": [
      "  Batch 4240  of  5625.    Elapsed: 0:13:11.\n"
     ]
    },
    {
     "name": "stderr",
     "output_type": "stream",
     "text": [
      "Training:  76%|███████▌  | 4281/5625 [13:19<04:21,  5.15it/s]"
     ]
    },
    {
     "name": "stdout",
     "output_type": "stream",
     "text": [
      "  Batch 4280  of  5625.    Elapsed: 0:13:19.\n"
     ]
    },
    {
     "name": "stderr",
     "output_type": "stream",
     "text": [
      "Training:  77%|███████▋  | 4321/5625 [13:26<04:02,  5.38it/s]"
     ]
    },
    {
     "name": "stdout",
     "output_type": "stream",
     "text": [
      "  Batch 4320  of  5625.    Elapsed: 0:13:26.\n"
     ]
    },
    {
     "name": "stderr",
     "output_type": "stream",
     "text": [
      "Training:  78%|███████▊  | 4360/5625 [13:33<04:19,  4.88it/s]"
     ]
    },
    {
     "name": "stdout",
     "output_type": "stream",
     "text": [
      "  Batch 4360  of  5625.    Elapsed: 0:13:34.\n"
     ]
    },
    {
     "name": "stderr",
     "output_type": "stream",
     "text": [
      "Training:  78%|███████▊  | 4401/5625 [13:41<03:46,  5.39it/s]"
     ]
    },
    {
     "name": "stdout",
     "output_type": "stream",
     "text": [
      "  Batch 4400  of  5625.    Elapsed: 0:13:42.\n"
     ]
    },
    {
     "name": "stderr",
     "output_type": "stream",
     "text": [
      "Training:  79%|███████▉  | 4441/5625 [13:49<03:42,  5.33it/s]"
     ]
    },
    {
     "name": "stdout",
     "output_type": "stream",
     "text": [
      "  Batch 4440  of  5625.    Elapsed: 0:13:49.\n"
     ]
    },
    {
     "name": "stderr",
     "output_type": "stream",
     "text": [
      "Training:  80%|███████▉  | 4481/5625 [13:57<03:31,  5.40it/s]"
     ]
    },
    {
     "name": "stdout",
     "output_type": "stream",
     "text": [
      "  Batch 4480  of  5625.    Elapsed: 0:13:57.\n"
     ]
    },
    {
     "name": "stderr",
     "output_type": "stream",
     "text": [
      "Training:  80%|████████  | 4521/5625 [14:04<03:25,  5.38it/s]"
     ]
    },
    {
     "name": "stdout",
     "output_type": "stream",
     "text": [
      "  Batch 4520  of  5625.    Elapsed: 0:14:04.\n"
     ]
    },
    {
     "name": "stderr",
     "output_type": "stream",
     "text": [
      "Training:  81%|████████  | 4561/5625 [14:11<03:18,  5.36it/s]"
     ]
    },
    {
     "name": "stdout",
     "output_type": "stream",
     "text": [
      "  Batch 4560  of  5625.    Elapsed: 0:14:12.\n"
     ]
    },
    {
     "name": "stderr",
     "output_type": "stream",
     "text": [
      "Training:  82%|████████▏ | 4601/5625 [14:19<03:09,  5.39it/s]"
     ]
    },
    {
     "name": "stdout",
     "output_type": "stream",
     "text": [
      "  Batch 4600  of  5625.    Elapsed: 0:14:19.\n"
     ]
    },
    {
     "name": "stderr",
     "output_type": "stream",
     "text": [
      "Training:  83%|████████▎ | 4641/5625 [14:26<03:00,  5.44it/s]"
     ]
    },
    {
     "name": "stdout",
     "output_type": "stream",
     "text": [
      "  Batch 4640  of  5625.    Elapsed: 0:14:27.\n"
     ]
    },
    {
     "name": "stderr",
     "output_type": "stream",
     "text": [
      "Training:  83%|████████▎ | 4681/5625 [14:34<02:55,  5.38it/s]"
     ]
    },
    {
     "name": "stdout",
     "output_type": "stream",
     "text": [
      "  Batch 4680  of  5625.    Elapsed: 0:14:34.\n"
     ]
    },
    {
     "name": "stderr",
     "output_type": "stream",
     "text": [
      "Training:  84%|████████▍ | 4721/5625 [14:41<02:49,  5.33it/s]"
     ]
    },
    {
     "name": "stdout",
     "output_type": "stream",
     "text": [
      "  Batch 4720  of  5625.    Elapsed: 0:14:41.\n"
     ]
    },
    {
     "name": "stderr",
     "output_type": "stream",
     "text": [
      "Training:  85%|████████▍ | 4761/5625 [14:48<02:36,  5.51it/s]"
     ]
    },
    {
     "name": "stdout",
     "output_type": "stream",
     "text": [
      "  Batch 4760  of  5625.    Elapsed: 0:14:49.\n"
     ]
    },
    {
     "name": "stderr",
     "output_type": "stream",
     "text": [
      "Training:  85%|████████▌ | 4801/5625 [14:56<02:36,  5.26it/s]"
     ]
    },
    {
     "name": "stdout",
     "output_type": "stream",
     "text": [
      "  Batch 4800  of  5625.    Elapsed: 0:14:56.\n"
     ]
    },
    {
     "name": "stderr",
     "output_type": "stream",
     "text": [
      "Training:  86%|████████▌ | 4841/5625 [15:04<02:27,  5.30it/s]"
     ]
    },
    {
     "name": "stdout",
     "output_type": "stream",
     "text": [
      "  Batch 4840  of  5625.    Elapsed: 0:15:04.\n"
     ]
    },
    {
     "name": "stderr",
     "output_type": "stream",
     "text": [
      "Training:  87%|████████▋ | 4881/5625 [15:11<02:20,  5.28it/s]"
     ]
    },
    {
     "name": "stdout",
     "output_type": "stream",
     "text": [
      "  Batch 4880  of  5625.    Elapsed: 0:15:11.\n"
     ]
    },
    {
     "name": "stderr",
     "output_type": "stream",
     "text": [
      "Training:  87%|████████▋ | 4921/5625 [15:18<02:10,  5.39it/s]"
     ]
    },
    {
     "name": "stdout",
     "output_type": "stream",
     "text": [
      "  Batch 4920  of  5625.    Elapsed: 0:15:19.\n"
     ]
    },
    {
     "name": "stderr",
     "output_type": "stream",
     "text": [
      "Training:  88%|████████▊ | 4961/5625 [15:26<02:05,  5.30it/s]"
     ]
    },
    {
     "name": "stdout",
     "output_type": "stream",
     "text": [
      "  Batch 4960  of  5625.    Elapsed: 0:15:26.\n"
     ]
    },
    {
     "name": "stderr",
     "output_type": "stream",
     "text": [
      "Training:  89%|████████▉ | 5000/5625 [15:33<02:02,  5.11it/s]"
     ]
    },
    {
     "name": "stdout",
     "output_type": "stream",
     "text": [
      "  Batch 5000  of  5625.    Elapsed: 0:15:34.\n"
     ]
    },
    {
     "name": "stderr",
     "output_type": "stream",
     "text": [
      "Training:  90%|████████▉ | 5041/5625 [15:41<01:49,  5.33it/s]"
     ]
    },
    {
     "name": "stdout",
     "output_type": "stream",
     "text": [
      "  Batch 5040  of  5625.    Elapsed: 0:15:42.\n"
     ]
    },
    {
     "name": "stderr",
     "output_type": "stream",
     "text": [
      "Training:  90%|█████████ | 5081/5625 [15:49<01:38,  5.50it/s]"
     ]
    },
    {
     "name": "stdout",
     "output_type": "stream",
     "text": [
      "  Batch 5080  of  5625.    Elapsed: 0:15:49.\n"
     ]
    },
    {
     "name": "stderr",
     "output_type": "stream",
     "text": [
      "Training:  91%|█████████ | 5121/5625 [15:56<01:32,  5.44it/s]"
     ]
    },
    {
     "name": "stdout",
     "output_type": "stream",
     "text": [
      "  Batch 5120  of  5625.    Elapsed: 0:15:56.\n"
     ]
    },
    {
     "name": "stderr",
     "output_type": "stream",
     "text": [
      "Training:  92%|█████████▏| 5161/5625 [16:04<01:26,  5.37it/s]"
     ]
    },
    {
     "name": "stdout",
     "output_type": "stream",
     "text": [
      "  Batch 5160  of  5625.    Elapsed: 0:16:04.\n"
     ]
    },
    {
     "name": "stderr",
     "output_type": "stream",
     "text": [
      "Training:  92%|█████████▏| 5201/5625 [16:11<01:18,  5.42it/s]"
     ]
    },
    {
     "name": "stdout",
     "output_type": "stream",
     "text": [
      "  Batch 5200  of  5625.    Elapsed: 0:16:11.\n"
     ]
    },
    {
     "name": "stderr",
     "output_type": "stream",
     "text": [
      "Training:  93%|█████████▎| 5241/5625 [16:19<01:10,  5.43it/s]"
     ]
    },
    {
     "name": "stdout",
     "output_type": "stream",
     "text": [
      "  Batch 5240  of  5625.    Elapsed: 0:16:19.\n"
     ]
    },
    {
     "name": "stderr",
     "output_type": "stream",
     "text": [
      "Training:  94%|█████████▍| 5281/5625 [16:26<01:03,  5.39it/s]"
     ]
    },
    {
     "name": "stdout",
     "output_type": "stream",
     "text": [
      "  Batch 5280  of  5625.    Elapsed: 0:16:26.\n"
     ]
    },
    {
     "name": "stderr",
     "output_type": "stream",
     "text": [
      "Training:  95%|█████████▍| 5321/5625 [16:34<00:58,  5.20it/s]"
     ]
    },
    {
     "name": "stdout",
     "output_type": "stream",
     "text": [
      "  Batch 5320  of  5625.    Elapsed: 0:16:34.\n"
     ]
    },
    {
     "name": "stderr",
     "output_type": "stream",
     "text": [
      "Training:  95%|█████████▌| 5361/5625 [16:41<00:50,  5.25it/s]"
     ]
    },
    {
     "name": "stdout",
     "output_type": "stream",
     "text": [
      "  Batch 5360  of  5625.    Elapsed: 0:16:42.\n"
     ]
    },
    {
     "name": "stderr",
     "output_type": "stream",
     "text": [
      "Training:  96%|█████████▌| 5401/5625 [16:49<00:43,  5.12it/s]"
     ]
    },
    {
     "name": "stdout",
     "output_type": "stream",
     "text": [
      "  Batch 5400  of  5625.    Elapsed: 0:16:49.\n"
     ]
    },
    {
     "name": "stderr",
     "output_type": "stream",
     "text": [
      "Training:  97%|█████████▋| 5440/5625 [16:57<00:38,  4.82it/s]"
     ]
    },
    {
     "name": "stdout",
     "output_type": "stream",
     "text": [
      "  Batch 5440  of  5625.    Elapsed: 0:16:57.\n"
     ]
    },
    {
     "name": "stderr",
     "output_type": "stream",
     "text": [
      "Training:  97%|█████████▋| 5481/5625 [17:05<00:27,  5.17it/s]"
     ]
    },
    {
     "name": "stdout",
     "output_type": "stream",
     "text": [
      "  Batch 5480  of  5625.    Elapsed: 0:17:06.\n"
     ]
    },
    {
     "name": "stderr",
     "output_type": "stream",
     "text": [
      "Training:  98%|█████████▊| 5521/5625 [17:13<00:20,  5.19it/s]"
     ]
    },
    {
     "name": "stdout",
     "output_type": "stream",
     "text": [
      "  Batch 5520  of  5625.    Elapsed: 0:17:13.\n"
     ]
    },
    {
     "name": "stderr",
     "output_type": "stream",
     "text": [
      "Training:  99%|█████████▉| 5561/5625 [17:21<00:12,  5.17it/s]"
     ]
    },
    {
     "name": "stdout",
     "output_type": "stream",
     "text": [
      "  Batch 5560  of  5625.    Elapsed: 0:17:21.\n"
     ]
    },
    {
     "name": "stderr",
     "output_type": "stream",
     "text": [
      "Training: 100%|█████████▉| 5601/5625 [17:28<00:04,  5.24it/s]"
     ]
    },
    {
     "name": "stdout",
     "output_type": "stream",
     "text": [
      "  Batch 5600  of  5625.    Elapsed: 0:17:29.\n"
     ]
    },
    {
     "name": "stderr",
     "output_type": "stream",
     "text": [
      "Training: 100%|██████████| 5625/5625 [17:33<00:00,  5.34it/s]\n"
     ]
    },
    {
     "name": "stdout",
     "output_type": "stream",
     "text": [
      "\n",
      "  Average training loss: 0.45\n",
      "  Training epoch took: 0:17:33\n",
      "\n",
      "Running Validation...\n"
     ]
    },
    {
     "name": "stderr",
     "output_type": "stream",
     "text": [
      "Validation: 100%|██████████| 625/625 [00:46<00:00, 13.45it/s]\n"
     ]
    },
    {
     "name": "stdout",
     "output_type": "stream",
     "text": [
      "  Accuracy: 0.75\n",
      "  Validation Loss: 0.51\n",
      "  Validation took: 0:00:46\n",
      "======== Epoch 3 / 5 ========\n",
      "Training...\n"
     ]
    },
    {
     "name": "stderr",
     "output_type": "stream",
     "text": [
      "Training:   1%|          | 41/5625 [00:07<17:26,  5.33it/s]"
     ]
    },
    {
     "name": "stdout",
     "output_type": "stream",
     "text": [
      "  Batch 40  of  5625.    Elapsed: 0:00:07.\n"
     ]
    },
    {
     "name": "stderr",
     "output_type": "stream",
     "text": [
      "Training:   1%|▏         | 81/5625 [00:15<17:05,  5.41it/s]"
     ]
    },
    {
     "name": "stdout",
     "output_type": "stream",
     "text": [
      "  Batch 80  of  5625.    Elapsed: 0:00:15.\n"
     ]
    },
    {
     "name": "stderr",
     "output_type": "stream",
     "text": [
      "Training:   2%|▏         | 121/5625 [00:22<17:07,  5.36it/s]"
     ]
    },
    {
     "name": "stdout",
     "output_type": "stream",
     "text": [
      "  Batch 120  of  5625.    Elapsed: 0:00:22.\n"
     ]
    },
    {
     "name": "stderr",
     "output_type": "stream",
     "text": [
      "Training:   3%|▎         | 161/5625 [00:29<16:32,  5.51it/s]"
     ]
    },
    {
     "name": "stdout",
     "output_type": "stream",
     "text": [
      "  Batch 160  of  5625.    Elapsed: 0:00:30.\n"
     ]
    },
    {
     "name": "stderr",
     "output_type": "stream",
     "text": [
      "Training:   4%|▎         | 201/5625 [00:37<16:58,  5.32it/s]"
     ]
    },
    {
     "name": "stdout",
     "output_type": "stream",
     "text": [
      "  Batch 200  of  5625.    Elapsed: 0:00:37.\n"
     ]
    },
    {
     "name": "stderr",
     "output_type": "stream",
     "text": [
      "Training:   4%|▍         | 241/5625 [00:44<16:29,  5.44it/s]"
     ]
    },
    {
     "name": "stdout",
     "output_type": "stream",
     "text": [
      "  Batch 240  of  5625.    Elapsed: 0:00:45.\n"
     ]
    },
    {
     "name": "stderr",
     "output_type": "stream",
     "text": [
      "Training:   5%|▍         | 281/5625 [00:52<17:12,  5.17it/s]"
     ]
    },
    {
     "name": "stdout",
     "output_type": "stream",
     "text": [
      "  Batch 280  of  5625.    Elapsed: 0:00:52.\n"
     ]
    },
    {
     "name": "stderr",
     "output_type": "stream",
     "text": [
      "Training:   6%|▌         | 321/5625 [00:59<16:18,  5.42it/s]"
     ]
    },
    {
     "name": "stdout",
     "output_type": "stream",
     "text": [
      "  Batch 320  of  5625.    Elapsed: 0:00:59.\n"
     ]
    },
    {
     "name": "stderr",
     "output_type": "stream",
     "text": [
      "Training:   6%|▋         | 361/5625 [01:06<16:40,  5.26it/s]"
     ]
    },
    {
     "name": "stdout",
     "output_type": "stream",
     "text": [
      "  Batch 360  of  5625.    Elapsed: 0:01:07.\n"
     ]
    },
    {
     "name": "stderr",
     "output_type": "stream",
     "text": [
      "Training:   7%|▋         | 400/5625 [01:14<18:12,  4.78it/s]"
     ]
    },
    {
     "name": "stdout",
     "output_type": "stream",
     "text": [
      "  Batch 400  of  5625.    Elapsed: 0:01:14.\n"
     ]
    },
    {
     "name": "stderr",
     "output_type": "stream",
     "text": [
      "Training:   8%|▊         | 441/5625 [01:22<16:23,  5.27it/s]"
     ]
    },
    {
     "name": "stdout",
     "output_type": "stream",
     "text": [
      "  Batch 440  of  5625.    Elapsed: 0:01:22.\n"
     ]
    },
    {
     "name": "stderr",
     "output_type": "stream",
     "text": [
      "Training:   9%|▊         | 481/5625 [01:29<15:47,  5.43it/s]"
     ]
    },
    {
     "name": "stdout",
     "output_type": "stream",
     "text": [
      "  Batch 480  of  5625.    Elapsed: 0:01:30.\n"
     ]
    },
    {
     "name": "stderr",
     "output_type": "stream",
     "text": [
      "Training:   9%|▉         | 521/5625 [01:37<15:39,  5.43it/s]"
     ]
    },
    {
     "name": "stdout",
     "output_type": "stream",
     "text": [
      "  Batch 520  of  5625.    Elapsed: 0:01:37.\n"
     ]
    },
    {
     "name": "stderr",
     "output_type": "stream",
     "text": [
      "Training:  10%|▉         | 561/5625 [01:44<15:40,  5.38it/s]"
     ]
    },
    {
     "name": "stdout",
     "output_type": "stream",
     "text": [
      "  Batch 560  of  5625.    Elapsed: 0:01:44.\n"
     ]
    },
    {
     "name": "stderr",
     "output_type": "stream",
     "text": [
      "Training:  11%|█         | 601/5625 [01:51<15:14,  5.50it/s]"
     ]
    },
    {
     "name": "stdout",
     "output_type": "stream",
     "text": [
      "  Batch 600  of  5625.    Elapsed: 0:01:52.\n"
     ]
    },
    {
     "name": "stderr",
     "output_type": "stream",
     "text": [
      "Training:  11%|█▏        | 641/5625 [01:59<15:06,  5.50it/s]"
     ]
    },
    {
     "name": "stdout",
     "output_type": "stream",
     "text": [
      "  Batch 640  of  5625.    Elapsed: 0:01:59.\n"
     ]
    },
    {
     "name": "stderr",
     "output_type": "stream",
     "text": [
      "Training:  12%|█▏        | 681/5625 [02:06<15:09,  5.44it/s]"
     ]
    },
    {
     "name": "stdout",
     "output_type": "stream",
     "text": [
      "  Batch 680  of  5625.    Elapsed: 0:02:07.\n"
     ]
    },
    {
     "name": "stderr",
     "output_type": "stream",
     "text": [
      "Training:  13%|█▎        | 721/5625 [02:14<15:13,  5.37it/s]"
     ]
    },
    {
     "name": "stdout",
     "output_type": "stream",
     "text": [
      "  Batch 720  of  5625.    Elapsed: 0:02:14.\n"
     ]
    },
    {
     "name": "stderr",
     "output_type": "stream",
     "text": [
      "Training:  14%|█▎        | 761/5625 [02:21<14:56,  5.42it/s]"
     ]
    },
    {
     "name": "stdout",
     "output_type": "stream",
     "text": [
      "  Batch 760  of  5625.    Elapsed: 0:02:22.\n"
     ]
    },
    {
     "name": "stderr",
     "output_type": "stream",
     "text": [
      "Training:  14%|█▍        | 801/5625 [02:29<15:10,  5.30it/s]"
     ]
    },
    {
     "name": "stdout",
     "output_type": "stream",
     "text": [
      "  Batch 800  of  5625.    Elapsed: 0:02:29.\n"
     ]
    },
    {
     "name": "stderr",
     "output_type": "stream",
     "text": [
      "Training:  15%|█▍        | 841/5625 [02:36<14:39,  5.44it/s]"
     ]
    },
    {
     "name": "stdout",
     "output_type": "stream",
     "text": [
      "  Batch 840  of  5625.    Elapsed: 0:02:36.\n"
     ]
    },
    {
     "name": "stderr",
     "output_type": "stream",
     "text": [
      "Training:  16%|█▌        | 881/5625 [02:44<15:08,  5.22it/s]"
     ]
    },
    {
     "name": "stdout",
     "output_type": "stream",
     "text": [
      "  Batch 880  of  5625.    Elapsed: 0:02:44.\n"
     ]
    },
    {
     "name": "stderr",
     "output_type": "stream",
     "text": [
      "Training:  16%|█▋        | 921/5625 [02:51<14:26,  5.43it/s]"
     ]
    },
    {
     "name": "stdout",
     "output_type": "stream",
     "text": [
      "  Batch 920  of  5625.    Elapsed: 0:02:51.\n"
     ]
    },
    {
     "name": "stderr",
     "output_type": "stream",
     "text": [
      "Training:  17%|█▋        | 961/5625 [02:58<15:04,  5.16it/s]"
     ]
    },
    {
     "name": "stdout",
     "output_type": "stream",
     "text": [
      "  Batch 960  of  5625.    Elapsed: 0:02:59.\n"
     ]
    },
    {
     "name": "stderr",
     "output_type": "stream",
     "text": [
      "Training:  18%|█▊        | 1001/5625 [03:06<14:13,  5.42it/s]"
     ]
    },
    {
     "name": "stdout",
     "output_type": "stream",
     "text": [
      "  Batch 1000  of  5625.    Elapsed: 0:03:06.\n"
     ]
    },
    {
     "name": "stderr",
     "output_type": "stream",
     "text": [
      "Training:  18%|█▊        | 1040/5625 [03:13<15:25,  4.95it/s]"
     ]
    },
    {
     "name": "stdout",
     "output_type": "stream",
     "text": [
      "  Batch 1040  of  5625.    Elapsed: 0:03:14.\n"
     ]
    },
    {
     "name": "stderr",
     "output_type": "stream",
     "text": [
      "Training:  19%|█▉        | 1081/5625 [03:21<14:07,  5.36it/s]"
     ]
    },
    {
     "name": "stdout",
     "output_type": "stream",
     "text": [
      "  Batch 1080  of  5625.    Elapsed: 0:03:22.\n"
     ]
    },
    {
     "name": "stderr",
     "output_type": "stream",
     "text": [
      "Training:  20%|█▉        | 1121/5625 [03:29<14:00,  5.36it/s]"
     ]
    },
    {
     "name": "stdout",
     "output_type": "stream",
     "text": [
      "  Batch 1120  of  5625.    Elapsed: 0:03:29.\n"
     ]
    },
    {
     "name": "stderr",
     "output_type": "stream",
     "text": [
      "Training:  21%|██        | 1161/5625 [03:36<13:47,  5.39it/s]"
     ]
    },
    {
     "name": "stdout",
     "output_type": "stream",
     "text": [
      "  Batch 1160  of  5625.    Elapsed: 0:03:36.\n"
     ]
    },
    {
     "name": "stderr",
     "output_type": "stream",
     "text": [
      "Training:  21%|██▏       | 1201/5625 [03:43<13:47,  5.35it/s]"
     ]
    },
    {
     "name": "stdout",
     "output_type": "stream",
     "text": [
      "  Batch 1200  of  5625.    Elapsed: 0:03:44.\n"
     ]
    },
    {
     "name": "stderr",
     "output_type": "stream",
     "text": [
      "Training:  22%|██▏       | 1241/5625 [03:51<13:20,  5.47it/s]"
     ]
    },
    {
     "name": "stdout",
     "output_type": "stream",
     "text": [
      "  Batch 1240  of  5625.    Elapsed: 0:03:51.\n"
     ]
    },
    {
     "name": "stderr",
     "output_type": "stream",
     "text": [
      "Training:  23%|██▎       | 1281/5625 [03:58<13:08,  5.51it/s]"
     ]
    },
    {
     "name": "stdout",
     "output_type": "stream",
     "text": [
      "  Batch 1280  of  5625.    Elapsed: 0:03:59.\n"
     ]
    },
    {
     "name": "stderr",
     "output_type": "stream",
     "text": [
      "Training:  23%|██▎       | 1321/5625 [04:06<13:32,  5.30it/s]"
     ]
    },
    {
     "name": "stdout",
     "output_type": "stream",
     "text": [
      "  Batch 1320  of  5625.    Elapsed: 0:04:06.\n"
     ]
    },
    {
     "name": "stderr",
     "output_type": "stream",
     "text": [
      "Training:  24%|██▍       | 1361/5625 [04:13<13:04,  5.44it/s]"
     ]
    },
    {
     "name": "stdout",
     "output_type": "stream",
     "text": [
      "  Batch 1360  of  5625.    Elapsed: 0:04:14.\n"
     ]
    },
    {
     "name": "stderr",
     "output_type": "stream",
     "text": [
      "Training:  25%|██▍       | 1401/5625 [04:21<13:15,  5.31it/s]"
     ]
    },
    {
     "name": "stdout",
     "output_type": "stream",
     "text": [
      "  Batch 1400  of  5625.    Elapsed: 0:04:21.\n"
     ]
    },
    {
     "name": "stderr",
     "output_type": "stream",
     "text": [
      "Training:  26%|██▌       | 1441/5625 [04:28<12:40,  5.50it/s]"
     ]
    },
    {
     "name": "stdout",
     "output_type": "stream",
     "text": [
      "  Batch 1440  of  5625.    Elapsed: 0:04:28.\n"
     ]
    },
    {
     "name": "stderr",
     "output_type": "stream",
     "text": [
      "Training:  26%|██▋       | 1481/5625 [04:36<13:11,  5.24it/s]"
     ]
    },
    {
     "name": "stdout",
     "output_type": "stream",
     "text": [
      "  Batch 1480  of  5625.    Elapsed: 0:04:36.\n"
     ]
    },
    {
     "name": "stderr",
     "output_type": "stream",
     "text": [
      "Training:  27%|██▋       | 1521/5625 [04:43<12:35,  5.44it/s]"
     ]
    },
    {
     "name": "stdout",
     "output_type": "stream",
     "text": [
      "  Batch 1520  of  5625.    Elapsed: 0:04:43.\n"
     ]
    },
    {
     "name": "stderr",
     "output_type": "stream",
     "text": [
      "Training:  28%|██▊       | 1561/5625 [04:50<12:46,  5.30it/s]"
     ]
    },
    {
     "name": "stdout",
     "output_type": "stream",
     "text": [
      "  Batch 1560  of  5625.    Elapsed: 0:04:51.\n"
     ]
    },
    {
     "name": "stderr",
     "output_type": "stream",
     "text": [
      "Training:  28%|██▊       | 1601/5625 [04:58<12:12,  5.49it/s]"
     ]
    },
    {
     "name": "stdout",
     "output_type": "stream",
     "text": [
      "  Batch 1600  of  5625.    Elapsed: 0:04:58.\n"
     ]
    },
    {
     "name": "stderr",
     "output_type": "stream",
     "text": [
      "Training:  29%|██▉       | 1641/5625 [05:05<12:12,  5.44it/s]"
     ]
    },
    {
     "name": "stdout",
     "output_type": "stream",
     "text": [
      "  Batch 1640  of  5625.    Elapsed: 0:05:05.\n"
     ]
    },
    {
     "name": "stderr",
     "output_type": "stream",
     "text": [
      "Training:  30%|██▉       | 1681/5625 [05:13<12:17,  5.34it/s]"
     ]
    },
    {
     "name": "stdout",
     "output_type": "stream",
     "text": [
      "  Batch 1680  of  5625.    Elapsed: 0:05:13.\n"
     ]
    },
    {
     "name": "stderr",
     "output_type": "stream",
     "text": [
      "Training:  31%|███       | 1721/5625 [05:21<12:16,  5.30it/s]"
     ]
    },
    {
     "name": "stdout",
     "output_type": "stream",
     "text": [
      "  Batch 1720  of  5625.    Elapsed: 0:05:21.\n"
     ]
    },
    {
     "name": "stderr",
     "output_type": "stream",
     "text": [
      "Training:  31%|███▏      | 1761/5625 [05:28<11:57,  5.38it/s]"
     ]
    },
    {
     "name": "stdout",
     "output_type": "stream",
     "text": [
      "  Batch 1760  of  5625.    Elapsed: 0:05:28.\n"
     ]
    },
    {
     "name": "stderr",
     "output_type": "stream",
     "text": [
      "Training:  32%|███▏      | 1801/5625 [05:35<11:51,  5.37it/s]"
     ]
    },
    {
     "name": "stdout",
     "output_type": "stream",
     "text": [
      "  Batch 1800  of  5625.    Elapsed: 0:05:36.\n"
     ]
    },
    {
     "name": "stderr",
     "output_type": "stream",
     "text": [
      "Training:  33%|███▎      | 1841/5625 [05:43<11:35,  5.44it/s]"
     ]
    },
    {
     "name": "stdout",
     "output_type": "stream",
     "text": [
      "  Batch 1840  of  5625.    Elapsed: 0:05:43.\n"
     ]
    },
    {
     "name": "stderr",
     "output_type": "stream",
     "text": [
      "Training:  33%|███▎      | 1881/5625 [05:50<11:30,  5.42it/s]"
     ]
    },
    {
     "name": "stdout",
     "output_type": "stream",
     "text": [
      "  Batch 1880  of  5625.    Elapsed: 0:05:51.\n"
     ]
    },
    {
     "name": "stderr",
     "output_type": "stream",
     "text": [
      "Training:  34%|███▍      | 1921/5625 [05:58<11:20,  5.44it/s]"
     ]
    },
    {
     "name": "stdout",
     "output_type": "stream",
     "text": [
      "  Batch 1920  of  5625.    Elapsed: 0:05:58.\n"
     ]
    },
    {
     "name": "stderr",
     "output_type": "stream",
     "text": [
      "Training:  35%|███▍      | 1961/5625 [06:05<11:05,  5.50it/s]"
     ]
    },
    {
     "name": "stdout",
     "output_type": "stream",
     "text": [
      "  Batch 1960  of  5625.    Elapsed: 0:06:05.\n"
     ]
    },
    {
     "name": "stderr",
     "output_type": "stream",
     "text": [
      "Training:  36%|███▌      | 2000/5625 [06:12<11:24,  5.30it/s]"
     ]
    },
    {
     "name": "stdout",
     "output_type": "stream",
     "text": [
      "  Batch 2000  of  5625.    Elapsed: 0:06:13.\n"
     ]
    },
    {
     "name": "stderr",
     "output_type": "stream",
     "text": [
      "Training:  36%|███▋      | 2041/5625 [06:20<11:03,  5.40it/s]"
     ]
    },
    {
     "name": "stdout",
     "output_type": "stream",
     "text": [
      "  Batch 2040  of  5625.    Elapsed: 0:06:20.\n"
     ]
    },
    {
     "name": "stderr",
     "output_type": "stream",
     "text": [
      "Training:  37%|███▋      | 2080/5625 [06:27<11:27,  5.16it/s]"
     ]
    },
    {
     "name": "stdout",
     "output_type": "stream",
     "text": [
      "  Batch 2080  of  5625.    Elapsed: 0:06:28.\n"
     ]
    },
    {
     "name": "stderr",
     "output_type": "stream",
     "text": [
      "Training:  38%|███▊      | 2121/5625 [06:35<10:38,  5.49it/s]"
     ]
    },
    {
     "name": "stdout",
     "output_type": "stream",
     "text": [
      "  Batch 2120  of  5625.    Elapsed: 0:06:35.\n"
     ]
    },
    {
     "name": "stderr",
     "output_type": "stream",
     "text": [
      "Training:  38%|███▊      | 2161/5625 [06:42<10:51,  5.32it/s]"
     ]
    },
    {
     "name": "stdout",
     "output_type": "stream",
     "text": [
      "  Batch 2160  of  5625.    Elapsed: 0:06:43.\n"
     ]
    },
    {
     "name": "stderr",
     "output_type": "stream",
     "text": [
      "Training:  39%|███▉      | 2201/5625 [06:50<10:30,  5.43it/s]"
     ]
    },
    {
     "name": "stdout",
     "output_type": "stream",
     "text": [
      "  Batch 2200  of  5625.    Elapsed: 0:06:50.\n"
     ]
    },
    {
     "name": "stderr",
     "output_type": "stream",
     "text": [
      "Training:  40%|███▉      | 2241/5625 [06:57<10:36,  5.32it/s]"
     ]
    },
    {
     "name": "stdout",
     "output_type": "stream",
     "text": [
      "  Batch 2240  of  5625.    Elapsed: 0:06:58.\n"
     ]
    },
    {
     "name": "stderr",
     "output_type": "stream",
     "text": [
      "Training:  41%|████      | 2281/5625 [07:05<10:21,  5.38it/s]"
     ]
    },
    {
     "name": "stdout",
     "output_type": "stream",
     "text": [
      "  Batch 2280  of  5625.    Elapsed: 0:07:05.\n"
     ]
    },
    {
     "name": "stderr",
     "output_type": "stream",
     "text": [
      "Training:  41%|████▏     | 2321/5625 [07:12<10:17,  5.35it/s]"
     ]
    },
    {
     "name": "stdout",
     "output_type": "stream",
     "text": [
      "  Batch 2320  of  5625.    Elapsed: 0:07:12.\n"
     ]
    },
    {
     "name": "stderr",
     "output_type": "stream",
     "text": [
      "Training:  42%|████▏     | 2361/5625 [07:20<10:10,  5.35it/s]"
     ]
    },
    {
     "name": "stdout",
     "output_type": "stream",
     "text": [
      "  Batch 2360  of  5625.    Elapsed: 0:07:20.\n"
     ]
    },
    {
     "name": "stderr",
     "output_type": "stream",
     "text": [
      "Training:  43%|████▎     | 2401/5625 [07:28<10:00,  5.36it/s]"
     ]
    },
    {
     "name": "stdout",
     "output_type": "stream",
     "text": [
      "  Batch 2400  of  5625.    Elapsed: 0:07:28.\n"
     ]
    },
    {
     "name": "stderr",
     "output_type": "stream",
     "text": [
      "Training:  43%|████▎     | 2441/5625 [07:35<09:48,  5.41it/s]"
     ]
    },
    {
     "name": "stdout",
     "output_type": "stream",
     "text": [
      "  Batch 2440  of  5625.    Elapsed: 0:07:35.\n"
     ]
    },
    {
     "name": "stderr",
     "output_type": "stream",
     "text": [
      "Training:  44%|████▍     | 2481/5625 [07:42<09:35,  5.46it/s]"
     ]
    },
    {
     "name": "stdout",
     "output_type": "stream",
     "text": [
      "  Batch 2480  of  5625.    Elapsed: 0:07:43.\n"
     ]
    },
    {
     "name": "stderr",
     "output_type": "stream",
     "text": [
      "Training:  45%|████▍     | 2521/5625 [07:50<09:44,  5.31it/s]"
     ]
    },
    {
     "name": "stdout",
     "output_type": "stream",
     "text": [
      "  Batch 2520  of  5625.    Elapsed: 0:07:50.\n"
     ]
    },
    {
     "name": "stderr",
     "output_type": "stream",
     "text": [
      "Training:  46%|████▌     | 2561/5625 [07:57<09:28,  5.39it/s]"
     ]
    },
    {
     "name": "stdout",
     "output_type": "stream",
     "text": [
      "  Batch 2560  of  5625.    Elapsed: 0:07:58.\n"
     ]
    },
    {
     "name": "stderr",
     "output_type": "stream",
     "text": [
      "Training:  46%|████▌     | 2601/5625 [08:05<09:30,  5.30it/s]"
     ]
    },
    {
     "name": "stdout",
     "output_type": "stream",
     "text": [
      "  Batch 2600  of  5625.    Elapsed: 0:08:05.\n"
     ]
    },
    {
     "name": "stderr",
     "output_type": "stream",
     "text": [
      "Training:  47%|████▋     | 2641/5625 [08:12<09:11,  5.41it/s]"
     ]
    },
    {
     "name": "stdout",
     "output_type": "stream",
     "text": [
      "  Batch 2640  of  5625.    Elapsed: 0:08:12.\n"
     ]
    },
    {
     "name": "stderr",
     "output_type": "stream",
     "text": [
      "Training:  48%|████▊     | 2681/5625 [08:20<09:24,  5.22it/s]"
     ]
    },
    {
     "name": "stdout",
     "output_type": "stream",
     "text": [
      "  Batch 2680  of  5625.    Elapsed: 0:08:20.\n"
     ]
    },
    {
     "name": "stderr",
     "output_type": "stream",
     "text": [
      "Training:  48%|████▊     | 2721/5625 [08:27<08:46,  5.51it/s]"
     ]
    },
    {
     "name": "stdout",
     "output_type": "stream",
     "text": [
      "  Batch 2720  of  5625.    Elapsed: 0:08:27.\n"
     ]
    },
    {
     "name": "stderr",
     "output_type": "stream",
     "text": [
      "Training:  49%|████▉     | 2761/5625 [08:35<09:12,  5.18it/s]"
     ]
    },
    {
     "name": "stdout",
     "output_type": "stream",
     "text": [
      "  Batch 2760  of  5625.    Elapsed: 0:08:35.\n"
     ]
    },
    {
     "name": "stderr",
     "output_type": "stream",
     "text": [
      "Training:  50%|████▉     | 2801/5625 [08:42<08:38,  5.44it/s]"
     ]
    },
    {
     "name": "stdout",
     "output_type": "stream",
     "text": [
      "  Batch 2800  of  5625.    Elapsed: 0:08:42.\n"
     ]
    },
    {
     "name": "stderr",
     "output_type": "stream",
     "text": [
      "Training:  51%|█████     | 2841/5625 [08:49<08:37,  5.38it/s]"
     ]
    },
    {
     "name": "stdout",
     "output_type": "stream",
     "text": [
      "  Batch 2840  of  5625.    Elapsed: 0:08:50.\n"
     ]
    },
    {
     "name": "stderr",
     "output_type": "stream",
     "text": [
      "Training:  51%|█████     | 2881/5625 [08:57<08:29,  5.39it/s]"
     ]
    },
    {
     "name": "stdout",
     "output_type": "stream",
     "text": [
      "  Batch 2880  of  5625.    Elapsed: 0:08:57.\n"
     ]
    },
    {
     "name": "stderr",
     "output_type": "stream",
     "text": [
      "Training:  52%|█████▏    | 2921/5625 [09:04<08:15,  5.45it/s]"
     ]
    },
    {
     "name": "stdout",
     "output_type": "stream",
     "text": [
      "  Batch 2920  of  5625.    Elapsed: 0:09:04.\n"
     ]
    },
    {
     "name": "stderr",
     "output_type": "stream",
     "text": [
      "Training:  53%|█████▎    | 2961/5625 [09:12<08:13,  5.40it/s]"
     ]
    },
    {
     "name": "stdout",
     "output_type": "stream",
     "text": [
      "  Batch 2960  of  5625.    Elapsed: 0:09:12.\n"
     ]
    },
    {
     "name": "stderr",
     "output_type": "stream",
     "text": [
      "Training:  53%|█████▎    | 3001/5625 [09:20<08:17,  5.27it/s]"
     ]
    },
    {
     "name": "stdout",
     "output_type": "stream",
     "text": [
      "  Batch 3000  of  5625.    Elapsed: 0:09:20.\n"
     ]
    },
    {
     "name": "stderr",
     "output_type": "stream",
     "text": [
      "Training:  54%|█████▍    | 3041/5625 [09:27<07:50,  5.49it/s]"
     ]
    },
    {
     "name": "stdout",
     "output_type": "stream",
     "text": [
      "  Batch 3040  of  5625.    Elapsed: 0:09:27.\n"
     ]
    },
    {
     "name": "stderr",
     "output_type": "stream",
     "text": [
      "Training:  55%|█████▍    | 3081/5625 [09:34<07:38,  5.54it/s]"
     ]
    },
    {
     "name": "stdout",
     "output_type": "stream",
     "text": [
      "  Batch 3080  of  5625.    Elapsed: 0:09:35.\n"
     ]
    },
    {
     "name": "stderr",
     "output_type": "stream",
     "text": [
      "Training:  55%|█████▌    | 3121/5625 [09:42<07:48,  5.34it/s]"
     ]
    },
    {
     "name": "stdout",
     "output_type": "stream",
     "text": [
      "  Batch 3120  of  5625.    Elapsed: 0:09:42.\n"
     ]
    },
    {
     "name": "stderr",
     "output_type": "stream",
     "text": [
      "Training:  56%|█████▌    | 3161/5625 [09:49<07:37,  5.39it/s]"
     ]
    },
    {
     "name": "stdout",
     "output_type": "stream",
     "text": [
      "  Batch 3160  of  5625.    Elapsed: 0:09:50.\n"
     ]
    },
    {
     "name": "stderr",
     "output_type": "stream",
     "text": [
      "Training:  57%|█████▋    | 3201/5625 [09:57<07:37,  5.29it/s]"
     ]
    },
    {
     "name": "stdout",
     "output_type": "stream",
     "text": [
      "  Batch 3200  of  5625.    Elapsed: 0:09:57.\n"
     ]
    },
    {
     "name": "stderr",
     "output_type": "stream",
     "text": [
      "Training:  58%|█████▊    | 3241/5625 [10:04<07:24,  5.37it/s]"
     ]
    },
    {
     "name": "stdout",
     "output_type": "stream",
     "text": [
      "  Batch 3240  of  5625.    Elapsed: 0:10:04.\n"
     ]
    },
    {
     "name": "stderr",
     "output_type": "stream",
     "text": [
      "Training:  58%|█████▊    | 3281/5625 [10:12<07:25,  5.26it/s]"
     ]
    },
    {
     "name": "stdout",
     "output_type": "stream",
     "text": [
      "  Batch 3280  of  5625.    Elapsed: 0:10:12.\n"
     ]
    },
    {
     "name": "stderr",
     "output_type": "stream",
     "text": [
      "Training:  59%|█████▉    | 3321/5625 [10:19<06:57,  5.51it/s]"
     ]
    },
    {
     "name": "stdout",
     "output_type": "stream",
     "text": [
      "  Batch 3320  of  5625.    Elapsed: 0:10:19.\n"
     ]
    },
    {
     "name": "stderr",
     "output_type": "stream",
     "text": [
      "Training:  60%|█████▉    | 3361/5625 [10:26<07:17,  5.17it/s]"
     ]
    },
    {
     "name": "stdout",
     "output_type": "stream",
     "text": [
      "  Batch 3360  of  5625.    Elapsed: 0:10:27.\n"
     ]
    },
    {
     "name": "stderr",
     "output_type": "stream",
     "text": [
      "Training:  60%|██████    | 3400/5625 [10:34<07:11,  5.15it/s]"
     ]
    },
    {
     "name": "stdout",
     "output_type": "stream",
     "text": [
      "  Batch 3400  of  5625.    Elapsed: 0:10:35.\n"
     ]
    },
    {
     "name": "stderr",
     "output_type": "stream",
     "text": [
      "Training:  61%|██████    | 3441/5625 [10:42<06:51,  5.31it/s]"
     ]
    },
    {
     "name": "stdout",
     "output_type": "stream",
     "text": [
      "  Batch 3440  of  5625.    Elapsed: 0:10:42.\n"
     ]
    },
    {
     "name": "stderr",
     "output_type": "stream",
     "text": [
      "Training:  62%|██████▏   | 3481/5625 [10:50<06:33,  5.45it/s]"
     ]
    },
    {
     "name": "stdout",
     "output_type": "stream",
     "text": [
      "  Batch 3480  of  5625.    Elapsed: 0:10:50.\n"
     ]
    },
    {
     "name": "stderr",
     "output_type": "stream",
     "text": [
      "Training:  63%|██████▎   | 3521/5625 [10:57<06:28,  5.41it/s]"
     ]
    },
    {
     "name": "stdout",
     "output_type": "stream",
     "text": [
      "  Batch 3520  of  5625.    Elapsed: 0:10:57.\n"
     ]
    },
    {
     "name": "stderr",
     "output_type": "stream",
     "text": [
      "Training:  63%|██████▎   | 3561/5625 [11:04<06:20,  5.42it/s]"
     ]
    },
    {
     "name": "stdout",
     "output_type": "stream",
     "text": [
      "  Batch 3560  of  5625.    Elapsed: 0:11:05.\n"
     ]
    },
    {
     "name": "stderr",
     "output_type": "stream",
     "text": [
      "Training:  64%|██████▍   | 3601/5625 [11:12<06:15,  5.39it/s]"
     ]
    },
    {
     "name": "stdout",
     "output_type": "stream",
     "text": [
      "  Batch 3600  of  5625.    Elapsed: 0:11:12.\n"
     ]
    },
    {
     "name": "stderr",
     "output_type": "stream",
     "text": [
      "Training:  65%|██████▍   | 3641/5625 [11:20<06:13,  5.31it/s]"
     ]
    },
    {
     "name": "stdout",
     "output_type": "stream",
     "text": [
      "  Batch 3640  of  5625.    Elapsed: 0:11:20.\n"
     ]
    },
    {
     "name": "stderr",
     "output_type": "stream",
     "text": [
      "Training:  65%|██████▌   | 3681/5625 [11:27<06:00,  5.40it/s]"
     ]
    },
    {
     "name": "stdout",
     "output_type": "stream",
     "text": [
      "  Batch 3680  of  5625.    Elapsed: 0:11:27.\n"
     ]
    },
    {
     "name": "stderr",
     "output_type": "stream",
     "text": [
      "Training:  66%|██████▌   | 3721/5625 [11:35<05:55,  5.36it/s]"
     ]
    },
    {
     "name": "stdout",
     "output_type": "stream",
     "text": [
      "  Batch 3720  of  5625.    Elapsed: 0:11:35.\n"
     ]
    },
    {
     "name": "stderr",
     "output_type": "stream",
     "text": [
      "Training:  67%|██████▋   | 3761/5625 [11:42<05:38,  5.51it/s]"
     ]
    },
    {
     "name": "stdout",
     "output_type": "stream",
     "text": [
      "  Batch 3760  of  5625.    Elapsed: 0:11:42.\n"
     ]
    },
    {
     "name": "stderr",
     "output_type": "stream",
     "text": [
      "Training:  68%|██████▊   | 3801/5625 [11:49<05:40,  5.36it/s]"
     ]
    },
    {
     "name": "stdout",
     "output_type": "stream",
     "text": [
      "  Batch 3800  of  5625.    Elapsed: 0:11:50.\n"
     ]
    },
    {
     "name": "stderr",
     "output_type": "stream",
     "text": [
      "Training:  68%|██████▊   | 3841/5625 [11:57<05:31,  5.39it/s]"
     ]
    },
    {
     "name": "stdout",
     "output_type": "stream",
     "text": [
      "  Batch 3840  of  5625.    Elapsed: 0:11:57.\n"
     ]
    },
    {
     "name": "stderr",
     "output_type": "stream",
     "text": [
      "Training:  69%|██████▉   | 3881/5625 [12:04<05:33,  5.23it/s]"
     ]
    },
    {
     "name": "stdout",
     "output_type": "stream",
     "text": [
      "  Batch 3880  of  5625.    Elapsed: 0:12:05.\n"
     ]
    },
    {
     "name": "stderr",
     "output_type": "stream",
     "text": [
      "Training:  70%|██████▉   | 3921/5625 [12:12<05:14,  5.42it/s]"
     ]
    },
    {
     "name": "stdout",
     "output_type": "stream",
     "text": [
      "  Batch 3920  of  5625.    Elapsed: 0:12:12.\n"
     ]
    },
    {
     "name": "stderr",
     "output_type": "stream",
     "text": [
      "Training:  70%|███████   | 3961/5625 [12:19<05:20,  5.20it/s]"
     ]
    },
    {
     "name": "stdout",
     "output_type": "stream",
     "text": [
      "  Batch 3960  of  5625.    Elapsed: 0:12:19.\n"
     ]
    },
    {
     "name": "stderr",
     "output_type": "stream",
     "text": [
      "Training:  71%|███████   | 4001/5625 [12:26<04:58,  5.43it/s]"
     ]
    },
    {
     "name": "stdout",
     "output_type": "stream",
     "text": [
      "  Batch 4000  of  5625.    Elapsed: 0:12:27.\n"
     ]
    },
    {
     "name": "stderr",
     "output_type": "stream",
     "text": [
      "Training:  72%|███████▏  | 4041/5625 [12:34<04:59,  5.29it/s]"
     ]
    },
    {
     "name": "stdout",
     "output_type": "stream",
     "text": [
      "  Batch 4040  of  5625.    Elapsed: 0:12:34.\n"
     ]
    },
    {
     "name": "stderr",
     "output_type": "stream",
     "text": [
      "Training:  73%|███████▎  | 4081/5625 [12:41<04:42,  5.46it/s]"
     ]
    },
    {
     "name": "stdout",
     "output_type": "stream",
     "text": [
      "  Batch 4080  of  5625.    Elapsed: 0:12:42.\n"
     ]
    },
    {
     "name": "stderr",
     "output_type": "stream",
     "text": [
      "Training:  73%|███████▎  | 4121/5625 [12:49<04:38,  5.41it/s]"
     ]
    },
    {
     "name": "stdout",
     "output_type": "stream",
     "text": [
      "  Batch 4120  of  5625.    Elapsed: 0:12:49.\n"
     ]
    },
    {
     "name": "stderr",
     "output_type": "stream",
     "text": [
      "Training:  74%|███████▍  | 4161/5625 [12:56<04:27,  5.47it/s]"
     ]
    },
    {
     "name": "stdout",
     "output_type": "stream",
     "text": [
      "  Batch 4160  of  5625.    Elapsed: 0:12:56.\n"
     ]
    },
    {
     "name": "stderr",
     "output_type": "stream",
     "text": [
      "Training:  75%|███████▍  | 4201/5625 [13:04<04:24,  5.38it/s]"
     ]
    },
    {
     "name": "stdout",
     "output_type": "stream",
     "text": [
      "  Batch 4200  of  5625.    Elapsed: 0:13:04.\n"
     ]
    },
    {
     "name": "stderr",
     "output_type": "stream",
     "text": [
      "Training:  75%|███████▌  | 4241/5625 [13:11<04:16,  5.41it/s]"
     ]
    },
    {
     "name": "stdout",
     "output_type": "stream",
     "text": [
      "  Batch 4240  of  5625.    Elapsed: 0:13:11.\n"
     ]
    },
    {
     "name": "stderr",
     "output_type": "stream",
     "text": [
      "Training:  76%|███████▌  | 4281/5625 [13:19<04:12,  5.33it/s]"
     ]
    },
    {
     "name": "stdout",
     "output_type": "stream",
     "text": [
      "  Batch 4280  of  5625.    Elapsed: 0:13:19.\n"
     ]
    },
    {
     "name": "stderr",
     "output_type": "stream",
     "text": [
      "Training:  77%|███████▋  | 4321/5625 [13:26<04:01,  5.41it/s]"
     ]
    },
    {
     "name": "stdout",
     "output_type": "stream",
     "text": [
      "  Batch 4320  of  5625.    Elapsed: 0:13:27.\n"
     ]
    },
    {
     "name": "stderr",
     "output_type": "stream",
     "text": [
      "Training:  78%|███████▊  | 4361/5625 [13:34<03:49,  5.52it/s]"
     ]
    },
    {
     "name": "stdout",
     "output_type": "stream",
     "text": [
      "  Batch 4360  of  5625.    Elapsed: 0:13:34.\n"
     ]
    },
    {
     "name": "stderr",
     "output_type": "stream",
     "text": [
      "Training:  78%|███████▊  | 4401/5625 [13:41<03:47,  5.37it/s]"
     ]
    },
    {
     "name": "stdout",
     "output_type": "stream",
     "text": [
      "  Batch 4400  of  5625.    Elapsed: 0:13:42.\n"
     ]
    },
    {
     "name": "stderr",
     "output_type": "stream",
     "text": [
      "Training:  79%|███████▉  | 4441/5625 [13:49<03:39,  5.39it/s]"
     ]
    },
    {
     "name": "stdout",
     "output_type": "stream",
     "text": [
      "  Batch 4440  of  5625.    Elapsed: 0:13:49.\n"
     ]
    },
    {
     "name": "stderr",
     "output_type": "stream",
     "text": [
      "Training:  80%|███████▉  | 4481/5625 [13:56<03:37,  5.27it/s]"
     ]
    },
    {
     "name": "stdout",
     "output_type": "stream",
     "text": [
      "  Batch 4480  of  5625.    Elapsed: 0:13:56.\n"
     ]
    },
    {
     "name": "stderr",
     "output_type": "stream",
     "text": [
      "Training:  80%|████████  | 4521/5625 [14:03<03:20,  5.51it/s]"
     ]
    },
    {
     "name": "stdout",
     "output_type": "stream",
     "text": [
      "  Batch 4520  of  5625.    Elapsed: 0:14:04.\n"
     ]
    },
    {
     "name": "stderr",
     "output_type": "stream",
     "text": [
      "Training:  81%|████████  | 4561/5625 [14:11<03:19,  5.32it/s]"
     ]
    },
    {
     "name": "stdout",
     "output_type": "stream",
     "text": [
      "  Batch 4560  of  5625.    Elapsed: 0:14:11.\n"
     ]
    },
    {
     "name": "stderr",
     "output_type": "stream",
     "text": [
      "Training:  82%|████████▏ | 4601/5625 [14:18<03:11,  5.34it/s]"
     ]
    },
    {
     "name": "stdout",
     "output_type": "stream",
     "text": [
      "  Batch 4600  of  5625.    Elapsed: 0:14:19.\n"
     ]
    },
    {
     "name": "stderr",
     "output_type": "stream",
     "text": [
      "Training:  83%|████████▎ | 4641/5625 [14:26<03:00,  5.44it/s]"
     ]
    },
    {
     "name": "stdout",
     "output_type": "stream",
     "text": [
      "  Batch 4640  of  5625.    Elapsed: 0:14:26.\n"
     ]
    },
    {
     "name": "stderr",
     "output_type": "stream",
     "text": [
      "Training:  83%|████████▎ | 4681/5625 [14:33<02:54,  5.42it/s]"
     ]
    },
    {
     "name": "stdout",
     "output_type": "stream",
     "text": [
      "  Batch 4680  of  5625.    Elapsed: 0:14:33.\n"
     ]
    },
    {
     "name": "stderr",
     "output_type": "stream",
     "text": [
      "Training:  84%|████████▍ | 4721/5625 [14:40<02:48,  5.36it/s]"
     ]
    },
    {
     "name": "stdout",
     "output_type": "stream",
     "text": [
      "  Batch 4720  of  5625.    Elapsed: 0:14:41.\n"
     ]
    },
    {
     "name": "stderr",
     "output_type": "stream",
     "text": [
      "Training:  85%|████████▍ | 4761/5625 [14:48<02:38,  5.46it/s]"
     ]
    },
    {
     "name": "stdout",
     "output_type": "stream",
     "text": [
      "  Batch 4760  of  5625.    Elapsed: 0:14:48.\n"
     ]
    },
    {
     "name": "stderr",
     "output_type": "stream",
     "text": [
      "Training:  85%|████████▌ | 4801/5625 [14:55<02:32,  5.41it/s]"
     ]
    },
    {
     "name": "stdout",
     "output_type": "stream",
     "text": [
      "  Batch 4800  of  5625.    Elapsed: 0:14:56.\n"
     ]
    },
    {
     "name": "stderr",
     "output_type": "stream",
     "text": [
      "Training:  86%|████████▌ | 4841/5625 [15:03<02:23,  5.45it/s]"
     ]
    },
    {
     "name": "stdout",
     "output_type": "stream",
     "text": [
      "  Batch 4840  of  5625.    Elapsed: 0:15:03.\n"
     ]
    },
    {
     "name": "stderr",
     "output_type": "stream",
     "text": [
      "Training:  87%|████████▋ | 4881/5625 [15:10<02:15,  5.48it/s]"
     ]
    },
    {
     "name": "stdout",
     "output_type": "stream",
     "text": [
      "  Batch 4880  of  5625.    Elapsed: 0:15:10.\n"
     ]
    },
    {
     "name": "stderr",
     "output_type": "stream",
     "text": [
      "Training:  87%|████████▋ | 4920/5625 [15:18<02:14,  5.25it/s]"
     ]
    },
    {
     "name": "stdout",
     "output_type": "stream",
     "text": [
      "  Batch 4920  of  5625.    Elapsed: 0:15:18.\n"
     ]
    },
    {
     "name": "stderr",
     "output_type": "stream",
     "text": [
      "Training:  88%|████████▊ | 4961/5625 [15:26<02:02,  5.41it/s]"
     ]
    },
    {
     "name": "stdout",
     "output_type": "stream",
     "text": [
      "  Batch 4960  of  5625.    Elapsed: 0:15:26.\n"
     ]
    },
    {
     "name": "stderr",
     "output_type": "stream",
     "text": [
      "Training:  89%|████████▉ | 5001/5625 [15:33<01:56,  5.33it/s]"
     ]
    },
    {
     "name": "stdout",
     "output_type": "stream",
     "text": [
      "  Batch 5000  of  5625.    Elapsed: 0:15:33.\n"
     ]
    },
    {
     "name": "stderr",
     "output_type": "stream",
     "text": [
      "Training:  90%|████████▉ | 5041/5625 [15:40<01:46,  5.47it/s]"
     ]
    },
    {
     "name": "stdout",
     "output_type": "stream",
     "text": [
      "  Batch 5040  of  5625.    Elapsed: 0:15:41.\n"
     ]
    },
    {
     "name": "stderr",
     "output_type": "stream",
     "text": [
      "Training:  90%|█████████ | 5081/5625 [15:48<01:43,  5.28it/s]"
     ]
    },
    {
     "name": "stdout",
     "output_type": "stream",
     "text": [
      "  Batch 5080  of  5625.    Elapsed: 0:15:48.\n"
     ]
    },
    {
     "name": "stderr",
     "output_type": "stream",
     "text": [
      "Training:  91%|█████████ | 5121/5625 [15:55<01:32,  5.43it/s]"
     ]
    },
    {
     "name": "stdout",
     "output_type": "stream",
     "text": [
      "  Batch 5120  of  5625.    Elapsed: 0:15:56.\n"
     ]
    },
    {
     "name": "stderr",
     "output_type": "stream",
     "text": [
      "Training:  92%|█████████▏| 5161/5625 [16:03<01:28,  5.24it/s]"
     ]
    },
    {
     "name": "stdout",
     "output_type": "stream",
     "text": [
      "  Batch 5160  of  5625.    Elapsed: 0:16:03.\n"
     ]
    },
    {
     "name": "stderr",
     "output_type": "stream",
     "text": [
      "Training:  92%|█████████▏| 5201/5625 [16:10<01:16,  5.51it/s]"
     ]
    },
    {
     "name": "stdout",
     "output_type": "stream",
     "text": [
      "  Batch 5200  of  5625.    Elapsed: 0:16:10.\n"
     ]
    },
    {
     "name": "stderr",
     "output_type": "stream",
     "text": [
      "Training:  93%|█████████▎| 5241/5625 [16:17<01:10,  5.42it/s]"
     ]
    },
    {
     "name": "stdout",
     "output_type": "stream",
     "text": [
      "  Batch 5240  of  5625.    Elapsed: 0:16:18.\n"
     ]
    },
    {
     "name": "stderr",
     "output_type": "stream",
     "text": [
      "Training:  94%|█████████▍| 5281/5625 [16:25<01:02,  5.47it/s]"
     ]
    },
    {
     "name": "stdout",
     "output_type": "stream",
     "text": [
      "  Batch 5280  of  5625.    Elapsed: 0:16:25.\n"
     ]
    },
    {
     "name": "stderr",
     "output_type": "stream",
     "text": [
      "Training:  95%|█████████▍| 5321/5625 [16:32<00:57,  5.32it/s]"
     ]
    },
    {
     "name": "stdout",
     "output_type": "stream",
     "text": [
      "  Batch 5320  of  5625.    Elapsed: 0:16:33.\n"
     ]
    },
    {
     "name": "stderr",
     "output_type": "stream",
     "text": [
      "Training:  95%|█████████▌| 5361/5625 [16:40<00:49,  5.37it/s]"
     ]
    },
    {
     "name": "stdout",
     "output_type": "stream",
     "text": [
      "  Batch 5360  of  5625.    Elapsed: 0:16:40.\n"
     ]
    },
    {
     "name": "stderr",
     "output_type": "stream",
     "text": [
      "Training:  96%|█████████▌| 5401/5625 [16:47<00:41,  5.42it/s]"
     ]
    },
    {
     "name": "stdout",
     "output_type": "stream",
     "text": [
      "  Batch 5400  of  5625.    Elapsed: 0:16:48.\n"
     ]
    },
    {
     "name": "stderr",
     "output_type": "stream",
     "text": [
      "Training:  97%|█████████▋| 5441/5625 [16:55<00:34,  5.40it/s]"
     ]
    },
    {
     "name": "stdout",
     "output_type": "stream",
     "text": [
      "  Batch 5440  of  5625.    Elapsed: 0:16:55.\n"
     ]
    },
    {
     "name": "stderr",
     "output_type": "stream",
     "text": [
      "Training:  97%|█████████▋| 5481/5625 [17:02<00:26,  5.41it/s]"
     ]
    },
    {
     "name": "stdout",
     "output_type": "stream",
     "text": [
      "  Batch 5480  of  5625.    Elapsed: 0:17:02.\n"
     ]
    },
    {
     "name": "stderr",
     "output_type": "stream",
     "text": [
      "Training:  98%|█████████▊| 5521/5625 [17:10<00:21,  4.94it/s]"
     ]
    },
    {
     "name": "stdout",
     "output_type": "stream",
     "text": [
      "  Batch 5520  of  5625.    Elapsed: 0:17:10.\n"
     ]
    },
    {
     "name": "stderr",
     "output_type": "stream",
     "text": [
      "Training:  99%|█████████▉| 5560/5625 [17:17<00:12,  5.28it/s]"
     ]
    },
    {
     "name": "stdout",
     "output_type": "stream",
     "text": [
      "  Batch 5560  of  5625.    Elapsed: 0:17:18.\n"
     ]
    },
    {
     "name": "stderr",
     "output_type": "stream",
     "text": [
      "Training: 100%|█████████▉| 5601/5625 [17:25<00:04,  5.21it/s]"
     ]
    },
    {
     "name": "stdout",
     "output_type": "stream",
     "text": [
      "  Batch 5600  of  5625.    Elapsed: 0:17:25.\n"
     ]
    },
    {
     "name": "stderr",
     "output_type": "stream",
     "text": [
      "Training: 100%|██████████| 5625/5625 [17:30<00:00,  5.36it/s]\n"
     ]
    },
    {
     "name": "stdout",
     "output_type": "stream",
     "text": [
      "\n",
      "  Average training loss: 0.37\n",
      "  Training epoch took: 0:17:30\n",
      "\n",
      "Running Validation...\n"
     ]
    },
    {
     "name": "stderr",
     "output_type": "stream",
     "text": [
      "Validation: 100%|██████████| 625/625 [00:44<00:00, 14.09it/s]\n"
     ]
    },
    {
     "name": "stdout",
     "output_type": "stream",
     "text": [
      "  Accuracy: 0.75\n",
      "  Validation Loss: 0.55\n",
      "  Validation took: 0:00:44\n",
      "======== Epoch 4 / 5 ========\n",
      "Training...\n"
     ]
    },
    {
     "name": "stderr",
     "output_type": "stream",
     "text": [
      "Training:   1%|          | 41/5625 [00:07<17:15,  5.39it/s]"
     ]
    },
    {
     "name": "stdout",
     "output_type": "stream",
     "text": [
      "  Batch 40  of  5625.    Elapsed: 0:00:07.\n"
     ]
    },
    {
     "name": "stderr",
     "output_type": "stream",
     "text": [
      "Training:   1%|▏         | 81/5625 [00:15<17:23,  5.31it/s]"
     ]
    },
    {
     "name": "stdout",
     "output_type": "stream",
     "text": [
      "  Batch 80  of  5625.    Elapsed: 0:00:15.\n"
     ]
    },
    {
     "name": "stderr",
     "output_type": "stream",
     "text": [
      "Training:   2%|▏         | 121/5625 [00:22<16:36,  5.52it/s]"
     ]
    },
    {
     "name": "stdout",
     "output_type": "stream",
     "text": [
      "  Batch 120  of  5625.    Elapsed: 0:00:22.\n"
     ]
    },
    {
     "name": "stderr",
     "output_type": "stream",
     "text": [
      "Training:   3%|▎         | 160/5625 [00:29<17:18,  5.26it/s]"
     ]
    },
    {
     "name": "stdout",
     "output_type": "stream",
     "text": [
      "  Batch 160  of  5625.    Elapsed: 0:00:30.\n"
     ]
    },
    {
     "name": "stderr",
     "output_type": "stream",
     "text": [
      "Training:   4%|▎         | 201/5625 [00:37<16:35,  5.45it/s]"
     ]
    },
    {
     "name": "stdout",
     "output_type": "stream",
     "text": [
      "  Batch 200  of  5625.    Elapsed: 0:00:37.\n"
     ]
    },
    {
     "name": "stderr",
     "output_type": "stream",
     "text": [
      "Training:   4%|▍         | 241/5625 [00:44<17:05,  5.25it/s]"
     ]
    },
    {
     "name": "stdout",
     "output_type": "stream",
     "text": [
      "  Batch 240  of  5625.    Elapsed: 0:00:44.\n"
     ]
    },
    {
     "name": "stderr",
     "output_type": "stream",
     "text": [
      "Training:   5%|▍         | 281/5625 [00:52<16:23,  5.44it/s]"
     ]
    },
    {
     "name": "stdout",
     "output_type": "stream",
     "text": [
      "  Batch 280  of  5625.    Elapsed: 0:00:52.\n"
     ]
    },
    {
     "name": "stderr",
     "output_type": "stream",
     "text": [
      "Training:   6%|▌         | 320/5625 [00:59<18:16,  4.84it/s]"
     ]
    },
    {
     "name": "stdout",
     "output_type": "stream",
     "text": [
      "  Batch 320  of  5625.    Elapsed: 0:00:59.\n"
     ]
    },
    {
     "name": "stderr",
     "output_type": "stream",
     "text": [
      "Training:   6%|▋         | 361/5625 [01:07<16:15,  5.40it/s]"
     ]
    },
    {
     "name": "stdout",
     "output_type": "stream",
     "text": [
      "  Batch 360  of  5625.    Elapsed: 0:01:07.\n"
     ]
    },
    {
     "name": "stderr",
     "output_type": "stream",
     "text": [
      "Training:   7%|▋         | 401/5625 [01:14<16:20,  5.33it/s]"
     ]
    },
    {
     "name": "stdout",
     "output_type": "stream",
     "text": [
      "  Batch 400  of  5625.    Elapsed: 0:01:15.\n"
     ]
    },
    {
     "name": "stderr",
     "output_type": "stream",
     "text": [
      "Training:   8%|▊         | 441/5625 [01:22<16:06,  5.36it/s]"
     ]
    },
    {
     "name": "stdout",
     "output_type": "stream",
     "text": [
      "  Batch 440  of  5625.    Elapsed: 0:01:22.\n"
     ]
    },
    {
     "name": "stderr",
     "output_type": "stream",
     "text": [
      "Training:   9%|▊         | 481/5625 [01:29<16:00,  5.35it/s]"
     ]
    },
    {
     "name": "stdout",
     "output_type": "stream",
     "text": [
      "  Batch 480  of  5625.    Elapsed: 0:01:30.\n"
     ]
    },
    {
     "name": "stderr",
     "output_type": "stream",
     "text": [
      "Training:   9%|▉         | 521/5625 [01:37<15:26,  5.51it/s]"
     ]
    },
    {
     "name": "stdout",
     "output_type": "stream",
     "text": [
      "  Batch 520  of  5625.    Elapsed: 0:01:37.\n"
     ]
    },
    {
     "name": "stderr",
     "output_type": "stream",
     "text": [
      "Training:  10%|▉         | 561/5625 [01:44<15:53,  5.31it/s]"
     ]
    },
    {
     "name": "stdout",
     "output_type": "stream",
     "text": [
      "  Batch 560  of  5625.    Elapsed: 0:01:45.\n"
     ]
    },
    {
     "name": "stderr",
     "output_type": "stream",
     "text": [
      "Training:  11%|█         | 601/5625 [01:52<15:41,  5.34it/s]"
     ]
    },
    {
     "name": "stdout",
     "output_type": "stream",
     "text": [
      "  Batch 600  of  5625.    Elapsed: 0:01:52.\n"
     ]
    },
    {
     "name": "stderr",
     "output_type": "stream",
     "text": [
      "Training:  11%|█▏        | 641/5625 [01:59<15:31,  5.35it/s]"
     ]
    },
    {
     "name": "stdout",
     "output_type": "stream",
     "text": [
      "  Batch 640  of  5625.    Elapsed: 0:01:59.\n"
     ]
    },
    {
     "name": "stderr",
     "output_type": "stream",
     "text": [
      "Training:  12%|█▏        | 681/5625 [02:07<15:35,  5.29it/s]"
     ]
    },
    {
     "name": "stdout",
     "output_type": "stream",
     "text": [
      "  Batch 680  of  5625.    Elapsed: 0:02:07.\n"
     ]
    },
    {
     "name": "stderr",
     "output_type": "stream",
     "text": [
      "Training:  13%|█▎        | 721/5625 [02:14<15:13,  5.37it/s]"
     ]
    },
    {
     "name": "stdout",
     "output_type": "stream",
     "text": [
      "  Batch 720  of  5625.    Elapsed: 0:02:14.\n"
     ]
    },
    {
     "name": "stderr",
     "output_type": "stream",
     "text": [
      "Training:  14%|█▎        | 761/5625 [02:22<15:22,  5.27it/s]"
     ]
    },
    {
     "name": "stdout",
     "output_type": "stream",
     "text": [
      "  Batch 760  of  5625.    Elapsed: 0:02:22.\n"
     ]
    },
    {
     "name": "stderr",
     "output_type": "stream",
     "text": [
      "Training:  14%|█▍        | 801/5625 [02:29<14:37,  5.49it/s]"
     ]
    },
    {
     "name": "stdout",
     "output_type": "stream",
     "text": [
      "  Batch 800  of  5625.    Elapsed: 0:02:29.\n"
     ]
    },
    {
     "name": "stderr",
     "output_type": "stream",
     "text": [
      "Training:  15%|█▍        | 841/5625 [02:36<15:11,  5.25it/s]"
     ]
    },
    {
     "name": "stdout",
     "output_type": "stream",
     "text": [
      "  Batch 840  of  5625.    Elapsed: 0:02:37.\n"
     ]
    },
    {
     "name": "stderr",
     "output_type": "stream",
     "text": [
      "Training:  16%|█▌        | 881/5625 [02:44<14:39,  5.39it/s]"
     ]
    },
    {
     "name": "stdout",
     "output_type": "stream",
     "text": [
      "  Batch 880  of  5625.    Elapsed: 0:02:44.\n"
     ]
    },
    {
     "name": "stderr",
     "output_type": "stream",
     "text": [
      "Training:  16%|█▋        | 921/5625 [02:51<14:40,  5.34it/s]"
     ]
    },
    {
     "name": "stdout",
     "output_type": "stream",
     "text": [
      "  Batch 920  of  5625.    Elapsed: 0:02:52.\n"
     ]
    },
    {
     "name": "stderr",
     "output_type": "stream",
     "text": [
      "Training:  17%|█▋        | 961/5625 [02:59<15:36,  4.98it/s]"
     ]
    },
    {
     "name": "stdout",
     "output_type": "stream",
     "text": [
      "  Batch 960  of  5625.    Elapsed: 0:02:59.\n"
     ]
    },
    {
     "name": "stderr",
     "output_type": "stream",
     "text": [
      "Training:  18%|█▊        | 1001/5625 [03:07<14:26,  5.34it/s]"
     ]
    },
    {
     "name": "stdout",
     "output_type": "stream",
     "text": [
      "  Batch 1000  of  5625.    Elapsed: 0:03:07.\n"
     ]
    },
    {
     "name": "stderr",
     "output_type": "stream",
     "text": [
      "Training:  19%|█▊        | 1041/5625 [03:14<14:02,  5.44it/s]"
     ]
    },
    {
     "name": "stdout",
     "output_type": "stream",
     "text": [
      "  Batch 1040  of  5625.    Elapsed: 0:03:14.\n"
     ]
    },
    {
     "name": "stderr",
     "output_type": "stream",
     "text": [
      "Training:  19%|█▉        | 1081/5625 [03:21<13:54,  5.45it/s]"
     ]
    },
    {
     "name": "stdout",
     "output_type": "stream",
     "text": [
      "  Batch 1080  of  5625.    Elapsed: 0:03:22.\n"
     ]
    },
    {
     "name": "stderr",
     "output_type": "stream",
     "text": [
      "Training:  20%|█▉        | 1121/5625 [03:29<13:51,  5.41it/s]"
     ]
    },
    {
     "name": "stdout",
     "output_type": "stream",
     "text": [
      "  Batch 1120  of  5625.    Elapsed: 0:03:29.\n"
     ]
    },
    {
     "name": "stderr",
     "output_type": "stream",
     "text": [
      "Training:  21%|██        | 1161/5625 [03:36<13:53,  5.36it/s]"
     ]
    },
    {
     "name": "stdout",
     "output_type": "stream",
     "text": [
      "  Batch 1160  of  5625.    Elapsed: 0:03:37.\n"
     ]
    },
    {
     "name": "stderr",
     "output_type": "stream",
     "text": [
      "Training:  21%|██▏       | 1201/5625 [03:44<13:41,  5.38it/s]"
     ]
    },
    {
     "name": "stdout",
     "output_type": "stream",
     "text": [
      "  Batch 1200  of  5625.    Elapsed: 0:03:44.\n"
     ]
    },
    {
     "name": "stderr",
     "output_type": "stream",
     "text": [
      "Training:  22%|██▏       | 1241/5625 [03:51<13:34,  5.38it/s]"
     ]
    },
    {
     "name": "stdout",
     "output_type": "stream",
     "text": [
      "  Batch 1240  of  5625.    Elapsed: 0:03:52.\n"
     ]
    },
    {
     "name": "stderr",
     "output_type": "stream",
     "text": [
      "Training:  23%|██▎       | 1281/5625 [03:59<13:26,  5.39it/s]"
     ]
    },
    {
     "name": "stdout",
     "output_type": "stream",
     "text": [
      "  Batch 1280  of  5625.    Elapsed: 0:03:59.\n"
     ]
    },
    {
     "name": "stderr",
     "output_type": "stream",
     "text": [
      "Training:  23%|██▎       | 1321/5625 [04:06<13:14,  5.42it/s]"
     ]
    },
    {
     "name": "stdout",
     "output_type": "stream",
     "text": [
      "  Batch 1320  of  5625.    Elapsed: 0:04:07.\n"
     ]
    },
    {
     "name": "stderr",
     "output_type": "stream",
     "text": [
      "Training:  24%|██▍       | 1361/5625 [04:14<13:38,  5.21it/s]"
     ]
    },
    {
     "name": "stdout",
     "output_type": "stream",
     "text": [
      "  Batch 1360  of  5625.    Elapsed: 0:04:14.\n"
     ]
    },
    {
     "name": "stderr",
     "output_type": "stream",
     "text": [
      "Training:  25%|██▍       | 1401/5625 [04:21<12:58,  5.43it/s]"
     ]
    },
    {
     "name": "stdout",
     "output_type": "stream",
     "text": [
      "  Batch 1400  of  5625.    Elapsed: 0:04:21.\n"
     ]
    },
    {
     "name": "stderr",
     "output_type": "stream",
     "text": [
      "Training:  26%|██▌       | 1441/5625 [04:29<13:12,  5.28it/s]"
     ]
    },
    {
     "name": "stdout",
     "output_type": "stream",
     "text": [
      "  Batch 1440  of  5625.    Elapsed: 0:04:29.\n"
     ]
    },
    {
     "name": "stderr",
     "output_type": "stream",
     "text": [
      "Training:  26%|██▋       | 1481/5625 [04:36<12:42,  5.44it/s]"
     ]
    },
    {
     "name": "stdout",
     "output_type": "stream",
     "text": [
      "  Batch 1480  of  5625.    Elapsed: 0:04:36.\n"
     ]
    },
    {
     "name": "stderr",
     "output_type": "stream",
     "text": [
      "Training:  27%|██▋       | 1521/5625 [04:43<12:50,  5.33it/s]"
     ]
    },
    {
     "name": "stdout",
     "output_type": "stream",
     "text": [
      "  Batch 1520  of  5625.    Elapsed: 0:04:44.\n"
     ]
    },
    {
     "name": "stderr",
     "output_type": "stream",
     "text": [
      "Training:  28%|██▊       | 1561/5625 [04:51<12:24,  5.46it/s]"
     ]
    },
    {
     "name": "stdout",
     "output_type": "stream",
     "text": [
      "  Batch 1560  of  5625.    Elapsed: 0:04:51.\n"
     ]
    },
    {
     "name": "stderr",
     "output_type": "stream",
     "text": [
      "Training:  28%|██▊       | 1601/5625 [04:58<12:43,  5.27it/s]"
     ]
    },
    {
     "name": "stdout",
     "output_type": "stream",
     "text": [
      "  Batch 1600  of  5625.    Elapsed: 0:04:59.\n"
     ]
    },
    {
     "name": "stderr",
     "output_type": "stream",
     "text": [
      "Training:  29%|██▉       | 1641/5625 [05:06<12:26,  5.34it/s]"
     ]
    },
    {
     "name": "stdout",
     "output_type": "stream",
     "text": [
      "  Batch 1640  of  5625.    Elapsed: 0:05:07.\n"
     ]
    },
    {
     "name": "stderr",
     "output_type": "stream",
     "text": [
      "Training:  30%|██▉       | 1681/5625 [05:14<12:09,  5.41it/s]"
     ]
    },
    {
     "name": "stdout",
     "output_type": "stream",
     "text": [
      "  Batch 1680  of  5625.    Elapsed: 0:05:14.\n"
     ]
    },
    {
     "name": "stderr",
     "output_type": "stream",
     "text": [
      "Training:  31%|███       | 1721/5625 [05:21<11:56,  5.45it/s]"
     ]
    },
    {
     "name": "stdout",
     "output_type": "stream",
     "text": [
      "  Batch 1720  of  5625.    Elapsed: 0:05:22.\n"
     ]
    },
    {
     "name": "stderr",
     "output_type": "stream",
     "text": [
      "Training:  31%|███▏      | 1761/5625 [05:29<11:54,  5.41it/s]"
     ]
    },
    {
     "name": "stdout",
     "output_type": "stream",
     "text": [
      "  Batch 1760  of  5625.    Elapsed: 0:05:29.\n"
     ]
    },
    {
     "name": "stderr",
     "output_type": "stream",
     "text": [
      "Training:  32%|███▏      | 1801/5625 [05:36<11:48,  5.40it/s]"
     ]
    },
    {
     "name": "stdout",
     "output_type": "stream",
     "text": [
      "  Batch 1800  of  5625.    Elapsed: 0:05:36.\n"
     ]
    },
    {
     "name": "stderr",
     "output_type": "stream",
     "text": [
      "Training:  33%|███▎      | 1841/5625 [05:43<11:45,  5.36it/s]"
     ]
    },
    {
     "name": "stdout",
     "output_type": "stream",
     "text": [
      "  Batch 1840  of  5625.    Elapsed: 0:05:44.\n"
     ]
    },
    {
     "name": "stderr",
     "output_type": "stream",
     "text": [
      "Training:  33%|███▎      | 1881/5625 [05:51<11:44,  5.31it/s]"
     ]
    },
    {
     "name": "stdout",
     "output_type": "stream",
     "text": [
      "  Batch 1880  of  5625.    Elapsed: 0:05:51.\n"
     ]
    },
    {
     "name": "stderr",
     "output_type": "stream",
     "text": [
      "Training:  34%|███▍      | 1921/5625 [05:58<11:21,  5.44it/s]"
     ]
    },
    {
     "name": "stdout",
     "output_type": "stream",
     "text": [
      "  Batch 1920  of  5625.    Elapsed: 0:05:59.\n"
     ]
    },
    {
     "name": "stderr",
     "output_type": "stream",
     "text": [
      "Training:  35%|███▍      | 1961/5625 [06:06<11:36,  5.26it/s]"
     ]
    },
    {
     "name": "stdout",
     "output_type": "stream",
     "text": [
      "  Batch 1960  of  5625.    Elapsed: 0:06:06.\n"
     ]
    },
    {
     "name": "stderr",
     "output_type": "stream",
     "text": [
      "Training:  36%|███▌      | 2001/5625 [06:13<11:04,  5.45it/s]"
     ]
    },
    {
     "name": "stdout",
     "output_type": "stream",
     "text": [
      "  Batch 2000  of  5625.    Elapsed: 0:06:14.\n"
     ]
    },
    {
     "name": "stderr",
     "output_type": "stream",
     "text": [
      "Training:  36%|███▋      | 2041/5625 [06:21<11:32,  5.17it/s]"
     ]
    },
    {
     "name": "stdout",
     "output_type": "stream",
     "text": [
      "  Batch 2040  of  5625.    Elapsed: 0:06:21.\n"
     ]
    },
    {
     "name": "stderr",
     "output_type": "stream",
     "text": [
      "Training:  37%|███▋      | 2081/5625 [06:28<10:47,  5.48it/s]"
     ]
    },
    {
     "name": "stdout",
     "output_type": "stream",
     "text": [
      "  Batch 2080  of  5625.    Elapsed: 0:06:28.\n"
     ]
    },
    {
     "name": "stderr",
     "output_type": "stream",
     "text": [
      "Training:  38%|███▊      | 2121/5625 [06:36<10:55,  5.35it/s]"
     ]
    },
    {
     "name": "stdout",
     "output_type": "stream",
     "text": [
      "  Batch 2120  of  5625.    Elapsed: 0:06:36.\n"
     ]
    },
    {
     "name": "stderr",
     "output_type": "stream",
     "text": [
      "Training:  38%|███▊      | 2161/5625 [06:43<10:34,  5.46it/s]"
     ]
    },
    {
     "name": "stdout",
     "output_type": "stream",
     "text": [
      "  Batch 2160  of  5625.    Elapsed: 0:06:43.\n"
     ]
    },
    {
     "name": "stderr",
     "output_type": "stream",
     "text": [
      "Training:  39%|███▉      | 2201/5625 [06:50<10:37,  5.37it/s]"
     ]
    },
    {
     "name": "stdout",
     "output_type": "stream",
     "text": [
      "  Batch 2200  of  5625.    Elapsed: 0:06:51.\n"
     ]
    },
    {
     "name": "stderr",
     "output_type": "stream",
     "text": [
      "Training:  40%|███▉      | 2241/5625 [06:58<10:30,  5.36it/s]"
     ]
    },
    {
     "name": "stdout",
     "output_type": "stream",
     "text": [
      "  Batch 2240  of  5625.    Elapsed: 0:06:58.\n"
     ]
    },
    {
     "name": "stderr",
     "output_type": "stream",
     "text": [
      "Training:  41%|████      | 2281/5625 [07:06<10:22,  5.37it/s]"
     ]
    },
    {
     "name": "stdout",
     "output_type": "stream",
     "text": [
      "  Batch 2280  of  5625.    Elapsed: 0:07:06.\n"
     ]
    },
    {
     "name": "stderr",
     "output_type": "stream",
     "text": [
      "Training:  41%|████▏     | 2321/5625 [07:13<10:19,  5.34it/s]"
     ]
    },
    {
     "name": "stdout",
     "output_type": "stream",
     "text": [
      "  Batch 2320  of  5625.    Elapsed: 0:07:14.\n"
     ]
    },
    {
     "name": "stderr",
     "output_type": "stream",
     "text": [
      "Training:  42%|████▏     | 2361/5625 [07:21<10:07,  5.37it/s]"
     ]
    },
    {
     "name": "stdout",
     "output_type": "stream",
     "text": [
      "  Batch 2360  of  5625.    Elapsed: 0:07:21.\n"
     ]
    },
    {
     "name": "stderr",
     "output_type": "stream",
     "text": [
      "Training:  43%|████▎     | 2401/5625 [07:28<10:00,  5.37it/s]"
     ]
    },
    {
     "name": "stdout",
     "output_type": "stream",
     "text": [
      "  Batch 2400  of  5625.    Elapsed: 0:07:29.\n"
     ]
    },
    {
     "name": "stderr",
     "output_type": "stream",
     "text": [
      "Training:  43%|████▎     | 2441/5625 [07:36<09:52,  5.38it/s]"
     ]
    },
    {
     "name": "stdout",
     "output_type": "stream",
     "text": [
      "  Batch 2440  of  5625.    Elapsed: 0:07:36.\n"
     ]
    },
    {
     "name": "stderr",
     "output_type": "stream",
     "text": [
      "Training:  44%|████▍     | 2481/5625 [07:43<09:39,  5.43it/s]"
     ]
    },
    {
     "name": "stdout",
     "output_type": "stream",
     "text": [
      "  Batch 2480  of  5625.    Elapsed: 0:07:43.\n"
     ]
    },
    {
     "name": "stderr",
     "output_type": "stream",
     "text": [
      "Training:  45%|████▍     | 2521/5625 [07:50<09:26,  5.48it/s]"
     ]
    },
    {
     "name": "stdout",
     "output_type": "stream",
     "text": [
      "  Batch 2520  of  5625.    Elapsed: 0:07:51.\n"
     ]
    },
    {
     "name": "stderr",
     "output_type": "stream",
     "text": [
      "Training:  46%|████▌     | 2561/5625 [07:58<09:42,  5.26it/s]"
     ]
    },
    {
     "name": "stdout",
     "output_type": "stream",
     "text": [
      "  Batch 2560  of  5625.    Elapsed: 0:07:58.\n"
     ]
    },
    {
     "name": "stderr",
     "output_type": "stream",
     "text": [
      "Training:  46%|████▌     | 2601/5625 [08:05<09:13,  5.46it/s]"
     ]
    },
    {
     "name": "stdout",
     "output_type": "stream",
     "text": [
      "  Batch 2600  of  5625.    Elapsed: 0:08:06.\n"
     ]
    },
    {
     "name": "stderr",
     "output_type": "stream",
     "text": [
      "Training:  47%|████▋     | 2641/5625 [08:13<09:22,  5.30it/s]"
     ]
    },
    {
     "name": "stdout",
     "output_type": "stream",
     "text": [
      "  Batch 2640  of  5625.    Elapsed: 0:08:13.\n"
     ]
    },
    {
     "name": "stderr",
     "output_type": "stream",
     "text": [
      "Training:  48%|████▊     | 2681/5625 [08:20<09:00,  5.44it/s]"
     ]
    },
    {
     "name": "stdout",
     "output_type": "stream",
     "text": [
      "  Batch 2680  of  5625.    Elapsed: 0:08:21.\n"
     ]
    },
    {
     "name": "stderr",
     "output_type": "stream",
     "text": [
      "Training:  48%|████▊     | 2721/5625 [08:28<09:07,  5.31it/s]"
     ]
    },
    {
     "name": "stdout",
     "output_type": "stream",
     "text": [
      "  Batch 2720  of  5625.    Elapsed: 0:08:28.\n"
     ]
    },
    {
     "name": "stderr",
     "output_type": "stream",
     "text": [
      "Training:  49%|████▉     | 2761/5625 [08:35<08:53,  5.37it/s]"
     ]
    },
    {
     "name": "stdout",
     "output_type": "stream",
     "text": [
      "  Batch 2760  of  5625.    Elapsed: 0:08:36.\n"
     ]
    },
    {
     "name": "stderr",
     "output_type": "stream",
     "text": [
      "Training:  50%|████▉     | 2801/5625 [08:43<08:46,  5.37it/s]"
     ]
    },
    {
     "name": "stdout",
     "output_type": "stream",
     "text": [
      "  Batch 2800  of  5625.    Elapsed: 0:08:43.\n"
     ]
    },
    {
     "name": "stderr",
     "output_type": "stream",
     "text": [
      "Training:  51%|█████     | 2841/5625 [08:50<08:40,  5.35it/s]"
     ]
    },
    {
     "name": "stdout",
     "output_type": "stream",
     "text": [
      "  Batch 2840  of  5625.    Elapsed: 0:08:50.\n"
     ]
    },
    {
     "name": "stderr",
     "output_type": "stream",
     "text": [
      "Training:  51%|█████     | 2881/5625 [08:58<08:33,  5.34it/s]"
     ]
    },
    {
     "name": "stdout",
     "output_type": "stream",
     "text": [
      "  Batch 2880  of  5625.    Elapsed: 0:08:58.\n"
     ]
    },
    {
     "name": "stderr",
     "output_type": "stream",
     "text": [
      "Training:  52%|█████▏    | 2921/5625 [09:06<08:34,  5.25it/s]"
     ]
    },
    {
     "name": "stdout",
     "output_type": "stream",
     "text": [
      "  Batch 2920  of  5625.    Elapsed: 0:09:06.\n"
     ]
    },
    {
     "name": "stderr",
     "output_type": "stream",
     "text": [
      "Training:  53%|█████▎    | 2961/5625 [09:13<08:13,  5.40it/s]"
     ]
    },
    {
     "name": "stdout",
     "output_type": "stream",
     "text": [
      "  Batch 2960  of  5625.    Elapsed: 0:09:13.\n"
     ]
    },
    {
     "name": "stderr",
     "output_type": "stream",
     "text": [
      "Training:  53%|█████▎    | 3001/5625 [09:20<08:06,  5.40it/s]"
     ]
    },
    {
     "name": "stdout",
     "output_type": "stream",
     "text": [
      "  Batch 3000  of  5625.    Elapsed: 0:09:21.\n"
     ]
    },
    {
     "name": "stderr",
     "output_type": "stream",
     "text": [
      "Training:  54%|█████▍    | 3041/5625 [09:28<07:56,  5.42it/s]"
     ]
    },
    {
     "name": "stdout",
     "output_type": "stream",
     "text": [
      "  Batch 3040  of  5625.    Elapsed: 0:09:28.\n"
     ]
    },
    {
     "name": "stderr",
     "output_type": "stream",
     "text": [
      "Training:  55%|█████▍    | 3081/5625 [09:35<07:56,  5.34it/s]"
     ]
    },
    {
     "name": "stdout",
     "output_type": "stream",
     "text": [
      "  Batch 3080  of  5625.    Elapsed: 0:09:36.\n"
     ]
    },
    {
     "name": "stderr",
     "output_type": "stream",
     "text": [
      "Training:  55%|█████▌    | 3121/5625 [09:43<07:38,  5.46it/s]"
     ]
    },
    {
     "name": "stdout",
     "output_type": "stream",
     "text": [
      "  Batch 3120  of  5625.    Elapsed: 0:09:43.\n"
     ]
    },
    {
     "name": "stderr",
     "output_type": "stream",
     "text": [
      "Training:  56%|█████▌    | 3161/5625 [09:50<07:43,  5.31it/s]"
     ]
    },
    {
     "name": "stdout",
     "output_type": "stream",
     "text": [
      "  Batch 3160  of  5625.    Elapsed: 0:09:50.\n"
     ]
    },
    {
     "name": "stderr",
     "output_type": "stream",
     "text": [
      "Training:  57%|█████▋    | 3201/5625 [09:58<07:30,  5.38it/s]"
     ]
    },
    {
     "name": "stdout",
     "output_type": "stream",
     "text": [
      "  Batch 3200  of  5625.    Elapsed: 0:09:58.\n"
     ]
    },
    {
     "name": "stderr",
     "output_type": "stream",
     "text": [
      "Training:  58%|█████▊    | 3241/5625 [10:05<07:30,  5.29it/s]"
     ]
    },
    {
     "name": "stdout",
     "output_type": "stream",
     "text": [
      "  Batch 3240  of  5625.    Elapsed: 0:10:05.\n"
     ]
    },
    {
     "name": "stderr",
     "output_type": "stream",
     "text": [
      "Training:  58%|█████▊    | 3281/5625 [10:12<07:17,  5.36it/s]"
     ]
    },
    {
     "name": "stdout",
     "output_type": "stream",
     "text": [
      "  Batch 3280  of  5625.    Elapsed: 0:10:13.\n"
     ]
    },
    {
     "name": "stderr",
     "output_type": "stream",
     "text": [
      "Training:  59%|█████▉    | 3321/5625 [10:20<07:14,  5.30it/s]"
     ]
    },
    {
     "name": "stdout",
     "output_type": "stream",
     "text": [
      "  Batch 3320  of  5625.    Elapsed: 0:10:20.\n"
     ]
    },
    {
     "name": "stderr",
     "output_type": "stream",
     "text": [
      "Training:  60%|█████▉    | 3361/5625 [10:27<06:55,  5.45it/s]"
     ]
    },
    {
     "name": "stdout",
     "output_type": "stream",
     "text": [
      "  Batch 3360  of  5625.    Elapsed: 0:10:28.\n"
     ]
    },
    {
     "name": "stderr",
     "output_type": "stream",
     "text": [
      "Training:  60%|██████    | 3401/5625 [10:35<06:57,  5.33it/s]"
     ]
    },
    {
     "name": "stdout",
     "output_type": "stream",
     "text": [
      "  Batch 3400  of  5625.    Elapsed: 0:10:35.\n"
     ]
    },
    {
     "name": "stderr",
     "output_type": "stream",
     "text": [
      "Training:  61%|██████    | 3441/5625 [10:42<06:40,  5.45it/s]"
     ]
    },
    {
     "name": "stdout",
     "output_type": "stream",
     "text": [
      "  Batch 3440  of  5625.    Elapsed: 0:10:43.\n"
     ]
    },
    {
     "name": "stderr",
     "output_type": "stream",
     "text": [
      "Training:  62%|██████▏   | 3481/5625 [10:50<06:32,  5.46it/s]"
     ]
    },
    {
     "name": "stdout",
     "output_type": "stream",
     "text": [
      "  Batch 3480  of  5625.    Elapsed: 0:10:50.\n"
     ]
    },
    {
     "name": "stderr",
     "output_type": "stream",
     "text": [
      "Training:  63%|██████▎   | 3521/5625 [10:57<06:28,  5.42it/s]"
     ]
    },
    {
     "name": "stdout",
     "output_type": "stream",
     "text": [
      "  Batch 3520  of  5625.    Elapsed: 0:10:57.\n"
     ]
    },
    {
     "name": "stderr",
     "output_type": "stream",
     "text": [
      "Training:  63%|██████▎   | 3561/5625 [11:05<06:30,  5.28it/s]"
     ]
    },
    {
     "name": "stdout",
     "output_type": "stream",
     "text": [
      "  Batch 3560  of  5625.    Elapsed: 0:11:05.\n"
     ]
    },
    {
     "name": "stderr",
     "output_type": "stream",
     "text": [
      "Training:  64%|██████▍   | 3601/5625 [11:13<06:18,  5.35it/s]"
     ]
    },
    {
     "name": "stdout",
     "output_type": "stream",
     "text": [
      "  Batch 3600  of  5625.    Elapsed: 0:11:13.\n"
     ]
    },
    {
     "name": "stderr",
     "output_type": "stream",
     "text": [
      "Training:  65%|██████▍   | 3641/5625 [11:20<06:07,  5.40it/s]"
     ]
    },
    {
     "name": "stdout",
     "output_type": "stream",
     "text": [
      "  Batch 3640  of  5625.    Elapsed: 0:11:20.\n"
     ]
    },
    {
     "name": "stderr",
     "output_type": "stream",
     "text": [
      "Training:  65%|██████▌   | 3681/5625 [11:27<05:56,  5.45it/s]"
     ]
    },
    {
     "name": "stdout",
     "output_type": "stream",
     "text": [
      "  Batch 3680  of  5625.    Elapsed: 0:11:28.\n"
     ]
    },
    {
     "name": "stderr",
     "output_type": "stream",
     "text": [
      "Training:  66%|██████▌   | 3721/5625 [11:35<05:49,  5.45it/s]"
     ]
    },
    {
     "name": "stdout",
     "output_type": "stream",
     "text": [
      "  Batch 3720  of  5625.    Elapsed: 0:11:35.\n"
     ]
    },
    {
     "name": "stderr",
     "output_type": "stream",
     "text": [
      "Training:  67%|██████▋   | 3761/5625 [11:42<05:54,  5.25it/s]"
     ]
    },
    {
     "name": "stdout",
     "output_type": "stream",
     "text": [
      "  Batch 3760  of  5625.    Elapsed: 0:11:43.\n"
     ]
    },
    {
     "name": "stderr",
     "output_type": "stream",
     "text": [
      "Training:  68%|██████▊   | 3801/5625 [11:50<05:38,  5.39it/s]"
     ]
    },
    {
     "name": "stdout",
     "output_type": "stream",
     "text": [
      "  Batch 3800  of  5625.    Elapsed: 0:11:50.\n"
     ]
    },
    {
     "name": "stderr",
     "output_type": "stream",
     "text": [
      "Training:  68%|██████▊   | 3841/5625 [11:57<05:43,  5.19it/s]"
     ]
    },
    {
     "name": "stdout",
     "output_type": "stream",
     "text": [
      "  Batch 3840  of  5625.    Elapsed: 0:11:57.\n"
     ]
    },
    {
     "name": "stderr",
     "output_type": "stream",
     "text": [
      "Training:  69%|██████▉   | 3881/5625 [12:05<05:18,  5.47it/s]"
     ]
    },
    {
     "name": "stdout",
     "output_type": "stream",
     "text": [
      "  Batch 3880  of  5625.    Elapsed: 0:12:05.\n"
     ]
    },
    {
     "name": "stderr",
     "output_type": "stream",
     "text": [
      "Training:  70%|██████▉   | 3921/5625 [12:12<05:19,  5.33it/s]"
     ]
    },
    {
     "name": "stdout",
     "output_type": "stream",
     "text": [
      "  Batch 3920  of  5625.    Elapsed: 0:12:12.\n"
     ]
    },
    {
     "name": "stderr",
     "output_type": "stream",
     "text": [
      "Training:  70%|███████   | 3961/5625 [12:19<05:07,  5.41it/s]"
     ]
    },
    {
     "name": "stdout",
     "output_type": "stream",
     "text": [
      "  Batch 3960  of  5625.    Elapsed: 0:12:20.\n"
     ]
    },
    {
     "name": "stderr",
     "output_type": "stream",
     "text": [
      "Training:  71%|███████   | 4001/5625 [12:27<05:03,  5.35it/s]"
     ]
    },
    {
     "name": "stdout",
     "output_type": "stream",
     "text": [
      "  Batch 4000  of  5625.    Elapsed: 0:12:27.\n"
     ]
    },
    {
     "name": "stderr",
     "output_type": "stream",
     "text": [
      "Training:  72%|███████▏  | 4041/5625 [12:34<04:50,  5.46it/s]"
     ]
    },
    {
     "name": "stdout",
     "output_type": "stream",
     "text": [
      "  Batch 4040  of  5625.    Elapsed: 0:12:35.\n"
     ]
    },
    {
     "name": "stderr",
     "output_type": "stream",
     "text": [
      "Training:  73%|███████▎  | 4081/5625 [12:42<04:46,  5.40it/s]"
     ]
    },
    {
     "name": "stdout",
     "output_type": "stream",
     "text": [
      "  Batch 4080  of  5625.    Elapsed: 0:12:42.\n"
     ]
    },
    {
     "name": "stderr",
     "output_type": "stream",
     "text": [
      "Training:  73%|███████▎  | 4121/5625 [12:49<04:38,  5.40it/s]"
     ]
    },
    {
     "name": "stdout",
     "output_type": "stream",
     "text": [
      "  Batch 4120  of  5625.    Elapsed: 0:12:49.\n"
     ]
    },
    {
     "name": "stderr",
     "output_type": "stream",
     "text": [
      "Training:  74%|███████▍  | 4161/5625 [12:56<04:27,  5.46it/s]"
     ]
    },
    {
     "name": "stdout",
     "output_type": "stream",
     "text": [
      "  Batch 4160  of  5625.    Elapsed: 0:12:57.\n"
     ]
    },
    {
     "name": "stderr",
     "output_type": "stream",
     "text": [
      "Training:  75%|███████▍  | 4201/5625 [13:04<04:38,  5.12it/s]"
     ]
    },
    {
     "name": "stdout",
     "output_type": "stream",
     "text": [
      "  Batch 4200  of  5625.    Elapsed: 0:13:05.\n"
     ]
    },
    {
     "name": "stderr",
     "output_type": "stream",
     "text": [
      "Training:  75%|███████▌  | 4241/5625 [13:12<04:13,  5.47it/s]"
     ]
    },
    {
     "name": "stdout",
     "output_type": "stream",
     "text": [
      "  Batch 4240  of  5625.    Elapsed: 0:13:12.\n"
     ]
    },
    {
     "name": "stderr",
     "output_type": "stream",
     "text": [
      "Training:  76%|███████▌  | 4281/5625 [13:19<04:12,  5.33it/s]"
     ]
    },
    {
     "name": "stdout",
     "output_type": "stream",
     "text": [
      "  Batch 4280  of  5625.    Elapsed: 0:13:20.\n"
     ]
    },
    {
     "name": "stderr",
     "output_type": "stream",
     "text": [
      "Training:  77%|███████▋  | 4321/5625 [13:27<03:57,  5.48it/s]"
     ]
    },
    {
     "name": "stdout",
     "output_type": "stream",
     "text": [
      "  Batch 4320  of  5625.    Elapsed: 0:13:27.\n"
     ]
    },
    {
     "name": "stderr",
     "output_type": "stream",
     "text": [
      "Training:  78%|███████▊  | 4361/5625 [13:34<03:59,  5.28it/s]"
     ]
    },
    {
     "name": "stdout",
     "output_type": "stream",
     "text": [
      "  Batch 4360  of  5625.    Elapsed: 0:13:34.\n"
     ]
    },
    {
     "name": "stderr",
     "output_type": "stream",
     "text": [
      "Training:  78%|███████▊  | 4401/5625 [13:42<03:42,  5.50it/s]"
     ]
    },
    {
     "name": "stdout",
     "output_type": "stream",
     "text": [
      "  Batch 4400  of  5625.    Elapsed: 0:13:42.\n"
     ]
    },
    {
     "name": "stderr",
     "output_type": "stream",
     "text": [
      "Training:  79%|███████▉  | 4441/5625 [13:49<03:42,  5.31it/s]"
     ]
    },
    {
     "name": "stdout",
     "output_type": "stream",
     "text": [
      "  Batch 4440  of  5625.    Elapsed: 0:13:49.\n"
     ]
    },
    {
     "name": "stderr",
     "output_type": "stream",
     "text": [
      "Training:  80%|███████▉  | 4481/5625 [13:56<03:31,  5.40it/s]"
     ]
    },
    {
     "name": "stdout",
     "output_type": "stream",
     "text": [
      "  Batch 4480  of  5625.    Elapsed: 0:13:57.\n"
     ]
    },
    {
     "name": "stderr",
     "output_type": "stream",
     "text": [
      "Training:  80%|████████  | 4521/5625 [14:04<03:25,  5.37it/s]"
     ]
    },
    {
     "name": "stdout",
     "output_type": "stream",
     "text": [
      "  Batch 4520  of  5625.    Elapsed: 0:14:04.\n"
     ]
    },
    {
     "name": "stderr",
     "output_type": "stream",
     "text": [
      "Training:  81%|████████  | 4561/5625 [14:11<03:14,  5.47it/s]"
     ]
    },
    {
     "name": "stdout",
     "output_type": "stream",
     "text": [
      "  Batch 4560  of  5625.    Elapsed: 0:14:12.\n"
     ]
    },
    {
     "name": "stderr",
     "output_type": "stream",
     "text": [
      "Training:  82%|████████▏ | 4601/5625 [14:19<03:10,  5.37it/s]"
     ]
    },
    {
     "name": "stdout",
     "output_type": "stream",
     "text": [
      "  Batch 4600  of  5625.    Elapsed: 0:14:19.\n"
     ]
    },
    {
     "name": "stderr",
     "output_type": "stream",
     "text": [
      "Training:  83%|████████▎ | 4641/5625 [14:26<03:02,  5.41it/s]"
     ]
    },
    {
     "name": "stdout",
     "output_type": "stream",
     "text": [
      "  Batch 4640  of  5625.    Elapsed: 0:14:26.\n"
     ]
    },
    {
     "name": "stderr",
     "output_type": "stream",
     "text": [
      "Training:  83%|████████▎ | 4681/5625 [14:33<02:52,  5.47it/s]"
     ]
    },
    {
     "name": "stdout",
     "output_type": "stream",
     "text": [
      "  Batch 4680  of  5625.    Elapsed: 0:14:34.\n"
     ]
    },
    {
     "name": "stderr",
     "output_type": "stream",
     "text": [
      "Training:  84%|████████▍ | 4721/5625 [14:41<02:46,  5.42it/s]"
     ]
    },
    {
     "name": "stdout",
     "output_type": "stream",
     "text": [
      "  Batch 4720  of  5625.    Elapsed: 0:14:41.\n"
     ]
    },
    {
     "name": "stderr",
     "output_type": "stream",
     "text": [
      "Training:  85%|████████▍ | 4761/5625 [14:48<02:39,  5.42it/s]"
     ]
    },
    {
     "name": "stdout",
     "output_type": "stream",
     "text": [
      "  Batch 4760  of  5625.    Elapsed: 0:14:49.\n"
     ]
    },
    {
     "name": "stderr",
     "output_type": "stream",
     "text": [
      "Training:  85%|████████▌ | 4801/5625 [14:56<02:31,  5.44it/s]"
     ]
    },
    {
     "name": "stdout",
     "output_type": "stream",
     "text": [
      "  Batch 4800  of  5625.    Elapsed: 0:14:56.\n"
     ]
    },
    {
     "name": "stderr",
     "output_type": "stream",
     "text": [
      "Training:  86%|████████▌ | 4841/5625 [15:04<02:27,  5.30it/s]"
     ]
    },
    {
     "name": "stdout",
     "output_type": "stream",
     "text": [
      "  Batch 4840  of  5625.    Elapsed: 0:15:04.\n"
     ]
    },
    {
     "name": "stderr",
     "output_type": "stream",
     "text": [
      "Training:  87%|████████▋ | 4881/5625 [15:11<02:20,  5.31it/s]"
     ]
    },
    {
     "name": "stdout",
     "output_type": "stream",
     "text": [
      "  Batch 4880  of  5625.    Elapsed: 0:15:12.\n"
     ]
    },
    {
     "name": "stderr",
     "output_type": "stream",
     "text": [
      "Training:  87%|████████▋ | 4921/5625 [15:19<02:08,  5.50it/s]"
     ]
    },
    {
     "name": "stdout",
     "output_type": "stream",
     "text": [
      "  Batch 4920  of  5625.    Elapsed: 0:15:19.\n"
     ]
    },
    {
     "name": "stderr",
     "output_type": "stream",
     "text": [
      "Training:  88%|████████▊ | 4961/5625 [15:26<02:05,  5.29it/s]"
     ]
    },
    {
     "name": "stdout",
     "output_type": "stream",
     "text": [
      "  Batch 4960  of  5625.    Elapsed: 0:15:26.\n"
     ]
    },
    {
     "name": "stderr",
     "output_type": "stream",
     "text": [
      "Training:  89%|████████▉ | 5001/5625 [15:33<01:55,  5.40it/s]"
     ]
    },
    {
     "name": "stdout",
     "output_type": "stream",
     "text": [
      "  Batch 5000  of  5625.    Elapsed: 0:15:34.\n"
     ]
    },
    {
     "name": "stderr",
     "output_type": "stream",
     "text": [
      "Training:  90%|████████▉ | 5041/5625 [15:41<01:51,  5.23it/s]"
     ]
    },
    {
     "name": "stdout",
     "output_type": "stream",
     "text": [
      "  Batch 5040  of  5625.    Elapsed: 0:15:41.\n"
     ]
    },
    {
     "name": "stderr",
     "output_type": "stream",
     "text": [
      "Training:  90%|█████████ | 5081/5625 [15:48<01:40,  5.44it/s]"
     ]
    },
    {
     "name": "stdout",
     "output_type": "stream",
     "text": [
      "  Batch 5080  of  5625.    Elapsed: 0:15:49.\n"
     ]
    },
    {
     "name": "stderr",
     "output_type": "stream",
     "text": [
      "Training:  91%|█████████ | 5121/5625 [15:56<01:35,  5.27it/s]"
     ]
    },
    {
     "name": "stdout",
     "output_type": "stream",
     "text": [
      "  Batch 5120  of  5625.    Elapsed: 0:15:56.\n"
     ]
    },
    {
     "name": "stderr",
     "output_type": "stream",
     "text": [
      "Training:  92%|█████████▏| 5161/5625 [16:03<01:26,  5.39it/s]"
     ]
    },
    {
     "name": "stdout",
     "output_type": "stream",
     "text": [
      "  Batch 5160  of  5625.    Elapsed: 0:16:04.\n"
     ]
    },
    {
     "name": "stderr",
     "output_type": "stream",
     "text": [
      "Training:  92%|█████████▏| 5201/5625 [16:11<01:21,  5.17it/s]"
     ]
    },
    {
     "name": "stdout",
     "output_type": "stream",
     "text": [
      "  Batch 5200  of  5625.    Elapsed: 0:16:11.\n"
     ]
    },
    {
     "name": "stderr",
     "output_type": "stream",
     "text": [
      "Training:  93%|█████████▎| 5241/5625 [16:19<01:13,  5.26it/s]"
     ]
    },
    {
     "name": "stdout",
     "output_type": "stream",
     "text": [
      "  Batch 5240  of  5625.    Elapsed: 0:16:19.\n"
     ]
    },
    {
     "name": "stderr",
     "output_type": "stream",
     "text": [
      "Training:  94%|█████████▍| 5281/5625 [16:26<01:04,  5.37it/s]"
     ]
    },
    {
     "name": "stdout",
     "output_type": "stream",
     "text": [
      "  Batch 5280  of  5625.    Elapsed: 0:16:27.\n"
     ]
    },
    {
     "name": "stderr",
     "output_type": "stream",
     "text": [
      "Training:  95%|█████████▍| 5321/5625 [16:34<00:56,  5.41it/s]"
     ]
    },
    {
     "name": "stdout",
     "output_type": "stream",
     "text": [
      "  Batch 5320  of  5625.    Elapsed: 0:16:34.\n"
     ]
    },
    {
     "name": "stderr",
     "output_type": "stream",
     "text": [
      "Training:  95%|█████████▌| 5361/5625 [16:41<00:48,  5.44it/s]"
     ]
    },
    {
     "name": "stdout",
     "output_type": "stream",
     "text": [
      "  Batch 5360  of  5625.    Elapsed: 0:16:42.\n"
     ]
    },
    {
     "name": "stderr",
     "output_type": "stream",
     "text": [
      "Training:  96%|█████████▌| 5401/5625 [16:49<00:40,  5.48it/s]"
     ]
    },
    {
     "name": "stdout",
     "output_type": "stream",
     "text": [
      "  Batch 5400  of  5625.    Elapsed: 0:16:49.\n"
     ]
    },
    {
     "name": "stderr",
     "output_type": "stream",
     "text": [
      "Training:  97%|█████████▋| 5441/5625 [16:56<00:34,  5.38it/s]"
     ]
    },
    {
     "name": "stdout",
     "output_type": "stream",
     "text": [
      "  Batch 5440  of  5625.    Elapsed: 0:16:56.\n"
     ]
    },
    {
     "name": "stderr",
     "output_type": "stream",
     "text": [
      "Training:  97%|█████████▋| 5481/5625 [17:04<00:27,  5.23it/s]"
     ]
    },
    {
     "name": "stdout",
     "output_type": "stream",
     "text": [
      "  Batch 5480  of  5625.    Elapsed: 0:17:04.\n"
     ]
    },
    {
     "name": "stderr",
     "output_type": "stream",
     "text": [
      "Training:  98%|█████████▊| 5521/5625 [17:11<00:19,  5.40it/s]"
     ]
    },
    {
     "name": "stdout",
     "output_type": "stream",
     "text": [
      "  Batch 5520  of  5625.    Elapsed: 0:17:12.\n"
     ]
    },
    {
     "name": "stderr",
     "output_type": "stream",
     "text": [
      "Training:  99%|█████████▉| 5561/5625 [17:19<00:12,  5.30it/s]"
     ]
    },
    {
     "name": "stdout",
     "output_type": "stream",
     "text": [
      "  Batch 5560  of  5625.    Elapsed: 0:17:19.\n"
     ]
    },
    {
     "name": "stderr",
     "output_type": "stream",
     "text": [
      "Training: 100%|█████████▉| 5601/5625 [17:26<00:04,  5.39it/s]"
     ]
    },
    {
     "name": "stdout",
     "output_type": "stream",
     "text": [
      "  Batch 5600  of  5625.    Elapsed: 0:17:27.\n"
     ]
    },
    {
     "name": "stderr",
     "output_type": "stream",
     "text": [
      "Training: 100%|██████████| 5625/5625 [17:31<00:00,  5.35it/s]\n"
     ]
    },
    {
     "name": "stdout",
     "output_type": "stream",
     "text": [
      "\n",
      "  Average training loss: 0.29\n",
      "  Training epoch took: 0:17:31\n",
      "\n",
      "Running Validation...\n"
     ]
    },
    {
     "name": "stderr",
     "output_type": "stream",
     "text": [
      "Validation: 100%|██████████| 625/625 [00:44<00:00, 14.11it/s]\n"
     ]
    },
    {
     "name": "stdout",
     "output_type": "stream",
     "text": [
      "  Accuracy: 0.75\n",
      "  Validation Loss: 0.65\n",
      "  Validation took: 0:00:44\n",
      "======== Epoch 5 / 5 ========\n",
      "Training...\n"
     ]
    },
    {
     "name": "stderr",
     "output_type": "stream",
     "text": [
      "Training:   1%|          | 41/5625 [00:07<17:32,  5.31it/s]"
     ]
    },
    {
     "name": "stdout",
     "output_type": "stream",
     "text": [
      "  Batch 40  of  5625.    Elapsed: 0:00:07.\n"
     ]
    },
    {
     "name": "stderr",
     "output_type": "stream",
     "text": [
      "Training:   1%|▏         | 81/5625 [00:15<17:02,  5.42it/s]"
     ]
    },
    {
     "name": "stdout",
     "output_type": "stream",
     "text": [
      "  Batch 80  of  5625.    Elapsed: 0:00:15.\n"
     ]
    },
    {
     "name": "stderr",
     "output_type": "stream",
     "text": [
      "Training:   2%|▏         | 121/5625 [00:22<17:44,  5.17it/s]"
     ]
    },
    {
     "name": "stdout",
     "output_type": "stream",
     "text": [
      "  Batch 120  of  5625.    Elapsed: 0:00:22.\n"
     ]
    },
    {
     "name": "stderr",
     "output_type": "stream",
     "text": [
      "Training:   3%|▎         | 161/5625 [00:29<16:58,  5.37it/s]"
     ]
    },
    {
     "name": "stdout",
     "output_type": "stream",
     "text": [
      "  Batch 160  of  5625.    Elapsed: 0:00:30.\n"
     ]
    },
    {
     "name": "stderr",
     "output_type": "stream",
     "text": [
      "Training:   4%|▎         | 201/5625 [00:37<17:11,  5.26it/s]"
     ]
    },
    {
     "name": "stdout",
     "output_type": "stream",
     "text": [
      "  Batch 200  of  5625.    Elapsed: 0:00:37.\n"
     ]
    },
    {
     "name": "stderr",
     "output_type": "stream",
     "text": [
      "Training:   4%|▍         | 241/5625 [00:44<18:02,  4.97it/s]"
     ]
    },
    {
     "name": "stdout",
     "output_type": "stream",
     "text": [
      "  Batch 240  of  5625.    Elapsed: 0:00:45.\n"
     ]
    },
    {
     "name": "stderr",
     "output_type": "stream",
     "text": [
      "Training:   5%|▍         | 281/5625 [00:52<17:01,  5.23it/s]"
     ]
    },
    {
     "name": "stdout",
     "output_type": "stream",
     "text": [
      "  Batch 280  of  5625.    Elapsed: 0:00:53.\n"
     ]
    },
    {
     "name": "stderr",
     "output_type": "stream",
     "text": [
      "Training:   6%|▌         | 321/5625 [01:00<16:26,  5.38it/s]"
     ]
    },
    {
     "name": "stdout",
     "output_type": "stream",
     "text": [
      "  Batch 320  of  5625.    Elapsed: 0:01:00.\n"
     ]
    },
    {
     "name": "stderr",
     "output_type": "stream",
     "text": [
      "Training:   6%|▋         | 361/5625 [01:07<16:23,  5.35it/s]"
     ]
    },
    {
     "name": "stdout",
     "output_type": "stream",
     "text": [
      "  Batch 360  of  5625.    Elapsed: 0:01:07.\n"
     ]
    },
    {
     "name": "stderr",
     "output_type": "stream",
     "text": [
      "Training:   7%|▋         | 401/5625 [01:15<15:48,  5.51it/s]"
     ]
    },
    {
     "name": "stdout",
     "output_type": "stream",
     "text": [
      "  Batch 400  of  5625.    Elapsed: 0:01:15.\n"
     ]
    },
    {
     "name": "stderr",
     "output_type": "stream",
     "text": [
      "Training:   8%|▊         | 441/5625 [01:22<15:50,  5.45it/s]"
     ]
    },
    {
     "name": "stdout",
     "output_type": "stream",
     "text": [
      "  Batch 440  of  5625.    Elapsed: 0:01:22.\n"
     ]
    },
    {
     "name": "stderr",
     "output_type": "stream",
     "text": [
      "Training:   9%|▊         | 481/5625 [01:29<15:45,  5.44it/s]"
     ]
    },
    {
     "name": "stdout",
     "output_type": "stream",
     "text": [
      "  Batch 480  of  5625.    Elapsed: 0:01:30.\n"
     ]
    },
    {
     "name": "stderr",
     "output_type": "stream",
     "text": [
      "Training:   9%|▉         | 521/5625 [01:37<15:38,  5.44it/s]"
     ]
    },
    {
     "name": "stdout",
     "output_type": "stream",
     "text": [
      "  Batch 520  of  5625.    Elapsed: 0:01:37.\n"
     ]
    },
    {
     "name": "stderr",
     "output_type": "stream",
     "text": [
      "Training:  10%|▉         | 561/5625 [01:44<15:33,  5.43it/s]"
     ]
    },
    {
     "name": "stdout",
     "output_type": "stream",
     "text": [
      "  Batch 560  of  5625.    Elapsed: 0:01:45.\n"
     ]
    },
    {
     "name": "stderr",
     "output_type": "stream",
     "text": [
      "Training:  11%|█         | 601/5625 [01:52<15:13,  5.50it/s]"
     ]
    },
    {
     "name": "stdout",
     "output_type": "stream",
     "text": [
      "  Batch 600  of  5625.    Elapsed: 0:01:52.\n"
     ]
    },
    {
     "name": "stderr",
     "output_type": "stream",
     "text": [
      "Training:  11%|█▏        | 641/5625 [01:59<15:38,  5.31it/s]"
     ]
    },
    {
     "name": "stdout",
     "output_type": "stream",
     "text": [
      "  Batch 640  of  5625.    Elapsed: 0:01:59.\n"
     ]
    },
    {
     "name": "stderr",
     "output_type": "stream",
     "text": [
      "Training:  12%|█▏        | 681/5625 [02:07<15:00,  5.49it/s]"
     ]
    },
    {
     "name": "stdout",
     "output_type": "stream",
     "text": [
      "  Batch 680  of  5625.    Elapsed: 0:02:07.\n"
     ]
    },
    {
     "name": "stderr",
     "output_type": "stream",
     "text": [
      "Training:  13%|█▎        | 721/5625 [02:14<15:39,  5.22it/s]"
     ]
    },
    {
     "name": "stdout",
     "output_type": "stream",
     "text": [
      "  Batch 720  of  5625.    Elapsed: 0:02:14.\n"
     ]
    },
    {
     "name": "stderr",
     "output_type": "stream",
     "text": [
      "Training:  14%|█▎        | 761/5625 [02:21<14:42,  5.51it/s]"
     ]
    },
    {
     "name": "stdout",
     "output_type": "stream",
     "text": [
      "  Batch 760  of  5625.    Elapsed: 0:02:22.\n"
     ]
    },
    {
     "name": "stderr",
     "output_type": "stream",
     "text": [
      "Training:  14%|█▍        | 801/5625 [02:29<15:24,  5.22it/s]"
     ]
    },
    {
     "name": "stdout",
     "output_type": "stream",
     "text": [
      "  Batch 800  of  5625.    Elapsed: 0:02:29.\n"
     ]
    },
    {
     "name": "stderr",
     "output_type": "stream",
     "text": [
      "Training:  15%|█▍        | 841/5625 [02:36<14:42,  5.42it/s]"
     ]
    },
    {
     "name": "stdout",
     "output_type": "stream",
     "text": [
      "  Batch 840  of  5625.    Elapsed: 0:02:37.\n"
     ]
    },
    {
     "name": "stderr",
     "output_type": "stream",
     "text": [
      "Training:  16%|█▌        | 881/5625 [02:44<16:37,  4.75it/s]"
     ]
    },
    {
     "name": "stdout",
     "output_type": "stream",
     "text": [
      "  Batch 880  of  5625.    Elapsed: 0:02:44.\n"
     ]
    },
    {
     "name": "stderr",
     "output_type": "stream",
     "text": [
      "Training:  16%|█▋        | 921/5625 [02:52<14:37,  5.36it/s]"
     ]
    },
    {
     "name": "stdout",
     "output_type": "stream",
     "text": [
      "  Batch 920  of  5625.    Elapsed: 0:02:52.\n"
     ]
    },
    {
     "name": "stderr",
     "output_type": "stream",
     "text": [
      "Training:  17%|█▋        | 961/5625 [02:59<14:46,  5.26it/s]"
     ]
    },
    {
     "name": "stdout",
     "output_type": "stream",
     "text": [
      "  Batch 960  of  5625.    Elapsed: 0:02:59.\n"
     ]
    },
    {
     "name": "stderr",
     "output_type": "stream",
     "text": [
      "Training:  18%|█▊        | 1001/5625 [03:07<14:17,  5.39it/s]"
     ]
    },
    {
     "name": "stdout",
     "output_type": "stream",
     "text": [
      "  Batch 1000  of  5625.    Elapsed: 0:03:07.\n"
     ]
    },
    {
     "name": "stderr",
     "output_type": "stream",
     "text": [
      "Training:  19%|█▊        | 1041/5625 [03:14<14:14,  5.36it/s]"
     ]
    },
    {
     "name": "stdout",
     "output_type": "stream",
     "text": [
      "  Batch 1040  of  5625.    Elapsed: 0:03:14.\n"
     ]
    },
    {
     "name": "stderr",
     "output_type": "stream",
     "text": [
      "Training:  19%|█▉        | 1081/5625 [03:22<13:54,  5.44it/s]"
     ]
    },
    {
     "name": "stdout",
     "output_type": "stream",
     "text": [
      "  Batch 1080  of  5625.    Elapsed: 0:03:22.\n"
     ]
    },
    {
     "name": "stderr",
     "output_type": "stream",
     "text": [
      "Training:  20%|█▉        | 1121/5625 [03:29<13:55,  5.39it/s]"
     ]
    },
    {
     "name": "stdout",
     "output_type": "stream",
     "text": [
      "  Batch 1120  of  5625.    Elapsed: 0:03:29.\n"
     ]
    },
    {
     "name": "stderr",
     "output_type": "stream",
     "text": [
      "Training:  21%|██        | 1161/5625 [03:37<14:38,  5.08it/s]"
     ]
    },
    {
     "name": "stdout",
     "output_type": "stream",
     "text": [
      "  Batch 1160  of  5625.    Elapsed: 0:03:37.\n"
     ]
    },
    {
     "name": "stderr",
     "output_type": "stream",
     "text": [
      "Training:  21%|██▏       | 1201/5625 [03:44<14:28,  5.10it/s]"
     ]
    },
    {
     "name": "stdout",
     "output_type": "stream",
     "text": [
      "  Batch 1200  of  5625.    Elapsed: 0:03:45.\n"
     ]
    },
    {
     "name": "stderr",
     "output_type": "stream",
     "text": [
      "Training:  22%|██▏       | 1241/5625 [03:52<13:34,  5.38it/s]"
     ]
    },
    {
     "name": "stdout",
     "output_type": "stream",
     "text": [
      "  Batch 1240  of  5625.    Elapsed: 0:03:52.\n"
     ]
    },
    {
     "name": "stderr",
     "output_type": "stream",
     "text": [
      "Training:  23%|██▎       | 1281/5625 [03:59<13:47,  5.25it/s]"
     ]
    },
    {
     "name": "stdout",
     "output_type": "stream",
     "text": [
      "  Batch 1280  of  5625.    Elapsed: 0:04:00.\n"
     ]
    },
    {
     "name": "stderr",
     "output_type": "stream",
     "text": [
      "Training:  23%|██▎       | 1321/5625 [04:08<14:12,  5.05it/s]"
     ]
    },
    {
     "name": "stdout",
     "output_type": "stream",
     "text": [
      "  Batch 1320  of  5625.    Elapsed: 0:04:08.\n"
     ]
    },
    {
     "name": "stderr",
     "output_type": "stream",
     "text": [
      "Training:  24%|██▍       | 1361/5625 [04:15<13:08,  5.41it/s]"
     ]
    },
    {
     "name": "stdout",
     "output_type": "stream",
     "text": [
      "  Batch 1360  of  5625.    Elapsed: 0:04:16.\n"
     ]
    },
    {
     "name": "stderr",
     "output_type": "stream",
     "text": [
      "Training:  25%|██▍       | 1401/5625 [04:23<13:10,  5.34it/s]"
     ]
    },
    {
     "name": "stdout",
     "output_type": "stream",
     "text": [
      "  Batch 1400  of  5625.    Elapsed: 0:04:23.\n"
     ]
    },
    {
     "name": "stderr",
     "output_type": "stream",
     "text": [
      "Training:  26%|██▌       | 1441/5625 [04:30<12:40,  5.50it/s]"
     ]
    },
    {
     "name": "stdout",
     "output_type": "stream",
     "text": [
      "  Batch 1440  of  5625.    Elapsed: 0:04:30.\n"
     ]
    },
    {
     "name": "stderr",
     "output_type": "stream",
     "text": [
      "Training:  26%|██▋       | 1481/5625 [04:38<13:17,  5.20it/s]"
     ]
    },
    {
     "name": "stdout",
     "output_type": "stream",
     "text": [
      "  Batch 1480  of  5625.    Elapsed: 0:04:38.\n"
     ]
    },
    {
     "name": "stderr",
     "output_type": "stream",
     "text": [
      "Training:  27%|██▋       | 1520/5625 [04:45<14:00,  4.88it/s]"
     ]
    },
    {
     "name": "stdout",
     "output_type": "stream",
     "text": [
      "  Batch 1520  of  5625.    Elapsed: 0:04:46.\n"
     ]
    },
    {
     "name": "stderr",
     "output_type": "stream",
     "text": [
      "Training:  28%|██▊       | 1561/5625 [04:53<12:51,  5.27it/s]"
     ]
    },
    {
     "name": "stdout",
     "output_type": "stream",
     "text": [
      "  Batch 1560  of  5625.    Elapsed: 0:04:53.\n"
     ]
    },
    {
     "name": "stderr",
     "output_type": "stream",
     "text": [
      "Training:  28%|██▊       | 1601/5625 [05:00<12:24,  5.41it/s]"
     ]
    },
    {
     "name": "stdout",
     "output_type": "stream",
     "text": [
      "  Batch 1600  of  5625.    Elapsed: 0:05:01.\n"
     ]
    },
    {
     "name": "stderr",
     "output_type": "stream",
     "text": [
      "Training:  29%|██▉       | 1641/5625 [05:08<12:37,  5.26it/s]"
     ]
    },
    {
     "name": "stdout",
     "output_type": "stream",
     "text": [
      "  Batch 1640  of  5625.    Elapsed: 0:05:08.\n"
     ]
    },
    {
     "name": "stderr",
     "output_type": "stream",
     "text": [
      "Training:  30%|██▉       | 1681/5625 [05:15<12:04,  5.44it/s]"
     ]
    },
    {
     "name": "stdout",
     "output_type": "stream",
     "text": [
      "  Batch 1680  of  5625.    Elapsed: 0:05:16.\n"
     ]
    },
    {
     "name": "stderr",
     "output_type": "stream",
     "text": [
      "Training:  31%|███       | 1721/5625 [05:23<12:03,  5.40it/s]"
     ]
    },
    {
     "name": "stdout",
     "output_type": "stream",
     "text": [
      "  Batch 1720  of  5625.    Elapsed: 0:05:23.\n"
     ]
    },
    {
     "name": "stderr",
     "output_type": "stream",
     "text": [
      "Training:  31%|███▏      | 1761/5625 [05:30<11:58,  5.37it/s]"
     ]
    },
    {
     "name": "stdout",
     "output_type": "stream",
     "text": [
      "  Batch 1760  of  5625.    Elapsed: 0:05:30.\n"
     ]
    },
    {
     "name": "stderr",
     "output_type": "stream",
     "text": [
      "Training:  32%|███▏      | 1801/5625 [05:38<11:42,  5.44it/s]"
     ]
    },
    {
     "name": "stdout",
     "output_type": "stream",
     "text": [
      "  Batch 1800  of  5625.    Elapsed: 0:05:38.\n"
     ]
    },
    {
     "name": "stderr",
     "output_type": "stream",
     "text": [
      "Training:  33%|███▎      | 1841/5625 [05:45<11:37,  5.42it/s]"
     ]
    },
    {
     "name": "stdout",
     "output_type": "stream",
     "text": [
      "  Batch 1840  of  5625.    Elapsed: 0:05:45.\n"
     ]
    },
    {
     "name": "stderr",
     "output_type": "stream",
     "text": [
      "Training:  33%|███▎      | 1881/5625 [05:52<11:28,  5.44it/s]"
     ]
    },
    {
     "name": "stdout",
     "output_type": "stream",
     "text": [
      "  Batch 1880  of  5625.    Elapsed: 0:05:53.\n"
     ]
    },
    {
     "name": "stderr",
     "output_type": "stream",
     "text": [
      "Training:  34%|███▍      | 1921/5625 [06:00<11:13,  5.50it/s]"
     ]
    },
    {
     "name": "stdout",
     "output_type": "stream",
     "text": [
      "  Batch 1920  of  5625.    Elapsed: 0:06:00.\n"
     ]
    },
    {
     "name": "stderr",
     "output_type": "stream",
     "text": [
      "Training:  35%|███▍      | 1961/5625 [06:07<11:05,  5.50it/s]"
     ]
    },
    {
     "name": "stdout",
     "output_type": "stream",
     "text": [
      "  Batch 1960  of  5625.    Elapsed: 0:06:08.\n"
     ]
    },
    {
     "name": "stderr",
     "output_type": "stream",
     "text": [
      "Training:  36%|███▌      | 2001/5625 [06:15<11:20,  5.33it/s]"
     ]
    },
    {
     "name": "stdout",
     "output_type": "stream",
     "text": [
      "  Batch 2000  of  5625.    Elapsed: 0:06:15.\n"
     ]
    },
    {
     "name": "stderr",
     "output_type": "stream",
     "text": [
      "Training:  36%|███▋      | 2041/5625 [06:22<11:06,  5.37it/s]"
     ]
    },
    {
     "name": "stdout",
     "output_type": "stream",
     "text": [
      "  Batch 2040  of  5625.    Elapsed: 0:06:23.\n"
     ]
    },
    {
     "name": "stderr",
     "output_type": "stream",
     "text": [
      "Training:  37%|███▋      | 2081/5625 [06:30<11:26,  5.16it/s]"
     ]
    },
    {
     "name": "stdout",
     "output_type": "stream",
     "text": [
      "  Batch 2080  of  5625.    Elapsed: 0:06:30.\n"
     ]
    },
    {
     "name": "stderr",
     "output_type": "stream",
     "text": [
      "Training:  38%|███▊      | 2121/5625 [06:37<11:03,  5.28it/s]"
     ]
    },
    {
     "name": "stdout",
     "output_type": "stream",
     "text": [
      "  Batch 2120  of  5625.    Elapsed: 0:06:38.\n"
     ]
    },
    {
     "name": "stderr",
     "output_type": "stream",
     "text": [
      "Training:  38%|███▊      | 2160/5625 [06:45<11:55,  4.84it/s]"
     ]
    },
    {
     "name": "stdout",
     "output_type": "stream",
     "text": [
      "  Batch 2160  of  5625.    Elapsed: 0:06:46.\n"
     ]
    },
    {
     "name": "stderr",
     "output_type": "stream",
     "text": [
      "Training:  39%|███▉      | 2201/5625 [06:53<10:30,  5.43it/s]"
     ]
    },
    {
     "name": "stdout",
     "output_type": "stream",
     "text": [
      "  Batch 2200  of  5625.    Elapsed: 0:06:53.\n"
     ]
    },
    {
     "name": "stderr",
     "output_type": "stream",
     "text": [
      "Training:  40%|███▉      | 2241/5625 [07:00<10:56,  5.16it/s]"
     ]
    },
    {
     "name": "stdout",
     "output_type": "stream",
     "text": [
      "  Batch 2240  of  5625.    Elapsed: 0:07:01.\n"
     ]
    },
    {
     "name": "stderr",
     "output_type": "stream",
     "text": [
      "Training:  41%|████      | 2281/5625 [07:08<10:20,  5.39it/s]"
     ]
    },
    {
     "name": "stdout",
     "output_type": "stream",
     "text": [
      "  Batch 2280  of  5625.    Elapsed: 0:07:08.\n"
     ]
    },
    {
     "name": "stderr",
     "output_type": "stream",
     "text": [
      "Training:  41%|████▏     | 2321/5625 [07:15<10:30,  5.24it/s]"
     ]
    },
    {
     "name": "stdout",
     "output_type": "stream",
     "text": [
      "  Batch 2320  of  5625.    Elapsed: 0:07:16.\n"
     ]
    },
    {
     "name": "stderr",
     "output_type": "stream",
     "text": [
      "Training:  42%|████▏     | 2361/5625 [07:23<10:04,  5.40it/s]"
     ]
    },
    {
     "name": "stdout",
     "output_type": "stream",
     "text": [
      "  Batch 2360  of  5625.    Elapsed: 0:07:23.\n"
     ]
    },
    {
     "name": "stderr",
     "output_type": "stream",
     "text": [
      "Training:  43%|████▎     | 2401/5625 [07:30<10:03,  5.35it/s]"
     ]
    },
    {
     "name": "stdout",
     "output_type": "stream",
     "text": [
      "  Batch 2400  of  5625.    Elapsed: 0:07:31.\n"
     ]
    },
    {
     "name": "stderr",
     "output_type": "stream",
     "text": [
      "Training:  43%|████▎     | 2441/5625 [07:38<09:52,  5.38it/s]"
     ]
    },
    {
     "name": "stdout",
     "output_type": "stream",
     "text": [
      "  Batch 2440  of  5625.    Elapsed: 0:07:38.\n"
     ]
    },
    {
     "name": "stderr",
     "output_type": "stream",
     "text": [
      "Training:  44%|████▍     | 2481/5625 [07:45<09:40,  5.41it/s]"
     ]
    },
    {
     "name": "stdout",
     "output_type": "stream",
     "text": [
      "  Batch 2480  of  5625.    Elapsed: 0:07:45.\n"
     ]
    },
    {
     "name": "stderr",
     "output_type": "stream",
     "text": [
      "Training:  45%|████▍     | 2521/5625 [07:53<09:38,  5.36it/s]"
     ]
    },
    {
     "name": "stdout",
     "output_type": "stream",
     "text": [
      "  Batch 2520  of  5625.    Elapsed: 0:07:53.\n"
     ]
    },
    {
     "name": "stderr",
     "output_type": "stream",
     "text": [
      "Training:  46%|████▌     | 2561/5625 [08:00<09:29,  5.38it/s]"
     ]
    },
    {
     "name": "stdout",
     "output_type": "stream",
     "text": [
      "  Batch 2560  of  5625.    Elapsed: 0:08:00.\n"
     ]
    },
    {
     "name": "stderr",
     "output_type": "stream",
     "text": [
      "Training:  46%|████▌     | 2601/5625 [08:08<09:29,  5.31it/s]"
     ]
    },
    {
     "name": "stdout",
     "output_type": "stream",
     "text": [
      "  Batch 2600  of  5625.    Elapsed: 0:08:08.\n"
     ]
    },
    {
     "name": "stderr",
     "output_type": "stream",
     "text": [
      "Training:  47%|████▋     | 2641/5625 [08:15<09:11,  5.41it/s]"
     ]
    },
    {
     "name": "stdout",
     "output_type": "stream",
     "text": [
      "  Batch 2640  of  5625.    Elapsed: 0:08:15.\n"
     ]
    },
    {
     "name": "stderr",
     "output_type": "stream",
     "text": [
      "Training:  48%|████▊     | 2681/5625 [08:22<09:11,  5.34it/s]"
     ]
    },
    {
     "name": "stdout",
     "output_type": "stream",
     "text": [
      "  Batch 2680  of  5625.    Elapsed: 0:08:23.\n"
     ]
    },
    {
     "name": "stderr",
     "output_type": "stream",
     "text": [
      "Training:  48%|████▊     | 2721/5625 [08:30<08:58,  5.39it/s]"
     ]
    },
    {
     "name": "stdout",
     "output_type": "stream",
     "text": [
      "  Batch 2720  of  5625.    Elapsed: 0:08:30.\n"
     ]
    },
    {
     "name": "stderr",
     "output_type": "stream",
     "text": [
      "Training:  49%|████▉     | 2760/5625 [08:37<09:01,  5.29it/s]"
     ]
    },
    {
     "name": "stdout",
     "output_type": "stream",
     "text": [
      "  Batch 2760  of  5625.    Elapsed: 0:08:38.\n"
     ]
    },
    {
     "name": "stderr",
     "output_type": "stream",
     "text": [
      "Training:  50%|████▉     | 2800/5625 [08:45<09:10,  5.13it/s]"
     ]
    },
    {
     "name": "stdout",
     "output_type": "stream",
     "text": [
      "  Batch 2800  of  5625.    Elapsed: 0:08:45.\n"
     ]
    },
    {
     "name": "stderr",
     "output_type": "stream",
     "text": [
      "Training:  51%|█████     | 2841/5625 [08:53<08:49,  5.26it/s]"
     ]
    },
    {
     "name": "stdout",
     "output_type": "stream",
     "text": [
      "  Batch 2840  of  5625.    Elapsed: 0:08:53.\n"
     ]
    },
    {
     "name": "stderr",
     "output_type": "stream",
     "text": [
      "Training:  51%|█████     | 2881/5625 [09:00<08:23,  5.45it/s]"
     ]
    },
    {
     "name": "stdout",
     "output_type": "stream",
     "text": [
      "  Batch 2880  of  5625.    Elapsed: 0:09:00.\n"
     ]
    },
    {
     "name": "stderr",
     "output_type": "stream",
     "text": [
      "Training:  52%|█████▏    | 2921/5625 [09:07<08:28,  5.31it/s]"
     ]
    },
    {
     "name": "stdout",
     "output_type": "stream",
     "text": [
      "  Batch 2920  of  5625.    Elapsed: 0:09:08.\n"
     ]
    },
    {
     "name": "stderr",
     "output_type": "stream",
     "text": [
      "Training:  53%|█████▎    | 2961/5625 [09:15<08:12,  5.41it/s]"
     ]
    },
    {
     "name": "stdout",
     "output_type": "stream",
     "text": [
      "  Batch 2960  of  5625.    Elapsed: 0:09:15.\n"
     ]
    },
    {
     "name": "stderr",
     "output_type": "stream",
     "text": [
      "Training:  53%|█████▎    | 3001/5625 [09:22<08:10,  5.34it/s]"
     ]
    },
    {
     "name": "stdout",
     "output_type": "stream",
     "text": [
      "  Batch 3000  of  5625.    Elapsed: 0:09:23.\n"
     ]
    },
    {
     "name": "stderr",
     "output_type": "stream",
     "text": [
      "Training:  54%|█████▍    | 3041/5625 [09:30<07:55,  5.43it/s]"
     ]
    },
    {
     "name": "stdout",
     "output_type": "stream",
     "text": [
      "  Batch 3040  of  5625.    Elapsed: 0:09:30.\n"
     ]
    },
    {
     "name": "stderr",
     "output_type": "stream",
     "text": [
      "Training:  55%|█████▍    | 3081/5625 [09:37<07:51,  5.39it/s]"
     ]
    },
    {
     "name": "stdout",
     "output_type": "stream",
     "text": [
      "  Batch 3080  of  5625.    Elapsed: 0:09:38.\n"
     ]
    },
    {
     "name": "stderr",
     "output_type": "stream",
     "text": [
      "Training:  55%|█████▌    | 3121/5625 [09:45<07:43,  5.40it/s]"
     ]
    },
    {
     "name": "stdout",
     "output_type": "stream",
     "text": [
      "  Batch 3120  of  5625.    Elapsed: 0:09:45.\n"
     ]
    },
    {
     "name": "stderr",
     "output_type": "stream",
     "text": [
      "Training:  56%|█████▌    | 3161/5625 [09:52<07:35,  5.41it/s]"
     ]
    },
    {
     "name": "stdout",
     "output_type": "stream",
     "text": [
      "  Batch 3160  of  5625.    Elapsed: 0:09:52.\n"
     ]
    },
    {
     "name": "stderr",
     "output_type": "stream",
     "text": [
      "Training:  57%|█████▋    | 3201/5625 [10:00<07:34,  5.34it/s]"
     ]
    },
    {
     "name": "stdout",
     "output_type": "stream",
     "text": [
      "  Batch 3200  of  5625.    Elapsed: 0:10:00.\n"
     ]
    },
    {
     "name": "stderr",
     "output_type": "stream",
     "text": [
      "Training:  58%|█████▊    | 3241/5625 [10:07<07:25,  5.35it/s]"
     ]
    },
    {
     "name": "stdout",
     "output_type": "stream",
     "text": [
      "  Batch 3240  of  5625.    Elapsed: 0:10:07.\n"
     ]
    },
    {
     "name": "stderr",
     "output_type": "stream",
     "text": [
      "Training:  58%|█████▊    | 3281/5625 [10:14<07:21,  5.31it/s]"
     ]
    },
    {
     "name": "stdout",
     "output_type": "stream",
     "text": [
      "  Batch 3280  of  5625.    Elapsed: 0:10:15.\n"
     ]
    },
    {
     "name": "stderr",
     "output_type": "stream",
     "text": [
      "Training:  59%|█████▉    | 3321/5625 [10:22<07:09,  5.37it/s]"
     ]
    },
    {
     "name": "stdout",
     "output_type": "stream",
     "text": [
      "  Batch 3320  of  5625.    Elapsed: 0:10:22.\n"
     ]
    },
    {
     "name": "stderr",
     "output_type": "stream",
     "text": [
      "Training:  60%|█████▉    | 3361/5625 [10:29<07:10,  5.26it/s]"
     ]
    },
    {
     "name": "stdout",
     "output_type": "stream",
     "text": [
      "  Batch 3360  of  5625.    Elapsed: 0:10:30.\n"
     ]
    },
    {
     "name": "stderr",
     "output_type": "stream",
     "text": [
      "Training:  60%|██████    | 3401/5625 [10:37<06:50,  5.42it/s]"
     ]
    },
    {
     "name": "stdout",
     "output_type": "stream",
     "text": [
      "  Batch 3400  of  5625.    Elapsed: 0:10:37.\n"
     ]
    },
    {
     "name": "stderr",
     "output_type": "stream",
     "text": [
      "Training:  61%|██████    | 3441/5625 [10:44<07:21,  4.95it/s]"
     ]
    },
    {
     "name": "stdout",
     "output_type": "stream",
     "text": [
      "  Batch 3440  of  5625.    Elapsed: 0:10:45.\n"
     ]
    },
    {
     "name": "stderr",
     "output_type": "stream",
     "text": [
      "Training:  62%|██████▏   | 3481/5625 [10:52<06:39,  5.37it/s]"
     ]
    },
    {
     "name": "stdout",
     "output_type": "stream",
     "text": [
      "  Batch 3480  of  5625.    Elapsed: 0:10:53.\n"
     ]
    },
    {
     "name": "stderr",
     "output_type": "stream",
     "text": [
      "Training:  63%|██████▎   | 3521/5625 [11:00<06:37,  5.29it/s]"
     ]
    },
    {
     "name": "stdout",
     "output_type": "stream",
     "text": [
      "  Batch 3520  of  5625.    Elapsed: 0:11:00.\n"
     ]
    },
    {
     "name": "stderr",
     "output_type": "stream",
     "text": [
      "Training:  63%|██████▎   | 3560/5625 [11:07<06:17,  5.47it/s]"
     ]
    },
    {
     "name": "stdout",
     "output_type": "stream",
     "text": [
      "  Batch 3560  of  5625.    Elapsed: 0:11:07.\n"
     ]
    },
    {
     "name": "stderr",
     "output_type": "stream",
     "text": [
      "Training:  64%|██████▍   | 3601/5625 [11:14<06:14,  5.40it/s]"
     ]
    },
    {
     "name": "stdout",
     "output_type": "stream",
     "text": [
      "  Batch 3600  of  5625.    Elapsed: 0:11:15.\n"
     ]
    },
    {
     "name": "stderr",
     "output_type": "stream",
     "text": [
      "Training:  65%|██████▍   | 3641/5625 [11:22<06:07,  5.41it/s]"
     ]
    },
    {
     "name": "stdout",
     "output_type": "stream",
     "text": [
      "  Batch 3640  of  5625.    Elapsed: 0:11:22.\n"
     ]
    },
    {
     "name": "stderr",
     "output_type": "stream",
     "text": [
      "Training:  65%|██████▌   | 3681/5625 [11:29<06:03,  5.34it/s]"
     ]
    },
    {
     "name": "stdout",
     "output_type": "stream",
     "text": [
      "  Batch 3680  of  5625.    Elapsed: 0:11:30.\n"
     ]
    },
    {
     "name": "stderr",
     "output_type": "stream",
     "text": [
      "Training:  66%|██████▌   | 3721/5625 [11:37<05:55,  5.36it/s]"
     ]
    },
    {
     "name": "stdout",
     "output_type": "stream",
     "text": [
      "  Batch 3720  of  5625.    Elapsed: 0:11:37.\n"
     ]
    },
    {
     "name": "stderr",
     "output_type": "stream",
     "text": [
      "Training:  67%|██████▋   | 3761/5625 [11:44<05:43,  5.43it/s]"
     ]
    },
    {
     "name": "stdout",
     "output_type": "stream",
     "text": [
      "  Batch 3760  of  5625.    Elapsed: 0:11:45.\n"
     ]
    },
    {
     "name": "stderr",
     "output_type": "stream",
     "text": [
      "Training:  68%|██████▊   | 3801/5625 [11:52<05:40,  5.36it/s]"
     ]
    },
    {
     "name": "stdout",
     "output_type": "stream",
     "text": [
      "  Batch 3800  of  5625.    Elapsed: 0:11:52.\n"
     ]
    },
    {
     "name": "stderr",
     "output_type": "stream",
     "text": [
      "Training:  68%|██████▊   | 3841/5625 [11:59<05:31,  5.39it/s]"
     ]
    },
    {
     "name": "stdout",
     "output_type": "stream",
     "text": [
      "  Batch 3840  of  5625.    Elapsed: 0:12:00.\n"
     ]
    },
    {
     "name": "stderr",
     "output_type": "stream",
     "text": [
      "Training:  69%|██████▉   | 3881/5625 [12:07<05:27,  5.32it/s]"
     ]
    },
    {
     "name": "stdout",
     "output_type": "stream",
     "text": [
      "  Batch 3880  of  5625.    Elapsed: 0:12:07.\n"
     ]
    },
    {
     "name": "stderr",
     "output_type": "stream",
     "text": [
      "Training:  70%|██████▉   | 3921/5625 [12:14<05:13,  5.44it/s]"
     ]
    },
    {
     "name": "stdout",
     "output_type": "stream",
     "text": [
      "  Batch 3920  of  5625.    Elapsed: 0:12:15.\n"
     ]
    },
    {
     "name": "stderr",
     "output_type": "stream",
     "text": [
      "Training:  70%|███████   | 3961/5625 [12:22<05:21,  5.17it/s]"
     ]
    },
    {
     "name": "stdout",
     "output_type": "stream",
     "text": [
      "  Batch 3960  of  5625.    Elapsed: 0:12:22.\n"
     ]
    },
    {
     "name": "stderr",
     "output_type": "stream",
     "text": [
      "Training:  71%|███████   | 4001/5625 [12:29<05:01,  5.39it/s]"
     ]
    },
    {
     "name": "stdout",
     "output_type": "stream",
     "text": [
      "  Batch 4000  of  5625.    Elapsed: 0:12:29.\n"
     ]
    },
    {
     "name": "stderr",
     "output_type": "stream",
     "text": [
      "Training:  72%|███████▏  | 4041/5625 [12:37<05:01,  5.26it/s]"
     ]
    },
    {
     "name": "stdout",
     "output_type": "stream",
     "text": [
      "  Batch 4040  of  5625.    Elapsed: 0:12:37.\n"
     ]
    },
    {
     "name": "stderr",
     "output_type": "stream",
     "text": [
      "Training:  73%|███████▎  | 4081/5625 [12:44<05:16,  4.88it/s]"
     ]
    },
    {
     "name": "stdout",
     "output_type": "stream",
     "text": [
      "  Batch 4080  of  5625.    Elapsed: 0:12:45.\n"
     ]
    },
    {
     "name": "stderr",
     "output_type": "stream",
     "text": [
      "Training:  73%|███████▎  | 4121/5625 [12:52<04:42,  5.32it/s]"
     ]
    },
    {
     "name": "stdout",
     "output_type": "stream",
     "text": [
      "  Batch 4120  of  5625.    Elapsed: 0:12:52.\n"
     ]
    },
    {
     "name": "stderr",
     "output_type": "stream",
     "text": [
      "Training:  74%|███████▍  | 4161/5625 [12:59<04:31,  5.39it/s]"
     ]
    },
    {
     "name": "stdout",
     "output_type": "stream",
     "text": [
      "  Batch 4160  of  5625.    Elapsed: 0:13:00.\n"
     ]
    },
    {
     "name": "stderr",
     "output_type": "stream",
     "text": [
      "Training:  75%|███████▍  | 4201/5625 [13:07<04:26,  5.33it/s]"
     ]
    },
    {
     "name": "stdout",
     "output_type": "stream",
     "text": [
      "  Batch 4200  of  5625.    Elapsed: 0:13:07.\n"
     ]
    },
    {
     "name": "stderr",
     "output_type": "stream",
     "text": [
      "Training:  75%|███████▌  | 4241/5625 [13:14<04:17,  5.38it/s]"
     ]
    },
    {
     "name": "stdout",
     "output_type": "stream",
     "text": [
      "  Batch 4240  of  5625.    Elapsed: 0:13:15.\n"
     ]
    },
    {
     "name": "stderr",
     "output_type": "stream",
     "text": [
      "Training:  76%|███████▌  | 4281/5625 [13:22<04:08,  5.40it/s]"
     ]
    },
    {
     "name": "stdout",
     "output_type": "stream",
     "text": [
      "  Batch 4280  of  5625.    Elapsed: 0:13:22.\n"
     ]
    },
    {
     "name": "stderr",
     "output_type": "stream",
     "text": [
      "Training:  77%|███████▋  | 4321/5625 [13:29<04:02,  5.38it/s]"
     ]
    },
    {
     "name": "stdout",
     "output_type": "stream",
     "text": [
      "  Batch 4320  of  5625.    Elapsed: 0:13:30.\n"
     ]
    },
    {
     "name": "stderr",
     "output_type": "stream",
     "text": [
      "Training:  78%|███████▊  | 4361/5625 [13:37<03:53,  5.42it/s]"
     ]
    },
    {
     "name": "stdout",
     "output_type": "stream",
     "text": [
      "  Batch 4360  of  5625.    Elapsed: 0:13:37.\n"
     ]
    },
    {
     "name": "stderr",
     "output_type": "stream",
     "text": [
      "Training:  78%|███████▊  | 4401/5625 [13:44<03:49,  5.34it/s]"
     ]
    },
    {
     "name": "stdout",
     "output_type": "stream",
     "text": [
      "  Batch 4400  of  5625.    Elapsed: 0:13:44.\n"
     ]
    },
    {
     "name": "stderr",
     "output_type": "stream",
     "text": [
      "Training:  79%|███████▉  | 4441/5625 [13:51<03:34,  5.52it/s]"
     ]
    },
    {
     "name": "stdout",
     "output_type": "stream",
     "text": [
      "  Batch 4440  of  5625.    Elapsed: 0:13:52.\n"
     ]
    },
    {
     "name": "stderr",
     "output_type": "stream",
     "text": [
      "Training:  80%|███████▉  | 4481/5625 [13:59<03:35,  5.31it/s]"
     ]
    },
    {
     "name": "stdout",
     "output_type": "stream",
     "text": [
      "  Batch 4480  of  5625.    Elapsed: 0:13:59.\n"
     ]
    },
    {
     "name": "stderr",
     "output_type": "stream",
     "text": [
      "Training:  80%|████████  | 4521/5625 [14:06<03:23,  5.42it/s]"
     ]
    },
    {
     "name": "stdout",
     "output_type": "stream",
     "text": [
      "  Batch 4520  of  5625.    Elapsed: 0:14:07.\n"
     ]
    },
    {
     "name": "stderr",
     "output_type": "stream",
     "text": [
      "Training:  81%|████████  | 4561/5625 [14:14<03:25,  5.18it/s]"
     ]
    },
    {
     "name": "stdout",
     "output_type": "stream",
     "text": [
      "  Batch 4560  of  5625.    Elapsed: 0:14:14.\n"
     ]
    },
    {
     "name": "stderr",
     "output_type": "stream",
     "text": [
      "Training:  82%|████████▏ | 4601/5625 [14:21<03:10,  5.38it/s]"
     ]
    },
    {
     "name": "stdout",
     "output_type": "stream",
     "text": [
      "  Batch 4600  of  5625.    Elapsed: 0:14:22.\n"
     ]
    },
    {
     "name": "stderr",
     "output_type": "stream",
     "text": [
      "Training:  83%|████████▎ | 4641/5625 [14:29<03:06,  5.28it/s]"
     ]
    },
    {
     "name": "stdout",
     "output_type": "stream",
     "text": [
      "  Batch 4640  of  5625.    Elapsed: 0:14:29.\n"
     ]
    },
    {
     "name": "stderr",
     "output_type": "stream",
     "text": [
      "Training:  83%|████████▎ | 4681/5625 [14:36<02:55,  5.39it/s]"
     ]
    },
    {
     "name": "stdout",
     "output_type": "stream",
     "text": [
      "  Batch 4680  of  5625.    Elapsed: 0:14:37.\n"
     ]
    },
    {
     "name": "stderr",
     "output_type": "stream",
     "text": [
      "Training:  84%|████████▍ | 4720/5625 [14:44<03:13,  4.67it/s]"
     ]
    },
    {
     "name": "stdout",
     "output_type": "stream",
     "text": [
      "  Batch 4720  of  5625.    Elapsed: 0:14:44.\n"
     ]
    },
    {
     "name": "stderr",
     "output_type": "stream",
     "text": [
      "Training:  85%|████████▍ | 4761/5625 [14:52<02:41,  5.35it/s]"
     ]
    },
    {
     "name": "stdout",
     "output_type": "stream",
     "text": [
      "  Batch 4760  of  5625.    Elapsed: 0:14:52.\n"
     ]
    },
    {
     "name": "stderr",
     "output_type": "stream",
     "text": [
      "Training:  85%|████████▌ | 4801/5625 [14:59<02:33,  5.37it/s]"
     ]
    },
    {
     "name": "stdout",
     "output_type": "stream",
     "text": [
      "  Batch 4800  of  5625.    Elapsed: 0:14:59.\n"
     ]
    },
    {
     "name": "stderr",
     "output_type": "stream",
     "text": [
      "Training:  86%|████████▌ | 4841/5625 [15:07<02:23,  5.45it/s]"
     ]
    },
    {
     "name": "stdout",
     "output_type": "stream",
     "text": [
      "  Batch 4840  of  5625.    Elapsed: 0:15:07.\n"
     ]
    },
    {
     "name": "stderr",
     "output_type": "stream",
     "text": [
      "Training:  87%|████████▋ | 4881/5625 [15:14<02:16,  5.46it/s]"
     ]
    },
    {
     "name": "stdout",
     "output_type": "stream",
     "text": [
      "  Batch 4880  of  5625.    Elapsed: 0:15:14.\n"
     ]
    },
    {
     "name": "stderr",
     "output_type": "stream",
     "text": [
      "Training:  87%|████████▋ | 4921/5625 [15:21<02:10,  5.39it/s]"
     ]
    },
    {
     "name": "stdout",
     "output_type": "stream",
     "text": [
      "  Batch 4920  of  5625.    Elapsed: 0:15:22.\n"
     ]
    },
    {
     "name": "stderr",
     "output_type": "stream",
     "text": [
      "Training:  88%|████████▊ | 4961/5625 [15:29<02:01,  5.48it/s]"
     ]
    },
    {
     "name": "stdout",
     "output_type": "stream",
     "text": [
      "  Batch 4960  of  5625.    Elapsed: 0:15:29.\n"
     ]
    },
    {
     "name": "stderr",
     "output_type": "stream",
     "text": [
      "Training:  89%|████████▉ | 5001/5625 [15:36<01:54,  5.46it/s]"
     ]
    },
    {
     "name": "stdout",
     "output_type": "stream",
     "text": [
      "  Batch 5000  of  5625.    Elapsed: 0:15:37.\n"
     ]
    },
    {
     "name": "stderr",
     "output_type": "stream",
     "text": [
      "Training:  90%|████████▉ | 5041/5625 [15:44<01:54,  5.11it/s]"
     ]
    },
    {
     "name": "stdout",
     "output_type": "stream",
     "text": [
      "  Batch 5040  of  5625.    Elapsed: 0:15:44.\n"
     ]
    },
    {
     "name": "stderr",
     "output_type": "stream",
     "text": [
      "Training:  90%|█████████ | 5081/5625 [15:52<01:42,  5.32it/s]"
     ]
    },
    {
     "name": "stdout",
     "output_type": "stream",
     "text": [
      "  Batch 5080  of  5625.    Elapsed: 0:15:52.\n"
     ]
    },
    {
     "name": "stderr",
     "output_type": "stream",
     "text": [
      "Training:  91%|█████████ | 5121/5625 [15:59<01:33,  5.40it/s]"
     ]
    },
    {
     "name": "stdout",
     "output_type": "stream",
     "text": [
      "  Batch 5120  of  5625.    Elapsed: 0:15:59.\n"
     ]
    },
    {
     "name": "stderr",
     "output_type": "stream",
     "text": [
      "Training:  92%|█████████▏| 5161/5625 [16:07<01:27,  5.30it/s]"
     ]
    },
    {
     "name": "stdout",
     "output_type": "stream",
     "text": [
      "  Batch 5160  of  5625.    Elapsed: 0:16:07.\n"
     ]
    },
    {
     "name": "stderr",
     "output_type": "stream",
     "text": [
      "Training:  92%|█████████▏| 5201/5625 [16:14<01:18,  5.43it/s]"
     ]
    },
    {
     "name": "stdout",
     "output_type": "stream",
     "text": [
      "  Batch 5200  of  5625.    Elapsed: 0:16:14.\n"
     ]
    },
    {
     "name": "stderr",
     "output_type": "stream",
     "text": [
      "Training:  93%|█████████▎| 5241/5625 [16:22<01:13,  5.26it/s]"
     ]
    },
    {
     "name": "stdout",
     "output_type": "stream",
     "text": [
      "  Batch 5240  of  5625.    Elapsed: 0:16:22.\n"
     ]
    },
    {
     "name": "stderr",
     "output_type": "stream",
     "text": [
      "Training:  94%|█████████▍| 5281/5625 [16:29<01:03,  5.40it/s]"
     ]
    },
    {
     "name": "stdout",
     "output_type": "stream",
     "text": [
      "  Batch 5280  of  5625.    Elapsed: 0:16:29.\n"
     ]
    },
    {
     "name": "stderr",
     "output_type": "stream",
     "text": [
      "Training:  95%|█████████▍| 5321/5625 [16:36<00:57,  5.29it/s]"
     ]
    },
    {
     "name": "stdout",
     "output_type": "stream",
     "text": [
      "  Batch 5320  of  5625.    Elapsed: 0:16:37.\n"
     ]
    },
    {
     "name": "stderr",
     "output_type": "stream",
     "text": [
      "Training:  95%|█████████▌| 5361/5625 [16:44<00:53,  4.89it/s]"
     ]
    },
    {
     "name": "stdout",
     "output_type": "stream",
     "text": [
      "  Batch 5360  of  5625.    Elapsed: 0:16:44.\n"
     ]
    },
    {
     "name": "stderr",
     "output_type": "stream",
     "text": [
      "Training:  96%|█████████▌| 5401/5625 [16:52<00:42,  5.30it/s]"
     ]
    },
    {
     "name": "stdout",
     "output_type": "stream",
     "text": [
      "  Batch 5400  of  5625.    Elapsed: 0:16:52.\n"
     ]
    },
    {
     "name": "stderr",
     "output_type": "stream",
     "text": [
      "Training:  97%|█████████▋| 5441/5625 [16:59<00:33,  5.47it/s]"
     ]
    },
    {
     "name": "stdout",
     "output_type": "stream",
     "text": [
      "  Batch 5440  of  5625.    Elapsed: 0:17:00.\n"
     ]
    },
    {
     "name": "stderr",
     "output_type": "stream",
     "text": [
      "Training:  97%|█████████▋| 5481/5625 [17:07<00:26,  5.40it/s]"
     ]
    },
    {
     "name": "stdout",
     "output_type": "stream",
     "text": [
      "  Batch 5480  of  5625.    Elapsed: 0:17:07.\n"
     ]
    },
    {
     "name": "stderr",
     "output_type": "stream",
     "text": [
      "Training:  98%|█████████▊| 5521/5625 [17:14<00:19,  5.38it/s]"
     ]
    },
    {
     "name": "stdout",
     "output_type": "stream",
     "text": [
      "  Batch 5520  of  5625.    Elapsed: 0:17:14.\n"
     ]
    },
    {
     "name": "stderr",
     "output_type": "stream",
     "text": [
      "Training:  99%|█████████▉| 5561/5625 [17:21<00:11,  5.44it/s]"
     ]
    },
    {
     "name": "stdout",
     "output_type": "stream",
     "text": [
      "  Batch 5560  of  5625.    Elapsed: 0:17:22.\n"
     ]
    },
    {
     "name": "stderr",
     "output_type": "stream",
     "text": [
      "Training: 100%|█████████▉| 5601/5625 [17:29<00:04,  5.40it/s]"
     ]
    },
    {
     "name": "stdout",
     "output_type": "stream",
     "text": [
      "  Batch 5600  of  5625.    Elapsed: 0:17:29.\n"
     ]
    },
    {
     "name": "stderr",
     "output_type": "stream",
     "text": [
      "Training: 100%|██████████| 5625/5625 [17:33<00:00,  5.34it/s]\n"
     ]
    },
    {
     "name": "stdout",
     "output_type": "stream",
     "text": [
      "\n",
      "  Average training loss: 0.24\n",
      "  Training epoch took: 0:17:34\n",
      "\n",
      "Running Validation...\n"
     ]
    },
    {
     "name": "stderr",
     "output_type": "stream",
     "text": [
      "Validation: 100%|██████████| 625/625 [00:44<00:00, 14.04it/s]"
     ]
    },
    {
     "name": "stdout",
     "output_type": "stream",
     "text": [
      "  Accuracy: 0.74\n",
      "  Validation Loss: 0.73\n",
      "  Validation took: 0:00:45\n",
      "\n",
      "Training complete!\n",
      "Total training took 1:31:19\n"
     ]
    },
    {
     "name": "stderr",
     "output_type": "stream",
     "text": [
      "\n"
     ]
    }
   ],
   "source": [
    "def format_time(elapsed):\n",
    "    return str(datetime.timedelta(seconds=int(round(elapsed))))\n",
    "\n",
    "def flat_accuracy(preds, labels):\n",
    "    pred_flat = np.argmax(preds, axis=1).flatten()\n",
    "    labels_flat = labels.flatten()\n",
    "    return np.sum(pred_flat == labels_flat) / len(labels_flat)\n",
    "\n",
    "total_t0 = time.time()\n",
    "\n",
    "for epoch_i in range(0, epochs):\n",
    "    print(f'======== Epoch {epoch_i + 1} / {epochs} ========')\n",
    "    print('Training...')\n",
    "\n",
    "    t0 = time.time()\n",
    "    total_train_loss = 0\n",
    "    model.train()\n",
    "\n",
    "    # Aggiunta di tqdm per la barra di progresso durante il training\n",
    "    for step, batch in enumerate(tqdm(train_dataloader, desc=\"Training\")):\n",
    "        if step % 40 == 0 and not step == 0:\n",
    "            elapsed = format_time(time.time() - t0)\n",
    "            print(f'  Batch {step}  of  {len(train_dataloader)}.    Elapsed: {elapsed}.')\n",
    "\n",
    "        b_input_ids = batch[0].to(device)\n",
    "        b_input_mask = batch[1].to(device)\n",
    "        b_labels = batch[2].to(device)\n",
    "\n",
    "        model.zero_grad()        \n",
    "\n",
    "        outputs = model(b_input_ids,  \n",
    "                        attention_mask=b_input_mask, \n",
    "                        labels=b_labels)\n",
    "        \n",
    "        loss = outputs.loss\n",
    "        total_train_loss += loss.item()\n",
    "\n",
    "        loss.backward()\n",
    "        torch.nn.utils.clip_grad_norm_(model.parameters(), 1.0)\n",
    "        optimizer.step()\n",
    "        scheduler.step()\n",
    "\n",
    "    avg_train_loss = total_train_loss / len(train_dataloader)            \n",
    "    training_time = format_time(time.time() - t0)\n",
    "\n",
    "    print(f\"\\n  Average training loss: {avg_train_loss:.2f}\")\n",
    "    print(f\"  Training epoch took: {training_time}\")\n",
    "        \n",
    "    print(\"\\nRunning Validation...\")\n",
    "\n",
    "    t0 = time.time()\n",
    "    model.eval()\n",
    "\n",
    "    total_eval_accuracy = 0\n",
    "    total_eval_loss = 0\n",
    "\n",
    "    # Aggiunta di tqdm per la barra di progresso durante la validazione\n",
    "    for batch in tqdm(validation_dataloader, desc=\"Validation\"):\n",
    "        b_input_ids = batch[0].to(device)\n",
    "        b_input_mask = batch[1].to(device)\n",
    "        b_labels = batch[2].to(device)\n",
    "        \n",
    "        with torch.no_grad():        \n",
    "            outputs = model(b_input_ids, \n",
    "                            attention_mask=b_input_mask,\n",
    "                            labels=b_labels)\n",
    "            \n",
    "        loss = outputs.loss\n",
    "        logits = outputs.logits\n",
    "        \n",
    "        total_eval_loss += loss.item()\n",
    "\n",
    "        logits = logits.detach().cpu().numpy()\n",
    "        label_ids = b_labels.to('cpu').numpy()\n",
    "        \n",
    "        total_eval_accuracy += flat_accuracy(logits, label_ids)\n",
    "        \n",
    "    avg_val_accuracy = total_eval_accuracy / len(validation_dataloader)\n",
    "    print(f\"  Accuracy: {avg_val_accuracy:.2f}\")\n",
    "\n",
    "    avg_val_loss = total_eval_loss / len(validation_dataloader)\n",
    "    \n",
    "    validation_time = format_time(time.time() - t0)\n",
    "    \n",
    "    print(f\"  Validation Loss: {avg_val_loss:.2f}\")\n",
    "    print(f\"  Validation took: {validation_time}\")\n",
    "\n",
    "print(\"\")\n",
    "print(\"Training complete!\")\n",
    "print(f\"Total training took {format_time(time.time()-total_t0)}\")"
   ]
  },
  {
   "cell_type": "code",
   "execution_count": 14,
   "id": "54995612",
   "metadata": {},
   "outputs": [
    {
     "name": "stdout",
     "output_type": "stream",
     "text": [
      "Saving model to ./distilbert_sarcasm_model2/\n",
      "Model and tokenizer saved!\n"
     ]
    }
   ],
   "source": [
    "# Specifica la directory di output\n",
    "output_dir = os.path.expanduser('./distilbert_sarcasm_model2/')\n",
    "\n",
    "# Crea la directory se non esiste già\n",
    "if not os.path.exists(output_dir):\n",
    "    os.makedirs(output_dir)\n",
    "\n",
    "print(f\"Saving model to {output_dir}\")\n",
    "\n",
    "# Salva il modello (incluso il controllo per modelli paralleli)\n",
    "model_to_save = model.module if hasattr(model, 'module') else model\n",
    "model_to_save.save_pretrained(output_dir)\n",
    "\n",
    "# Salva il tokenizer\n",
    "tokenizer.save_pretrained(output_dir)\n",
    "\n",
    "print(\"Model and tokenizer saved!\")\n"
   ]
  },
  {
   "cell_type": "markdown",
   "id": "850d0abe",
   "metadata": {},
   "source": [
    "#### Deployment"
   ]
  },
  {
   "cell_type": "code",
   "execution_count": 17,
   "id": "931dd360",
   "metadata": {},
   "outputs": [],
   "source": [
    "import torch\n",
    "from transformers import BertForSequenceClassification, BertTokenizer\n",
    "from sklearn.metrics import accuracy_score, precision_recall_fscore_support, confusion_matrix\n",
    "import numpy as np\n",
    "import matplotlib.pyplot as plt\n",
    "import seaborn as sns\n",
    "\n",
    "# Load the saved model and tokenizer\n",
    "\n",
    "model_path = './distilbert_sarcasm_model2/'\n",
    "model = DistilBertForSequenceClassification.from_pretrained(model_path)\n",
    "tokenizer = DistilBertTokenizer.from_pretrained(model_path)\n",
    "\n",
    "device = torch.device(\"cuda\" if torch.cuda.is_available() else \"cpu\")\n",
    "model.to(device)\n",
    "model.eval()\n",
    "\n",
    "def predict_sarcasm(text):\n",
    "    # Tokenize and encode the text\n",
    "    encoded_dict = tokenizer.encode_plus(\n",
    "        text,\n",
    "        add_special_tokens=True,\n",
    "        max_length=128,\n",
    "        padding='max_length',\n",
    "        return_attention_mask=True,\n",
    "        return_tensors='pt',\n",
    "        truncation=True\n",
    "    )\n",
    "    \n",
    "    input_ids = encoded_dict['input_ids'].to(device)\n",
    "    attention_mask = encoded_dict['attention_mask'].to(device)\n",
    "    \n",
    "    # Perform inference\n",
    "    with torch.no_grad():\n",
    "        outputs = model(input_ids, attention_mask=attention_mask)\n",
    "        logits = outputs.logits\n",
    "    \n",
    "    # Get prediction\n",
    "    prediction = torch.argmax(logits, dim=1).item()\n",
    "    probability = torch.nn.functional.softmax(logits, dim=1)[0][prediction].item()\n",
    "    \n",
    "    return \"Sarcastic\" if prediction == 1 else \"Not sarcastic\", probability"
   ]
  },
  {
   "cell_type": "code",
   "execution_count": 18,
   "id": "529c45a0",
   "metadata": {},
   "outputs": [
    {
     "name": "stdout",
     "output_type": "stream",
     "text": [
      "Predicting sarcasm for example texts:\n",
      "Text: I absolutely love waiting in long lines at the DMV.\n",
      "Prediction: Not sarcastic (Probability: 0.93)\n",
      "\n",
      "Text: The weather is beautiful today.\n",
      "Prediction: Not sarcastic (Probability: 0.74)\n",
      "\n",
      "Text: Wow, getting a root canal is so much fun!\n",
      "Prediction: Sarcastic (Probability: 0.99)\n",
      "\n",
      "Text: I'm excited about the new movie coming out.\n",
      "Prediction: Not sarcastic (Probability: 0.72)\n",
      "\n",
      "Text: This is the best day ever! My car broke down and I lost my wallet.\n",
      "Prediction: Sarcastic (Probability: 0.57)\n",
      "\n",
      "Text: Oh, great, another update that 'improves' the app by making it crash even more. Thanks, developers!\n",
      "Prediction: Sarcastic (Probability: 0.99)\n",
      "\n",
      "Text: Sure, because spending an entire day in line at the DMV is exactly how I wanted to spend my Saturday.\n",
      "Prediction: Sarcastic (Probability: 0.95)\n",
      "\n",
      "Text: Wow, this 50-page instruction manual for a simple coffee maker is exactly what I needed. So intuitive!\n",
      "Prediction: Sarcastic (Probability: 0.99)\n",
      "\n",
      "Text: Of course, I love when my internet cuts out right in the middle of a critical work meeting. Who doesn't?\n",
      "Prediction: Sarcastic (Probability: 0.96)\n",
      "\n",
      "Text: Yeah, because nothing says 'professionalism' like sending an email in Comic Sans.\n",
      "Prediction: Sarcastic (Probability: 0.99)\n",
      "\n",
      "Text: I think this new feature will be really useful for organizing my projects.\n",
      "Prediction: Not sarcastic (Probability: 0.99)\n",
      "\n",
      "Text: Thanks for the suggestion! I'll definitely check out that book.\n",
      "Prediction: Not sarcastic (Probability: 1.00)\n",
      "\n",
      "Text: I completely agree with you, the new season of the show is much better than the last one.\n",
      "Prediction: Not sarcastic (Probability: 0.98)\n",
      "\n",
      "Text: That recipe turned out great! Thanks for sharing it with us.\n",
      "Prediction: Not sarcastic (Probability: 0.91)\n",
      "\n",
      "Text: I had a great experience with their customer service, they were really helpful and responsive.\n",
      "Prediction: Sarcastic (Probability: 0.96)\n",
      "\n"
     ]
    }
   ],
   "source": [
    "# Test the model with some example texts\n",
    "example_texts = [\n",
    "    \"I absolutely love waiting in long lines at the DMV.\",\n",
    "    \"The weather is beautiful today.\",\n",
    "    \"Wow, getting a root canal is so much fun!\",\n",
    "    \"I'm excited about the new movie coming out.\",\n",
    "    \"This is the best day ever! My car broke down and I lost my wallet.\",\n",
    "    \"Oh, great, another update that 'improves' the app by making it crash even more. Thanks, developers!\",\n",
    "    \"Sure, because spending an entire day in line at the DMV is exactly how I wanted to spend my Saturday.\",\n",
    "    \"Wow, this 50-page instruction manual for a simple coffee maker is exactly what I needed. So intuitive!\",\n",
    "    \"Of course, I love when my internet cuts out right in the middle of a critical work meeting. Who doesn't?\",\n",
    "    \"Yeah, because nothing says 'professionalism' like sending an email in Comic Sans.\",\n",
    "    \"I think this new feature will be really useful for organizing my projects.\",\n",
    "    \"Thanks for the suggestion! I'll definitely check out that book.\",\n",
    "    \"I completely agree with you, the new season of the show is much better than the last one.\",\n",
    "    \"That recipe turned out great! Thanks for sharing it with us.\",\n",
    "    \"I had a great experience with their customer service, they were really helpful and responsive.\"\n",
    "]\n",
    "\n",
    "print(\"Predicting sarcasm for example texts:\")\n",
    "for text in example_texts:\n",
    "    prediction, probability = predict_sarcasm(text)\n",
    "    print(f\"Text: {text}\")\n",
    "    print(f\"Prediction: {prediction} (Probability: {probability:.2f})\")\n",
    "    print()"
   ]
  },
  {
   "cell_type": "markdown",
   "id": "31950737",
   "metadata": {},
   "source": [
    "#### Evaluation"
   ]
  },
  {
   "cell_type": "code",
   "execution_count": 19,
   "id": "64c964d2",
   "metadata": {},
   "outputs": [
    {
     "name": "stderr",
     "output_type": "stream",
     "text": [
      "Truncation was not explicitly activated but `max_length` is provided a specific value, please use `truncation=True` to explicitly truncate examples to max length. Defaulting to 'longest_first' truncation strategy. If you encode pairs of sequences (GLUE-style) with the tokenizer you can select this strategy more precisely by providing a specific strategy to `truncation`.\n",
      "C:\\Users\\andre\\anaconda3\\envs\\myenv\\Lib\\site-packages\\transformers\\tokenization_utils_base.py:2870: FutureWarning: The `pad_to_max_length` argument is deprecated and will be removed in a future version, use `padding=True` or `padding='longest'` to pad to the longest sequence in the batch, or use `padding='max_length'` to pad to a max length. In this case, you can give a specific length with `max_length` (e.g. `max_length=45`) or leave max_length to None to pad to the maximal input size of the model (e.g. 512 for Bert).\n",
      "  warnings.warn(\n"
     ]
    }
   ],
   "source": [
    "# Load and evaluate on test dataset\n",
    "test_data = pd.read_csv(\"test_sarcasm.csv\")\n",
    "\n",
    "def prepare_data(data):\n",
    "    input_ids = []\n",
    "    attention_masks = []\n",
    "    \n",
    "    for comment in data['comment']:\n",
    "        encoded_dict = tokenizer.encode_plus(\n",
    "            comment,\n",
    "            add_special_tokens=True,\n",
    "            max_length=128,\n",
    "            pad_to_max_length=True,\n",
    "            return_attention_mask=True,\n",
    "            return_tensors='pt',\n",
    "        )\n",
    "        input_ids.append(encoded_dict['input_ids'])\n",
    "        attention_masks.append(encoded_dict['attention_mask'])\n",
    "    \n",
    "    input_ids = torch.cat(input_ids, dim=0)\n",
    "    attention_masks = torch.cat(attention_masks, dim=0)\n",
    "    \n",
    "    return input_ids, attention_masks\n",
    "\n",
    "input_ids, attention_masks = prepare_data(test_data)\n",
    "labels = torch.tensor(test_data['label'].values)"
   ]
  },
  {
   "cell_type": "code",
   "execution_count": 20,
   "id": "1a1337c8",
   "metadata": {},
   "outputs": [],
   "source": [
    "# Create the DataLoader\n",
    "test_dataset = TensorDataset(input_ids, attention_masks, labels)\n",
    "test_dataloader = DataLoader(test_dataset, batch_size=32)\n",
    "\n",
    "# Evaluation\n",
    "predictions = []\n",
    "true_labels = []"
   ]
  },
  {
   "cell_type": "code",
   "execution_count": 21,
   "id": "27b6b241",
   "metadata": {},
   "outputs": [],
   "source": [
    "for batch in test_dataloader:\n",
    "    b_input_ids = batch[0].to(device)\n",
    "    b_attention_mask = batch[1].to(device)\n",
    "    b_labels = batch[2].to(device)\n",
    "    \n",
    "    with torch.no_grad():\n",
    "        outputs = model(b_input_ids, attention_mask=b_attention_mask)\n",
    "    \n",
    "    logits = outputs[0]\n",
    "    batch_predictions = torch.argmax(logits, dim=1).flatten()\n",
    "    \n",
    "    predictions.extend(batch_predictions.cpu().numpy())\n",
    "    true_labels.extend(b_labels.cpu().numpy())\n",
    "    "
   ]
  },
  {
   "cell_type": "code",
   "execution_count": 22,
   "id": "dd0a56d3",
   "metadata": {},
   "outputs": [
    {
     "name": "stdout",
     "output_type": "stream",
     "text": [
      "Model Performance on Test Set:\n",
      "Accuracy: 0.78\n",
      "Precision: 0.80\n",
      "Recall: 0.75\n",
      "F1 Score: 0.77\n"
     ]
    }
   ],
   "source": [
    "from sklearn.metrics import accuracy_score, precision_recall_fscore_support, confusion_matrix\n",
    "import numpy as np\n",
    "import matplotlib.pyplot as plt\n",
    "import seaborn as sns\n",
    "\n",
    "# Calculate metrics\n",
    "accuracy = accuracy_score(true_labels, predictions)\n",
    "precision, recall, f1, _ = precision_recall_fscore_support(true_labels, predictions, average='binary')\n",
    "\n",
    "print(\"Model Performance on Test Set:\")\n",
    "print(f\"Accuracy: {accuracy:.2f}\")\n",
    "print(f\"Precision: {precision:.2f}\")\n",
    "print(f\"Recall: {recall:.2f}\")\n",
    "print(f\"F1 Score: {f1:.2f}\")"
   ]
  },
  {
   "cell_type": "code",
   "execution_count": 23,
   "id": "acaa680b",
   "metadata": {},
   "outputs": [
    {
     "data": {
      "image/png": "[encoded data removed]",
      "text/plain": [
       "<Figure size 1000x700 with 2 Axes>"
      ]
     },
     "metadata": {},
     "output_type": "display_data"
    }
   ],
   "source": [
    "# Confusion Matrix\n",
    "cm = confusion_matrix(true_labels, predictions)\n",
    "plt.figure(figsize=(10,7))\n",
    "sns.heatmap(cm, annot=True, fmt='d', cmap='Blues')\n",
    "plt.title('Confusion Matrix')\n",
    "plt.ylabel('Actual')\n",
    "plt.xlabel('Predicted')\n",
    "plt.show()"
   ]
  },
  {
   "cell_type": "code",
   "execution_count": 24,
   "id": "83f8b70f",
   "metadata": {},
   "outputs": [
    {
     "data": {
      "image/png": "[encoded data removed]",
      "text/plain": [
       "<Figure size 640x480 with 1 Axes>"
      ]
     },
     "metadata": {},
     "output_type": "display_data"
    }
   ],
   "source": [
    "# ROC Curve\n",
    "from sklearn.metrics import roc_curve, auc\n",
    "fpr, tpr, _ = roc_curve(true_labels, predictions)\n",
    "roc_auc = auc(fpr, tpr)\n",
    "\n",
    "plt.figure()\n",
    "plt.plot(fpr, tpr, color='darkorange', lw=2, label=f'ROC curve (AUC = {roc_auc:.2f})')\n",
    "plt.plot([0, 1], [0, 1], color='navy', lw=2, linestyle='--')\n",
    "plt.xlim([0.0, 1.0])\n",
    "plt.ylim([0.0, 1.05])\n",
    "plt.xlabel('False Positive Rate')\n",
    "plt.ylabel('True Positive Rate')\n",
    "plt.title('Receiver Operating Characteristic (ROC) Curve')\n",
    "plt.legend(loc=\"lower right\")\n",
    "plt.show()"
   ]
  },
  {
   "cell_type": "code",
   "execution_count": null,
   "id": "086af353",
   "metadata": {},
   "outputs": [],
   "source": []
  }
 ],
 "metadata": {
  "kernelspec": {
   "display_name": "Python (myenv)",
   "language": "python",
   "name": "myenv"
  },
  "language_info": {
   "codemirror_mode": {
    "name": "ipython",
    "version": 3
   },
   "file_extension": ".py",
   "mimetype": "text/x-python",
   "name": "python",
   "nbconvert_exporter": "python",
   "pygments_lexer": "ipython3",
   "version": "3.11.9"
  }
 },
 "nbformat": 4,
 "nbformat_minor": 5
}
